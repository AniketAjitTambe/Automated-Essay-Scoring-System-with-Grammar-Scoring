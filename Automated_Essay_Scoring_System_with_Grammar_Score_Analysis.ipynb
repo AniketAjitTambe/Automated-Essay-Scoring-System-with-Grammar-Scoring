{
  "cells": [
    {
      "cell_type": "markdown",
      "metadata": {
        "id": "view-in-github",
        "colab_type": "text"
      },
      "source": [
        "<a href=\"https://colab.research.google.com/github/AniketAjitTambe/Automated-Essay-Scoring-System-with-Grammar-Scoring/blob/main/Automated_Essay_Scoring_System_with_Grammar_Score_Analysis.ipynb\" target=\"_parent\"><img src=\"https://colab.research.google.com/assets/colab-badge.svg\" alt=\"Open In Colab\"/></a>"
      ]
    },
    {
      "cell_type": "markdown",
      "metadata": {
        "id": "8aRxbUr7ja2Z"
      },
      "source": [
        "Extract clauses using spacy and use it for regression."
      ]
    },
    {
      "cell_type": "markdown",
      "metadata": {
        "id": "YLWEh_wCa4jj"
      },
      "source": [
        "# **Download and Install libraries**"
      ]
    },
    {
      "cell_type": "markdown",
      "metadata": {
        "id": "B2l3kYDXWDeF"
      },
      "source": [
        "Program Start"
      ]
    },
    {
      "cell_type": "code",
      "execution_count": null,
      "metadata": {
        "id": "beLmQ4E54CFw"
      },
      "outputs": [],
      "source": [
        "from datetime import datetime\n",
        "program_start_time = datetime.now()"
      ]
    },
    {
      "cell_type": "code",
      "execution_count": null,
      "metadata": {
        "colab": {
          "base_uri": "https://localhost:8080/"
        },
        "id": "U7LqzdBYa0tm",
        "outputId": "000c7add-a0b3-4a45-db54-f61177c49aad"
      },
      "outputs": [
        {
          "name": "stdout",
          "output_type": "stream",
          "text": [
            "Looking in indexes: https://pypi.org/simple, https://us-python.pkg.dev/colab-wheels/public/simple/\n",
            "Collecting transformers\n",
            "  Downloading transformers-4.25.1-py3-none-any.whl (5.8 MB)\n",
            "\u001b[K     |████████████████████████████████| 5.8 MB 5.0 MB/s \n",
            "\u001b[?25hRequirement already satisfied: packaging>=20.0 in /usr/local/lib/python3.8/dist-packages (from transformers) (21.3)\n",
            "Requirement already satisfied: tqdm>=4.27 in /usr/local/lib/python3.8/dist-packages (from transformers) (4.64.1)\n",
            "Requirement already satisfied: regex!=2019.12.17 in /usr/local/lib/python3.8/dist-packages (from transformers) (2022.6.2)\n",
            "Collecting huggingface-hub<1.0,>=0.10.0\n",
            "  Downloading huggingface_hub-0.11.1-py3-none-any.whl (182 kB)\n",
            "\u001b[K     |████████████████████████████████| 182 kB 74.9 MB/s \n",
            "\u001b[?25hRequirement already satisfied: filelock in /usr/local/lib/python3.8/dist-packages (from transformers) (3.8.0)\n",
            "Requirement already satisfied: pyyaml>=5.1 in /usr/local/lib/python3.8/dist-packages (from transformers) (6.0)\n",
            "Requirement already satisfied: requests in /usr/local/lib/python3.8/dist-packages (from transformers) (2.23.0)\n",
            "Requirement already satisfied: numpy>=1.17 in /usr/local/lib/python3.8/dist-packages (from transformers) (1.21.6)\n",
            "Collecting tokenizers!=0.11.3,<0.14,>=0.11.1\n",
            "  Downloading tokenizers-0.13.2-cp38-cp38-manylinux_2_17_x86_64.manylinux2014_x86_64.whl (7.6 MB)\n",
            "\u001b[K     |████████████████████████████████| 7.6 MB 72.7 MB/s \n",
            "\u001b[?25hRequirement already satisfied: typing-extensions>=3.7.4.3 in /usr/local/lib/python3.8/dist-packages (from huggingface-hub<1.0,>=0.10.0->transformers) (4.4.0)\n",
            "Requirement already satisfied: pyparsing!=3.0.5,>=2.0.2 in /usr/local/lib/python3.8/dist-packages (from packaging>=20.0->transformers) (3.0.9)\n",
            "Requirement already satisfied: urllib3!=1.25.0,!=1.25.1,<1.26,>=1.21.1 in /usr/local/lib/python3.8/dist-packages (from requests->transformers) (1.24.3)\n",
            "Requirement already satisfied: chardet<4,>=3.0.2 in /usr/local/lib/python3.8/dist-packages (from requests->transformers) (3.0.4)\n",
            "Requirement already satisfied: idna<3,>=2.5 in /usr/local/lib/python3.8/dist-packages (from requests->transformers) (2.10)\n",
            "Requirement already satisfied: certifi>=2017.4.17 in /usr/local/lib/python3.8/dist-packages (from requests->transformers) (2022.9.24)\n",
            "Installing collected packages: tokenizers, huggingface-hub, transformers\n",
            "Successfully installed huggingface-hub-0.11.1 tokenizers-0.13.2 transformers-4.25.1\n"
          ]
        }
      ],
      "source": [
        "! pip install transformers"
      ]
    },
    {
      "cell_type": "code",
      "execution_count": null,
      "metadata": {
        "colab": {
          "base_uri": "https://localhost:8080/"
        },
        "id": "POHEl5xcjn18",
        "outputId": "f3c1102a-f5ad-41b1-9e50-5ba47d251f99"
      },
      "outputs": [
        {
          "name": "stdout",
          "output_type": "stream",
          "text": [
            "Looking in indexes: https://pypi.org/simple, https://us-python.pkg.dev/colab-wheels/public/simple/\n",
            "Collecting sentence-transformers\n",
            "  Downloading sentence-transformers-2.2.2.tar.gz (85 kB)\n",
            "\u001b[K     |████████████████████████████████| 85 kB 3.0 MB/s \n",
            "\u001b[?25hRequirement already satisfied: transformers<5.0.0,>=4.6.0 in /usr/local/lib/python3.8/dist-packages (from sentence-transformers) (4.25.1)\n",
            "Requirement already satisfied: tqdm in /usr/local/lib/python3.8/dist-packages (from sentence-transformers) (4.64.1)\n",
            "Requirement already satisfied: torch>=1.6.0 in /usr/local/lib/python3.8/dist-packages (from sentence-transformers) (1.13.0+cu116)\n",
            "Requirement already satisfied: torchvision in /usr/local/lib/python3.8/dist-packages (from sentence-transformers) (0.14.0+cu116)\n",
            "Requirement already satisfied: numpy in /usr/local/lib/python3.8/dist-packages (from sentence-transformers) (1.21.6)\n",
            "Requirement already satisfied: scikit-learn in /usr/local/lib/python3.8/dist-packages (from sentence-transformers) (1.0.2)\n",
            "Requirement already satisfied: scipy in /usr/local/lib/python3.8/dist-packages (from sentence-transformers) (1.7.3)\n",
            "Requirement already satisfied: nltk in /usr/local/lib/python3.8/dist-packages (from sentence-transformers) (3.7)\n",
            "Collecting sentencepiece\n",
            "  Downloading sentencepiece-0.1.97-cp38-cp38-manylinux_2_17_x86_64.manylinux2014_x86_64.whl (1.3 MB)\n",
            "\u001b[K     |████████████████████████████████| 1.3 MB 32.4 MB/s \n",
            "\u001b[?25hRequirement already satisfied: huggingface-hub>=0.4.0 in /usr/local/lib/python3.8/dist-packages (from sentence-transformers) (0.11.1)\n",
            "Requirement already satisfied: packaging>=20.9 in /usr/local/lib/python3.8/dist-packages (from huggingface-hub>=0.4.0->sentence-transformers) (21.3)\n",
            "Requirement already satisfied: pyyaml>=5.1 in /usr/local/lib/python3.8/dist-packages (from huggingface-hub>=0.4.0->sentence-transformers) (6.0)\n",
            "Requirement already satisfied: typing-extensions>=3.7.4.3 in /usr/local/lib/python3.8/dist-packages (from huggingface-hub>=0.4.0->sentence-transformers) (4.4.0)\n",
            "Requirement already satisfied: requests in /usr/local/lib/python3.8/dist-packages (from huggingface-hub>=0.4.0->sentence-transformers) (2.23.0)\n",
            "Requirement already satisfied: filelock in /usr/local/lib/python3.8/dist-packages (from huggingface-hub>=0.4.0->sentence-transformers) (3.8.0)\n",
            "Requirement already satisfied: pyparsing!=3.0.5,>=2.0.2 in /usr/local/lib/python3.8/dist-packages (from packaging>=20.9->huggingface-hub>=0.4.0->sentence-transformers) (3.0.9)\n",
            "Requirement already satisfied: regex!=2019.12.17 in /usr/local/lib/python3.8/dist-packages (from transformers<5.0.0,>=4.6.0->sentence-transformers) (2022.6.2)\n",
            "Requirement already satisfied: tokenizers!=0.11.3,<0.14,>=0.11.1 in /usr/local/lib/python3.8/dist-packages (from transformers<5.0.0,>=4.6.0->sentence-transformers) (0.13.2)\n",
            "Requirement already satisfied: click in /usr/local/lib/python3.8/dist-packages (from nltk->sentence-transformers) (7.1.2)\n",
            "Requirement already satisfied: joblib in /usr/local/lib/python3.8/dist-packages (from nltk->sentence-transformers) (1.2.0)\n",
            "Requirement already satisfied: chardet<4,>=3.0.2 in /usr/local/lib/python3.8/dist-packages (from requests->huggingface-hub>=0.4.0->sentence-transformers) (3.0.4)\n",
            "Requirement already satisfied: certifi>=2017.4.17 in /usr/local/lib/python3.8/dist-packages (from requests->huggingface-hub>=0.4.0->sentence-transformers) (2022.9.24)\n",
            "Requirement already satisfied: urllib3!=1.25.0,!=1.25.1,<1.26,>=1.21.1 in /usr/local/lib/python3.8/dist-packages (from requests->huggingface-hub>=0.4.0->sentence-transformers) (1.24.3)\n",
            "Requirement already satisfied: idna<3,>=2.5 in /usr/local/lib/python3.8/dist-packages (from requests->huggingface-hub>=0.4.0->sentence-transformers) (2.10)\n",
            "Requirement already satisfied: threadpoolctl>=2.0.0 in /usr/local/lib/python3.8/dist-packages (from scikit-learn->sentence-transformers) (3.1.0)\n",
            "Requirement already satisfied: pillow!=8.3.*,>=5.3.0 in /usr/local/lib/python3.8/dist-packages (from torchvision->sentence-transformers) (7.1.2)\n",
            "Building wheels for collected packages: sentence-transformers\n",
            "  Building wheel for sentence-transformers (setup.py) ... \u001b[?25l\u001b[?25hdone\n",
            "  Created wheel for sentence-transformers: filename=sentence_transformers-2.2.2-py3-none-any.whl size=125938 sha256=ebda178612033195ad57f5cbc3131f461bfee2f5e43825c7304f65eb6f83c32a\n",
            "  Stored in directory: /root/.cache/pip/wheels/5e/6f/8c/d88aec621f3f542d26fac0342bef5e693335d125f4e54aeffe\n",
            "Successfully built sentence-transformers\n",
            "Installing collected packages: sentencepiece, sentence-transformers\n",
            "Successfully installed sentence-transformers-2.2.2 sentencepiece-0.1.97\n"
          ]
        }
      ],
      "source": [
        "pip install -U sentence-transformers"
      ]
    },
    {
      "cell_type": "code",
      "execution_count": null,
      "metadata": {
        "colab": {
          "base_uri": "https://localhost:8080/"
        },
        "id": "nX33cRK8Lit0",
        "outputId": "9b18222d-da00-4550-d165-4e8e8b594a48"
      },
      "outputs": [
        {
          "name": "stdout",
          "output_type": "stream",
          "text": [
            "Reading package lists... Done\n",
            "Building dependency tree       \n",
            "Reading state information... Done\n",
            "The following package was automatically installed and is no longer required:\n",
            "  libnvidia-common-460\n",
            "Use 'sudo apt autoremove' to remove it.\n",
            "The following additional packages will be installed:\n",
            "  swig3.0\n",
            "Suggested packages:\n",
            "  swig-doc swig-examples swig3.0-examples swig3.0-doc\n",
            "The following NEW packages will be installed:\n",
            "  swig swig3.0\n",
            "0 upgraded, 2 newly installed, 0 to remove and 20 not upgraded.\n",
            "Need to get 1,100 kB of archives.\n",
            "After this operation, 5,822 kB of additional disk space will be used.\n",
            "Get:1 http://archive.ubuntu.com/ubuntu bionic/universe amd64 swig3.0 amd64 3.0.12-1 [1,094 kB]\n",
            "Get:2 http://archive.ubuntu.com/ubuntu bionic/universe amd64 swig amd64 3.0.12-1 [6,460 B]\n",
            "Fetched 1,100 kB in 1s (1,120 kB/s)\n",
            "debconf: unable to initialize frontend: Dialog\n",
            "debconf: (No usable dialog-like program is installed, so the dialog based frontend cannot be used. at /usr/share/perl5/Debconf/FrontEnd/Dialog.pm line 76, <> line 2.)\n",
            "debconf: falling back to frontend: Readline\n",
            "debconf: unable to initialize frontend: Readline\n",
            "debconf: (This frontend requires a controlling tty.)\n",
            "debconf: falling back to frontend: Teletype\n",
            "dpkg-preconfigure: unable to re-open stdin: \n",
            "Selecting previously unselected package swig3.0.\n",
            "(Reading database ... 124013 files and directories currently installed.)\n",
            "Preparing to unpack .../swig3.0_3.0.12-1_amd64.deb ...\n",
            "Unpacking swig3.0 (3.0.12-1) ...\n",
            "Selecting previously unselected package swig.\n",
            "Preparing to unpack .../swig_3.0.12-1_amd64.deb ...\n",
            "Unpacking swig (3.0.12-1) ...\n",
            "Setting up swig3.0 (3.0.12-1) ...\n",
            "Setting up swig (3.0.12-1) ...\n",
            "Processing triggers for man-db (2.8.3-2ubuntu0.1) ...\n"
          ]
        }
      ],
      "source": [
        "!sudo apt-get install swig"
      ]
    },
    {
      "cell_type": "code",
      "execution_count": null,
      "metadata": {
        "colab": {
          "base_uri": "https://localhost:8080/"
        },
        "id": "kyBCXO6xM6Hh",
        "outputId": "1f4aceda-ee48-43b6-e5cf-8c9572fc5b45"
      },
      "outputs": [
        {
          "name": "stdout",
          "output_type": "stream",
          "text": [
            "Looking in indexes: https://pypi.org/simple, https://us-python.pkg.dev/colab-wheels/public/simple/\n",
            "Collecting jamspell\n",
            "  Downloading jamspell-0.0.12.tar.gz (174 kB)\n",
            "\u001b[K     |████████████████████████████████| 174 kB 5.2 MB/s \n",
            "\u001b[?25hBuilding wheels for collected packages: jamspell\n",
            "  Building wheel for jamspell (setup.py) ... \u001b[?25l\u001b[?25hdone\n",
            "  Created wheel for jamspell: filename=jamspell-0.0.12-cp38-cp38-linux_x86_64.whl size=1345891 sha256=3c4a8c677ae426844847708d94b3586a5404a5e726cd37f8ba485e12d6e98afb\n",
            "  Stored in directory: /root/.cache/pip/wheels/a0/0e/d3/b645dfed8ed118ee3adad4eb61787ad0e558369f4728ea5a8b\n",
            "Successfully built jamspell\n",
            "Installing collected packages: jamspell\n",
            "Successfully installed jamspell-0.0.12\n"
          ]
        }
      ],
      "source": [
        "!sudo pip install jamspell"
      ]
    },
    {
      "cell_type": "markdown",
      "metadata": {
        "id": "FkjKxWOEbUT4"
      },
      "source": [
        "# **Import libraries and Dependenceies**"
      ]
    },
    {
      "cell_type": "code",
      "execution_count": null,
      "metadata": {
        "colab": {
          "base_uri": "https://localhost:8080/"
        },
        "id": "4pLR6i3dcFL8",
        "outputId": "d0567ae3-b432-4628-e5eb-4ce210a5e35e"
      },
      "outputs": [
        {
          "name": "stderr",
          "output_type": "stream",
          "text": [
            "[nltk_data] Downloading package punkt to /root/nltk_data...\n",
            "[nltk_data]   Unzipping tokenizers/punkt.zip.\n"
          ]
        },
        {
          "name": "stdout",
          "output_type": "stream",
          "text": [
            "\u001b[38;5;3m⚠ As of spaCy v3.0, shortcuts like 'en' are deprecated. Please use the\n",
            "full pipeline package name 'en_core_web_sm' instead.\u001b[0m\n",
            "\u001b[38;5;2m✔ Download and installation successful\u001b[0m\n",
            "You can now load the package via spacy.load('en_core_web_sm')\n"
          ]
        }
      ],
      "source": [
        "#Import Libraries\n",
        "import os\n",
        "import pandas as pd\n",
        "import numpy as np\n",
        "\n",
        "import nltk\n",
        "from nltk.tokenize import word_tokenize\n",
        "from nltk.corpus import stopwords\n",
        "nltk.download('punkt')\n",
        "\n",
        "from sklearn.model_selection import train_test_split\n",
        "from sklearn.model_selection import KFold\n",
        "from sklearn.metrics import cohen_kappa_score\n",
        "from sklearn.metrics import matthews_corrcoef\n",
        "from sklearn.metrics import accuracy_score\n",
        "\n",
        "import string\n",
        "import re\n",
        "import time\n",
        "import datetime\n",
        "import jamspell\n",
        "import pickle\n",
        "import os\n",
        "\n",
        "import torch\n",
        "import torch.nn as nn\n",
        "import torch.nn.functional as F\n",
        "import torch.optim as optim\n",
        "from torch.utils.data import DataLoader, RandomSampler, SequentialSampler\n",
        "from torch.utils.data import TensorDataset, random_split\n",
        "\n",
        "import random\n",
        "import multiprocessing\n",
        "import matplotlib.pyplot as plt\n",
        "import seaborn as sns\n",
        "%matplotlib notebook\n",
        "%matplotlib inline\n",
        "\n",
        "\n",
        "import tensorflow as tf\n",
        "import transformers as ppb\n",
        "from transformers import BertForSequenceClassification\n",
        "from transformers import AdamW\n",
        "from transformers import BertConfig\n",
        "from transformers import BertTokenizer\n",
        "from transformers import get_linear_schedule_with_warmup\n",
        "\n",
        "import spacy.cli \n",
        "spacy.cli.download(\"en\")\n",
        "from difflib import SequenceMatcher\n",
        "\n",
        "from google.colab import drive\n",
        "import pandas as pd\n",
        "drive.mount('/content/drive')"
      ]
    },
    {
      "cell_type": "code",
      "execution_count": null,
      "metadata": {
        "id": "8GT-xOEOhsZV"
      },
      "outputs": [],
      "source": [
        "def print_banner(str):\n",
        "  print(\"=====================================================================================\")\n",
        "  print(str)\n",
        "  print(\"=====================================================================================\")\n",
        "\n",
        "def print_dashline():\n",
        "  print(\"=====================================================================================\")\n",
        "\n",
        "def score_range(a):\n",
        "  if a>10:\n",
        "    return 10;\n",
        "  elif a<0:\n",
        "    return 0\n",
        "  else:\n",
        "    return a\n",
        "\n",
        "def clean_essay(string):\n",
        "  result = re.sub(r' @',' ',string)\n",
        "  return result"
      ]
    },
    {
      "cell_type": "code",
      "execution_count": null,
      "metadata": {
        "colab": {
          "base_uri": "https://localhost:8080/"
        },
        "id": "DL4hfjwP8gNz",
        "outputId": "051d42c0-1925-4be1-9676-f2c3a3503319"
      },
      "outputs": [
        {
          "output_type": "stream",
          "name": "stdout",
          "text": [
            "Version Number :  _vF\n"
          ]
        }
      ],
      "source": [
        "#Version number\n",
        "version_number = \"F\"\n",
        "version = \"_v\"+str(version_number)\n",
        "print(\"Version Number : \",version)"
      ]
    },
    {
      "cell_type": "code",
      "execution_count": null,
      "metadata": {
        "id": "cZuJbNRPezr2"
      },
      "outputs": [],
      "source": [
        "output_dir = '/content/drive/MyDrive/Colab Notebooks/AES/Saved Models/AES Models'"
      ]
    },
    {
      "cell_type": "code",
      "source": [
        "\n",
        "os.path.isdir(output_dir+'/Grammar_Score_Model/')"
      ],
      "metadata": {
        "colab": {
          "base_uri": "https://localhost:8080/"
        },
        "id": "nSryj0FLF5Fb",
        "outputId": "bbd53f76-933d-404d-8bb7-0687b53adb1f"
      },
      "execution_count": null,
      "outputs": [
        {
          "output_type": "execute_result",
          "data": {
            "text/plain": [
              "True"
            ]
          },
          "metadata": {},
          "execution_count": 5
        }
      ]
    },
    {
      "cell_type": "code",
      "execution_count": null,
      "metadata": {
        "id": "-fED0k2ROhV2",
        "colab": {
          "base_uri": "https://localhost:8080/"
        },
        "outputId": "15e9eb11-59e9-4160-f99b-c338a654fdf8"
      },
      "outputs": [
        {
          "output_type": "stream",
          "name": "stdout",
          "text": [
            "1 , 1 , 1\n"
          ]
        }
      ],
      "source": [
        "#Want to save newly trainned  Models?\n",
        "structure_epochs = 70\n",
        "grammar_epochs = 4\n",
        "gsm_output_dir = output_dir+'/Grammar_Score_Model/'\n",
        "ssm_output_dir = output_dir+'/Structure_Score_Model/'\n",
        "\n",
        "if not os.path.isdir(ssm_output_dir) :\n",
        "  structure_save_option = 1\n",
        "else:\n",
        "  structure_save_option = 0\n",
        "\n",
        "if not os.path.isdir(gsm_output_dir) :\n",
        "  grammar_save_option = grammar_logreg_save_option = 1\n",
        "else:\n",
        "  grammar_save_option = grammar_logreg_save_option = 0\n",
        "\n",
        "print(structure_save_option,\",\",grammar_save_option,\",\",grammar_logreg_save_option)\n",
        "\n",
        "\n",
        "#model names\n",
        "ssm_model_name = \"ssm_model\"+version\n",
        "gsm_gc_model_name = \"gsm_gc_model\"+version\n",
        "gsm_reg_model_name = \"gsm_reg_model\"+version"
      ]
    },
    {
      "cell_type": "code",
      "execution_count": null,
      "metadata": {
        "colab": {
          "base_uri": "https://localhost:8080/"
        },
        "id": "Ovul7nTwgRMm",
        "outputId": "b3f53b98-00ef-48ff-ddb4-365185ce1d1f"
      },
      "outputs": [
        {
          "name": "stdout",
          "output_type": "stream",
          "text": [
            "There are 1 GPU(s) available.\n",
            "We will use the GPU: Tesla T4\n"
          ]
        }
      ],
      "source": [
        "#To use CUDA\n",
        "#import torch\n",
        "\n",
        "# If there's a GPU available...\n",
        "if torch.cuda.is_available():    \n",
        "\n",
        "    # Tell PyTorch to use the GPU.    \n",
        "    device = torch.device(\"cuda\")\n",
        "\n",
        "    print('There are %d GPU(s) available.' % torch.cuda.device_count())\n",
        "\n",
        "    print('We will use the GPU:', torch.cuda.get_device_name(0))\n",
        "\n",
        "# If not...\n",
        "else:\n",
        "    print('No GPU available, using the CPU instead.')\n",
        "    device = torch.device(\"cpu\")"
      ]
    },
    {
      "cell_type": "markdown",
      "metadata": {
        "id": "U-ng1GujbVei"
      },
      "source": [
        "# **Data Set Preparation and Processing**"
      ]
    },
    {
      "cell_type": "code",
      "execution_count": null,
      "metadata": {
        "colab": {
          "base_uri": "https://localhost:8080/"
        },
        "id": "x8ooUT_zcO57",
        "outputId": "edb9569d-29f1-42fd-f0d9-5669e2fcda0e"
      },
      "outputs": [
        {
          "output_type": "stream",
          "name": "stdout",
          "text": [
            "Mounted at /content/drive\n"
          ]
        }
      ],
      "source": [
        "#DataSet Preparation with normalised marks\n",
        "#For Data Set\n",
        "from google.colab import drive\n",
        "import pandas as pd\n",
        "drive.mount('/content/drive')"
      ]
    },
    {
      "cell_type": "markdown",
      "metadata": {
        "id": "Y8O1x5oSDd_e"
      },
      "source": [
        "![Data Set.png](data:image/png;base64,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)"
      ]
    },
    {
      "cell_type": "code",
      "execution_count": null,
      "metadata": {
        "colab": {
          "base_uri": "https://localhost:8080/"
        },
        "id": "aNQE-sjH2re2",
        "outputId": "b6f2a0c7-c233-42c5-ca42-edefeb1fb6bd"
      },
      "outputs": [
        {
          "data": {
            "text/html": [
              "\n",
              "  <div id=\"df-5f283859-d502-49c7-a8b6-98d81e126437\">\n",
              "    <div class=\"colab-df-container\">\n",
              "      <div>\n",
              "<style scoped>\n",
              "    .dataframe tbody tr th:only-of-type {\n",
              "        vertical-align: middle;\n",
              "    }\n",
              "\n",
              "    .dataframe tbody tr th {\n",
              "        vertical-align: top;\n",
              "    }\n",
              "\n",
              "    .dataframe thead th {\n",
              "        text-align: right;\n",
              "    }\n",
              "</style>\n",
              "<table border=\"1\" class=\"dataframe\">\n",
              "  <thead>\n",
              "    <tr style=\"text-align: right;\">\n",
              "      <th></th>\n",
              "      <th>essay_id</th>\n",
              "      <th>essay_set</th>\n",
              "      <th>essay</th>\n",
              "      <th>rater3_domain1</th>\n",
              "      <th>rater1_domain2</th>\n",
              "      <th>rater2_domain2</th>\n",
              "      <th>domain2_score</th>\n",
              "      <th>rater1_trait1</th>\n",
              "      <th>rater1_trait2</th>\n",
              "      <th>rater1_trait3</th>\n",
              "      <th>...</th>\n",
              "      <th>rater2_domain1</th>\n",
              "      <th>domain1_score</th>\n",
              "      <th>rater2_trait5</th>\n",
              "      <th>rater2_trait6</th>\n",
              "      <th>rater3_trait1</th>\n",
              "      <th>rater3_trait2</th>\n",
              "      <th>rater3_trait3</th>\n",
              "      <th>rater3_trait4</th>\n",
              "      <th>rater3_trait5</th>\n",
              "      <th>rater3_trait6</th>\n",
              "    </tr>\n",
              "  </thead>\n",
              "  <tbody>\n",
              "    <tr>\n",
              "      <th>0</th>\n",
              "      <td>17834</td>\n",
              "      <td>7</td>\n",
              "      <td>Patience is when your waiting .I was patience ...</td>\n",
              "      <td>NaN</td>\n",
              "      <td>NaN</td>\n",
              "      <td>NaN</td>\n",
              "      <td>NaN</td>\n",
              "      <td>1</td>\n",
              "      <td>2</td>\n",
              "      <td>2</td>\n",
              "      <td>...</td>\n",
              "      <td>7</td>\n",
              "      <td>15</td>\n",
              "      <td>NaN</td>\n",
              "      <td>NaN</td>\n",
              "      <td>NaN</td>\n",
              "      <td>NaN</td>\n",
              "      <td>NaN</td>\n",
              "      <td>NaN</td>\n",
              "      <td>NaN</td>\n",
              "      <td>NaN</td>\n",
              "    </tr>\n",
              "    <tr>\n",
              "      <th>1</th>\n",
              "      <td>17836</td>\n",
              "      <td>7</td>\n",
              "      <td>I am not a patience person, like I can’t sit i...</td>\n",
              "      <td>NaN</td>\n",
              "      <td>NaN</td>\n",
              "      <td>NaN</td>\n",
              "      <td>NaN</td>\n",
              "      <td>1</td>\n",
              "      <td>1</td>\n",
              "      <td>2</td>\n",
              "      <td>...</td>\n",
              "      <td>7</td>\n",
              "      <td>13</td>\n",
              "      <td>NaN</td>\n",
              "      <td>NaN</td>\n",
              "      <td>NaN</td>\n",
              "      <td>NaN</td>\n",
              "      <td>NaN</td>\n",
              "      <td>NaN</td>\n",
              "      <td>NaN</td>\n",
              "      <td>NaN</td>\n",
              "    </tr>\n",
              "    <tr>\n",
              "      <th>2</th>\n",
              "      <td>17837</td>\n",
              "      <td>7</td>\n",
              "      <td>One day I was at basketball practice and I was...</td>\n",
              "      <td>NaN</td>\n",
              "      <td>NaN</td>\n",
              "      <td>NaN</td>\n",
              "      <td>NaN</td>\n",
              "      <td>1</td>\n",
              "      <td>2</td>\n",
              "      <td>2</td>\n",
              "      <td>...</td>\n",
              "      <td>8</td>\n",
              "      <td>15</td>\n",
              "      <td>NaN</td>\n",
              "      <td>NaN</td>\n",
              "      <td>NaN</td>\n",
              "      <td>NaN</td>\n",
              "      <td>NaN</td>\n",
              "      <td>NaN</td>\n",
              "      <td>NaN</td>\n",
              "      <td>NaN</td>\n",
              "    </tr>\n",
              "    <tr>\n",
              "      <th>3</th>\n",
              "      <td>17838</td>\n",
              "      <td>7</td>\n",
              "      <td>I going to write about a time when I went to t...</td>\n",
              "      <td>NaN</td>\n",
              "      <td>NaN</td>\n",
              "      <td>NaN</td>\n",
              "      <td>NaN</td>\n",
              "      <td>2</td>\n",
              "      <td>2</td>\n",
              "      <td>2</td>\n",
              "      <td>...</td>\n",
              "      <td>9</td>\n",
              "      <td>17</td>\n",
              "      <td>NaN</td>\n",
              "      <td>NaN</td>\n",
              "      <td>NaN</td>\n",
              "      <td>NaN</td>\n",
              "      <td>NaN</td>\n",
              "      <td>NaN</td>\n",
              "      <td>NaN</td>\n",
              "      <td>NaN</td>\n",
              "    </tr>\n",
              "    <tr>\n",
              "      <th>4</th>\n",
              "      <td>17839</td>\n",
              "      <td>7</td>\n",
              "      <td>It can be very hard for somebody to be patient...</td>\n",
              "      <td>NaN</td>\n",
              "      <td>NaN</td>\n",
              "      <td>NaN</td>\n",
              "      <td>NaN</td>\n",
              "      <td>1</td>\n",
              "      <td>2</td>\n",
              "      <td>2</td>\n",
              "      <td>...</td>\n",
              "      <td>6</td>\n",
              "      <td>13</td>\n",
              "      <td>NaN</td>\n",
              "      <td>NaN</td>\n",
              "      <td>NaN</td>\n",
              "      <td>NaN</td>\n",
              "      <td>NaN</td>\n",
              "      <td>NaN</td>\n",
              "      <td>NaN</td>\n",
              "      <td>NaN</td>\n",
              "    </tr>\n",
              "    <tr>\n",
              "      <th>...</th>\n",
              "      <td>...</td>\n",
              "      <td>...</td>\n",
              "      <td>...</td>\n",
              "      <td>...</td>\n",
              "      <td>...</td>\n",
              "      <td>...</td>\n",
              "      <td>...</td>\n",
              "      <td>...</td>\n",
              "      <td>...</td>\n",
              "      <td>...</td>\n",
              "      <td>...</td>\n",
              "      <td>...</td>\n",
              "      <td>...</td>\n",
              "      <td>...</td>\n",
              "      <td>...</td>\n",
              "      <td>...</td>\n",
              "      <td>...</td>\n",
              "      <td>...</td>\n",
              "      <td>...</td>\n",
              "      <td>...</td>\n",
              "      <td>...</td>\n",
              "    </tr>\n",
              "    <tr>\n",
              "      <th>995</th>\n",
              "      <td>18936</td>\n",
              "      <td>7</td>\n",
              "      <td>One time when I was patient, I got rewarded. J...</td>\n",
              "      <td>NaN</td>\n",
              "      <td>NaN</td>\n",
              "      <td>NaN</td>\n",
              "      <td>NaN</td>\n",
              "      <td>2</td>\n",
              "      <td>2</td>\n",
              "      <td>2</td>\n",
              "      <td>...</td>\n",
              "      <td>7</td>\n",
              "      <td>15</td>\n",
              "      <td>NaN</td>\n",
              "      <td>NaN</td>\n",
              "      <td>NaN</td>\n",
              "      <td>NaN</td>\n",
              "      <td>NaN</td>\n",
              "      <td>NaN</td>\n",
              "      <td>NaN</td>\n",
              "      <td>NaN</td>\n",
              "    </tr>\n",
              "    <tr>\n",
              "      <th>996</th>\n",
              "      <td>18937</td>\n",
              "      <td>7</td>\n",
              "      <td>My mom and I were were on are way to are house...</td>\n",
              "      <td>NaN</td>\n",
              "      <td>NaN</td>\n",
              "      <td>NaN</td>\n",
              "      <td>NaN</td>\n",
              "      <td>2</td>\n",
              "      <td>2</td>\n",
              "      <td>1</td>\n",
              "      <td>...</td>\n",
              "      <td>4</td>\n",
              "      <td>10</td>\n",
              "      <td>NaN</td>\n",
              "      <td>NaN</td>\n",
              "      <td>NaN</td>\n",
              "      <td>NaN</td>\n",
              "      <td>NaN</td>\n",
              "      <td>NaN</td>\n",
              "      <td>NaN</td>\n",
              "      <td>NaN</td>\n",
              "    </tr>\n",
              "    <tr>\n",
              "      <th>997</th>\n",
              "      <td>18938</td>\n",
              "      <td>7</td>\n",
              "      <td>One time I got birthday money I wanted to buy ...</td>\n",
              "      <td>NaN</td>\n",
              "      <td>NaN</td>\n",
              "      <td>NaN</td>\n",
              "      <td>NaN</td>\n",
              "      <td>2</td>\n",
              "      <td>2</td>\n",
              "      <td>2</td>\n",
              "      <td>...</td>\n",
              "      <td>8</td>\n",
              "      <td>17</td>\n",
              "      <td>NaN</td>\n",
              "      <td>NaN</td>\n",
              "      <td>NaN</td>\n",
              "      <td>NaN</td>\n",
              "      <td>NaN</td>\n",
              "      <td>NaN</td>\n",
              "      <td>NaN</td>\n",
              "      <td>NaN</td>\n",
              "    </tr>\n",
              "    <tr>\n",
              "      <th>998</th>\n",
              "      <td>18939</td>\n",
              "      <td>7</td>\n",
              "      <td>Patience is, in definition, being understandin...</td>\n",
              "      <td>NaN</td>\n",
              "      <td>NaN</td>\n",
              "      <td>NaN</td>\n",
              "      <td>NaN</td>\n",
              "      <td>1</td>\n",
              "      <td>1</td>\n",
              "      <td>1</td>\n",
              "      <td>...</td>\n",
              "      <td>5</td>\n",
              "      <td>10</td>\n",
              "      <td>NaN</td>\n",
              "      <td>NaN</td>\n",
              "      <td>NaN</td>\n",
              "      <td>NaN</td>\n",
              "      <td>NaN</td>\n",
              "      <td>NaN</td>\n",
              "      <td>NaN</td>\n",
              "      <td>NaN</td>\n",
              "    </tr>\n",
              "    <tr>\n",
              "      <th>999</th>\n",
              "      <td>18940</td>\n",
              "      <td>7</td>\n",
              "      <td>One time I had to wait very patiently. One aft...</td>\n",
              "      <td>NaN</td>\n",
              "      <td>NaN</td>\n",
              "      <td>NaN</td>\n",
              "      <td>NaN</td>\n",
              "      <td>2</td>\n",
              "      <td>3</td>\n",
              "      <td>2</td>\n",
              "      <td>...</td>\n",
              "      <td>9</td>\n",
              "      <td>18</td>\n",
              "      <td>NaN</td>\n",
              "      <td>NaN</td>\n",
              "      <td>NaN</td>\n",
              "      <td>NaN</td>\n",
              "      <td>NaN</td>\n",
              "      <td>NaN</td>\n",
              "      <td>NaN</td>\n",
              "      <td>NaN</td>\n",
              "    </tr>\n",
              "  </tbody>\n",
              "</table>\n",
              "<p>1000 rows × 28 columns</p>\n",
              "</div>\n",
              "      <button class=\"colab-df-convert\" onclick=\"convertToInteractive('df-5f283859-d502-49c7-a8b6-98d81e126437')\"\n",
              "              title=\"Convert this dataframe to an interactive table.\"\n",
              "              style=\"display:none;\">\n",
              "        \n",
              "  <svg xmlns=\"http://www.w3.org/2000/svg\" height=\"24px\"viewBox=\"0 0 24 24\"\n",
              "       width=\"24px\">\n",
              "    <path d=\"M0 0h24v24H0V0z\" fill=\"none\"/>\n",
              "    <path d=\"M18.56 5.44l.94 2.06.94-2.06 2.06-.94-2.06-.94-.94-2.06-.94 2.06-2.06.94zm-11 1L8.5 8.5l.94-2.06 2.06-.94-2.06-.94L8.5 2.5l-.94 2.06-2.06.94zm10 10l.94 2.06.94-2.06 2.06-.94-2.06-.94-.94-2.06-.94 2.06-2.06.94z\"/><path d=\"M17.41 7.96l-1.37-1.37c-.4-.4-.92-.59-1.43-.59-.52 0-1.04.2-1.43.59L10.3 9.45l-7.72 7.72c-.78.78-.78 2.05 0 2.83L4 21.41c.39.39.9.59 1.41.59.51 0 1.02-.2 1.41-.59l7.78-7.78 2.81-2.81c.8-.78.8-2.07 0-2.86zM5.41 20L4 18.59l7.72-7.72 1.47 1.35L5.41 20z\"/>\n",
              "  </svg>\n",
              "      </button>\n",
              "      \n",
              "  <style>\n",
              "    .colab-df-container {\n",
              "      display:flex;\n",
              "      flex-wrap:wrap;\n",
              "      gap: 12px;\n",
              "    }\n",
              "\n",
              "    .colab-df-convert {\n",
              "      background-color: #E8F0FE;\n",
              "      border: none;\n",
              "      border-radius: 50%;\n",
              "      cursor: pointer;\n",
              "      display: none;\n",
              "      fill: #1967D2;\n",
              "      height: 32px;\n",
              "      padding: 0 0 0 0;\n",
              "      width: 32px;\n",
              "    }\n",
              "\n",
              "    .colab-df-convert:hover {\n",
              "      background-color: #E2EBFA;\n",
              "      box-shadow: 0px 1px 2px rgba(60, 64, 67, 0.3), 0px 1px 3px 1px rgba(60, 64, 67, 0.15);\n",
              "      fill: #174EA6;\n",
              "    }\n",
              "\n",
              "    [theme=dark] .colab-df-convert {\n",
              "      background-color: #3B4455;\n",
              "      fill: #D2E3FC;\n",
              "    }\n",
              "\n",
              "    [theme=dark] .colab-df-convert:hover {\n",
              "      background-color: #434B5C;\n",
              "      box-shadow: 0px 1px 3px 1px rgba(0, 0, 0, 0.15);\n",
              "      filter: drop-shadow(0px 1px 2px rgba(0, 0, 0, 0.3));\n",
              "      fill: #FFFFFF;\n",
              "    }\n",
              "  </style>\n",
              "\n",
              "      <script>\n",
              "        const buttonEl =\n",
              "          document.querySelector('#df-5f283859-d502-49c7-a8b6-98d81e126437 button.colab-df-convert');\n",
              "        buttonEl.style.display =\n",
              "          google.colab.kernel.accessAllowed ? 'block' : 'none';\n",
              "\n",
              "        async function convertToInteractive(key) {\n",
              "          const element = document.querySelector('#df-5f283859-d502-49c7-a8b6-98d81e126437');\n",
              "          const dataTable =\n",
              "            await google.colab.kernel.invokeFunction('convertToInteractive',\n",
              "                                                     [key], {});\n",
              "          if (!dataTable) return;\n",
              "\n",
              "          const docLinkHtml = 'Like what you see? Visit the ' +\n",
              "            '<a target=\"_blank\" href=https://colab.research.google.com/notebooks/data_table.ipynb>data table notebook</a>'\n",
              "            + ' to learn more about interactive tables.';\n",
              "          element.innerHTML = '';\n",
              "          dataTable['output_type'] = 'display_data';\n",
              "          await google.colab.output.renderOutput(dataTable, element);\n",
              "          const docLink = document.createElement('div');\n",
              "          docLink.innerHTML = docLinkHtml;\n",
              "          element.appendChild(docLink);\n",
              "        }\n",
              "      </script>\n",
              "    </div>\n",
              "  </div>\n",
              "  "
            ],
            "text/plain": [
              "     essay_id  essay_set                                              essay  \\\n",
              "0       17834          7  Patience is when your waiting .I was patience ...   \n",
              "1       17836          7  I am not a patience person, like I can’t sit i...   \n",
              "2       17837          7  One day I was at basketball practice and I was...   \n",
              "3       17838          7  I going to write about a time when I went to t...   \n",
              "4       17839          7  It can be very hard for somebody to be patient...   \n",
              "..        ...        ...                                                ...   \n",
              "995     18936          7  One time when I was patient, I got rewarded. J...   \n",
              "996     18937          7  My mom and I were were on are way to are house...   \n",
              "997     18938          7  One time I got birthday money I wanted to buy ...   \n",
              "998     18939          7  Patience is, in definition, being understandin...   \n",
              "999     18940          7  One time I had to wait very patiently. One aft...   \n",
              "\n",
              "     rater3_domain1  rater1_domain2  rater2_domain2  domain2_score  \\\n",
              "0               NaN             NaN             NaN            NaN   \n",
              "1               NaN             NaN             NaN            NaN   \n",
              "2               NaN             NaN             NaN            NaN   \n",
              "3               NaN             NaN             NaN            NaN   \n",
              "4               NaN             NaN             NaN            NaN   \n",
              "..              ...             ...             ...            ...   \n",
              "995             NaN             NaN             NaN            NaN   \n",
              "996             NaN             NaN             NaN            NaN   \n",
              "997             NaN             NaN             NaN            NaN   \n",
              "998             NaN             NaN             NaN            NaN   \n",
              "999             NaN             NaN             NaN            NaN   \n",
              "\n",
              "     rater1_trait1  rater1_trait2  rater1_trait3  ...  rater2_domain1  \\\n",
              "0                1              2              2  ...               7   \n",
              "1                1              1              2  ...               7   \n",
              "2                1              2              2  ...               8   \n",
              "3                2              2              2  ...               9   \n",
              "4                1              2              2  ...               6   \n",
              "..             ...            ...            ...  ...             ...   \n",
              "995              2              2              2  ...               7   \n",
              "996              2              2              1  ...               4   \n",
              "997              2              2              2  ...               8   \n",
              "998              1              1              1  ...               5   \n",
              "999              2              3              2  ...               9   \n",
              "\n",
              "     domain1_score  rater2_trait5  rater2_trait6  rater3_trait1  \\\n",
              "0               15            NaN            NaN            NaN   \n",
              "1               13            NaN            NaN            NaN   \n",
              "2               15            NaN            NaN            NaN   \n",
              "3               17            NaN            NaN            NaN   \n",
              "4               13            NaN            NaN            NaN   \n",
              "..             ...            ...            ...            ...   \n",
              "995             15            NaN            NaN            NaN   \n",
              "996             10            NaN            NaN            NaN   \n",
              "997             17            NaN            NaN            NaN   \n",
              "998             10            NaN            NaN            NaN   \n",
              "999             18            NaN            NaN            NaN   \n",
              "\n",
              "     rater3_trait2  rater3_trait3  rater3_trait4  rater3_trait5  rater3_trait6  \n",
              "0              NaN            NaN            NaN            NaN            NaN  \n",
              "1              NaN            NaN            NaN            NaN            NaN  \n",
              "2              NaN            NaN            NaN            NaN            NaN  \n",
              "3              NaN            NaN            NaN            NaN            NaN  \n",
              "4              NaN            NaN            NaN            NaN            NaN  \n",
              "..             ...            ...            ...            ...            ...  \n",
              "995            NaN            NaN            NaN            NaN            NaN  \n",
              "996            NaN            NaN            NaN            NaN            NaN  \n",
              "997            NaN            NaN            NaN            NaN            NaN  \n",
              "998            NaN            NaN            NaN            NaN            NaN  \n",
              "999            NaN            NaN            NaN            NaN            NaN  \n",
              "\n",
              "[1000 rows x 28 columns]"
            ]
          },
          "execution_count": 13,
          "metadata": {},
          "output_type": "execute_result"
        }
      ],
      "source": [
        "#====================Read Data Set from Drive===================================#\n",
        "#Read Input\n",
        "\n",
        "data_set_path = '/content/drive/MyDrive/Colab Notebooks/AES/Data Set'\n",
        "\n",
        "asap_aes_ds = pd.read_csv(data_set_path+'/ASAP_AES/asap_aes_train_test_dataset.csv')\n",
        "asap_aes_ds"
      ]
    },
    {
      "cell_type": "code",
      "execution_count": null,
      "metadata": {
        "colab": {
          "base_uri": "https://localhost:8080/"
        },
        "id": "SEEFD4-GQYBB",
        "outputId": "ad9d9cdc-a633-4e09-c056-99f1eb73f228"
      },
      "outputs": [
        {
          "data": {
            "text/html": [
              "\n",
              "  <div id=\"df-3a70b40b-5d7c-4957-8896-053237f1deed\">\n",
              "    <div class=\"colab-df-container\">\n",
              "      <div>\n",
              "<style scoped>\n",
              "    .dataframe tbody tr th:only-of-type {\n",
              "        vertical-align: middle;\n",
              "    }\n",
              "\n",
              "    .dataframe tbody tr th {\n",
              "        vertical-align: top;\n",
              "    }\n",
              "\n",
              "    .dataframe thead th {\n",
              "        text-align: right;\n",
              "    }\n",
              "</style>\n",
              "<table border=\"1\" class=\"dataframe\">\n",
              "  <thead>\n",
              "    <tr style=\"text-align: right;\">\n",
              "      <th></th>\n",
              "      <th>essay_id</th>\n",
              "      <th>essay_set</th>\n",
              "      <th>essay</th>\n",
              "      <th>structure_score</th>\n",
              "      <th>grammar_score</th>\n",
              "    </tr>\n",
              "  </thead>\n",
              "  <tbody>\n",
              "    <tr>\n",
              "      <th>0</th>\n",
              "      <td>17834</td>\n",
              "      <td>7</td>\n",
              "      <td>Patience is when your waiting .I was patience ...</td>\n",
              "      <td>5</td>\n",
              "      <td>8</td>\n",
              "    </tr>\n",
              "    <tr>\n",
              "      <th>1</th>\n",
              "      <td>17836</td>\n",
              "      <td>7</td>\n",
              "      <td>I am not a patience person, like I can’t sit i...</td>\n",
              "      <td>5</td>\n",
              "      <td>5</td>\n",
              "    </tr>\n",
              "    <tr>\n",
              "      <th>2</th>\n",
              "      <td>17837</td>\n",
              "      <td>7</td>\n",
              "      <td>One day I was at basketball practice and I was...</td>\n",
              "      <td>6</td>\n",
              "      <td>6</td>\n",
              "    </tr>\n",
              "    <tr>\n",
              "      <th>3</th>\n",
              "      <td>17838</td>\n",
              "      <td>7</td>\n",
              "      <td>I going to write about a time when I went to t...</td>\n",
              "      <td>6</td>\n",
              "      <td>8</td>\n",
              "    </tr>\n",
              "    <tr>\n",
              "      <th>4</th>\n",
              "      <td>17839</td>\n",
              "      <td>7</td>\n",
              "      <td>It can be very hard for somebody to be patient...</td>\n",
              "      <td>5</td>\n",
              "      <td>6</td>\n",
              "    </tr>\n",
              "    <tr>\n",
              "      <th>...</th>\n",
              "      <td>...</td>\n",
              "      <td>...</td>\n",
              "      <td>...</td>\n",
              "      <td>...</td>\n",
              "      <td>...</td>\n",
              "    </tr>\n",
              "    <tr>\n",
              "      <th>995</th>\n",
              "      <td>18936</td>\n",
              "      <td>7</td>\n",
              "      <td>One time when I was patient, I got rewarded. J...</td>\n",
              "      <td>6</td>\n",
              "      <td>6</td>\n",
              "    </tr>\n",
              "    <tr>\n",
              "      <th>996</th>\n",
              "      <td>18937</td>\n",
              "      <td>7</td>\n",
              "      <td>My mom and I were were on are way to are house...</td>\n",
              "      <td>4</td>\n",
              "      <td>3</td>\n",
              "    </tr>\n",
              "    <tr>\n",
              "      <th>997</th>\n",
              "      <td>18938</td>\n",
              "      <td>7</td>\n",
              "      <td>One time I got birthday money I wanted to buy ...</td>\n",
              "      <td>6</td>\n",
              "      <td>8</td>\n",
              "    </tr>\n",
              "    <tr>\n",
              "      <th>998</th>\n",
              "      <td>18939</td>\n",
              "      <td>7</td>\n",
              "      <td>Patience is, in definition, being understandin...</td>\n",
              "      <td>3</td>\n",
              "      <td>6</td>\n",
              "    </tr>\n",
              "    <tr>\n",
              "      <th>999</th>\n",
              "      <td>18940</td>\n",
              "      <td>7</td>\n",
              "      <td>One time I had to wait very patiently. One aft...</td>\n",
              "      <td>7</td>\n",
              "      <td>8</td>\n",
              "    </tr>\n",
              "  </tbody>\n",
              "</table>\n",
              "<p>1000 rows × 5 columns</p>\n",
              "</div>\n",
              "      <button class=\"colab-df-convert\" onclick=\"convertToInteractive('df-3a70b40b-5d7c-4957-8896-053237f1deed')\"\n",
              "              title=\"Convert this dataframe to an interactive table.\"\n",
              "              style=\"display:none;\">\n",
              "        \n",
              "  <svg xmlns=\"http://www.w3.org/2000/svg\" height=\"24px\"viewBox=\"0 0 24 24\"\n",
              "       width=\"24px\">\n",
              "    <path d=\"M0 0h24v24H0V0z\" fill=\"none\"/>\n",
              "    <path d=\"M18.56 5.44l.94 2.06.94-2.06 2.06-.94-2.06-.94-.94-2.06-.94 2.06-2.06.94zm-11 1L8.5 8.5l.94-2.06 2.06-.94-2.06-.94L8.5 2.5l-.94 2.06-2.06.94zm10 10l.94 2.06.94-2.06 2.06-.94-2.06-.94-.94-2.06-.94 2.06-2.06.94z\"/><path d=\"M17.41 7.96l-1.37-1.37c-.4-.4-.92-.59-1.43-.59-.52 0-1.04.2-1.43.59L10.3 9.45l-7.72 7.72c-.78.78-.78 2.05 0 2.83L4 21.41c.39.39.9.59 1.41.59.51 0 1.02-.2 1.41-.59l7.78-7.78 2.81-2.81c.8-.78.8-2.07 0-2.86zM5.41 20L4 18.59l7.72-7.72 1.47 1.35L5.41 20z\"/>\n",
              "  </svg>\n",
              "      </button>\n",
              "      \n",
              "  <style>\n",
              "    .colab-df-container {\n",
              "      display:flex;\n",
              "      flex-wrap:wrap;\n",
              "      gap: 12px;\n",
              "    }\n",
              "\n",
              "    .colab-df-convert {\n",
              "      background-color: #E8F0FE;\n",
              "      border: none;\n",
              "      border-radius: 50%;\n",
              "      cursor: pointer;\n",
              "      display: none;\n",
              "      fill: #1967D2;\n",
              "      height: 32px;\n",
              "      padding: 0 0 0 0;\n",
              "      width: 32px;\n",
              "    }\n",
              "\n",
              "    .colab-df-convert:hover {\n",
              "      background-color: #E2EBFA;\n",
              "      box-shadow: 0px 1px 2px rgba(60, 64, 67, 0.3), 0px 1px 3px 1px rgba(60, 64, 67, 0.15);\n",
              "      fill: #174EA6;\n",
              "    }\n",
              "\n",
              "    [theme=dark] .colab-df-convert {\n",
              "      background-color: #3B4455;\n",
              "      fill: #D2E3FC;\n",
              "    }\n",
              "\n",
              "    [theme=dark] .colab-df-convert:hover {\n",
              "      background-color: #434B5C;\n",
              "      box-shadow: 0px 1px 3px 1px rgba(0, 0, 0, 0.15);\n",
              "      filter: drop-shadow(0px 1px 2px rgba(0, 0, 0, 0.3));\n",
              "      fill: #FFFFFF;\n",
              "    }\n",
              "  </style>\n",
              "\n",
              "      <script>\n",
              "        const buttonEl =\n",
              "          document.querySelector('#df-3a70b40b-5d7c-4957-8896-053237f1deed button.colab-df-convert');\n",
              "        buttonEl.style.display =\n",
              "          google.colab.kernel.accessAllowed ? 'block' : 'none';\n",
              "\n",
              "        async function convertToInteractive(key) {\n",
              "          const element = document.querySelector('#df-3a70b40b-5d7c-4957-8896-053237f1deed');\n",
              "          const dataTable =\n",
              "            await google.colab.kernel.invokeFunction('convertToInteractive',\n",
              "                                                     [key], {});\n",
              "          if (!dataTable) return;\n",
              "\n",
              "          const docLinkHtml = 'Like what you see? Visit the ' +\n",
              "            '<a target=\"_blank\" href=https://colab.research.google.com/notebooks/data_table.ipynb>data table notebook</a>'\n",
              "            + ' to learn more about interactive tables.';\n",
              "          element.innerHTML = '';\n",
              "          dataTable['output_type'] = 'display_data';\n",
              "          await google.colab.output.renderOutput(dataTable, element);\n",
              "          const docLink = document.createElement('div');\n",
              "          docLink.innerHTML = docLinkHtml;\n",
              "          element.appendChild(docLink);\n",
              "        }\n",
              "      </script>\n",
              "    </div>\n",
              "  </div>\n",
              "  "
            ],
            "text/plain": [
              "     essay_id  essay_set                                              essay  \\\n",
              "0       17834          7  Patience is when your waiting .I was patience ...   \n",
              "1       17836          7  I am not a patience person, like I can’t sit i...   \n",
              "2       17837          7  One day I was at basketball practice and I was...   \n",
              "3       17838          7  I going to write about a time when I went to t...   \n",
              "4       17839          7  It can be very hard for somebody to be patient...   \n",
              "..        ...        ...                                                ...   \n",
              "995     18936          7  One time when I was patient, I got rewarded. J...   \n",
              "996     18937          7  My mom and I were were on are way to are house...   \n",
              "997     18938          7  One time I got birthday money I wanted to buy ...   \n",
              "998     18939          7  Patience is, in definition, being understandin...   \n",
              "999     18940          7  One time I had to wait very patiently. One aft...   \n",
              "\n",
              "     structure_score  grammar_score  \n",
              "0                  5              8  \n",
              "1                  5              5  \n",
              "2                  6              6  \n",
              "3                  6              8  \n",
              "4                  5              6  \n",
              "..               ...            ...  \n",
              "995                6              6  \n",
              "996                4              3  \n",
              "997                6              8  \n",
              "998                3              6  \n",
              "999                7              8  \n",
              "\n",
              "[1000 rows x 5 columns]"
            ]
          },
          "execution_count": 14,
          "metadata": {},
          "output_type": "execute_result"
        }
      ],
      "source": [
        "#====================Read Data Set from Drive===================================#\n",
        "#Read Input\n",
        "\n",
        "asap_aes_ds = pd.read_csv(data_set_path+'/ASAP_AES/asap_aes_train_test_dataset.csv')\n",
        "\n",
        "#===================Select/Create required features from Data Set===============#\n",
        "#Selecting Required columns\n",
        "#data_set = data_set.head()\n",
        "asap_aes_ds = asap_aes_ds.iloc[:,[0,1,2,7,8,9,10,11,14,15,16,17,18,19]]\n",
        "\n",
        "#Structure Score sum\n",
        "asap_aes_ds['structure_score'] = asap_aes_ds[['rater1_trait1','rater1_trait2','rater1_trait3','rater2_trait1','rater2_trait2','rater2_trait3']].sum(axis=1)\n",
        "asap_aes_ds['structure_score'] = asap_aes_ds['structure_score'].apply(lambda x : int(x*10/18))\n",
        "#Grammar Score sum\n",
        "asap_aes_ds['grammar_score'] = asap_aes_ds[['rater1_trait4','rater2_trait4']].sum(axis=1)\n",
        "asap_aes_ds['grammar_score'] = asap_aes_ds['grammar_score'].apply(lambda x : int(x*10/6))\n",
        "\n",
        "#Drop other columns\n",
        "asap_aes_ds.drop([\"rater1_trait4\",\"rater2_trait4\",\"rater1_domain1\",\"rater2_domain1\",\"domain1_score\",'rater1_trait1','rater1_trait2','rater1_trait3','rater2_trait1','rater2_trait2','rater2_trait3','rater1_domain1','rater2_domain1','domain1_score'],axis=1,inplace = True)\n",
        "\n",
        "#Data Set Ready\n",
        "\n",
        "#data_set\n",
        "asap_aes_ds"
      ]
    },
    {
      "cell_type": "code",
      "execution_count": null,
      "metadata": {
        "colab": {
          "base_uri": "https://localhost:8080/"
        },
        "id": "tkdKz-Nbeojy",
        "outputId": "6076e3de-e72c-42d4-be3d-528f635afc77"
      },
      "outputs": [
        {
          "data": {
            "text/html": [
              "\n",
              "  <div id=\"df-04883fda-ac03-421e-8ecb-5bd46459541d\">\n",
              "    <div class=\"colab-df-container\">\n",
              "      <div>\n",
              "<style scoped>\n",
              "    .dataframe tbody tr th:only-of-type {\n",
              "        vertical-align: middle;\n",
              "    }\n",
              "\n",
              "    .dataframe tbody tr th {\n",
              "        vertical-align: top;\n",
              "    }\n",
              "\n",
              "    .dataframe thead th {\n",
              "        text-align: right;\n",
              "    }\n",
              "</style>\n",
              "<table border=\"1\" class=\"dataframe\">\n",
              "  <thead>\n",
              "    <tr style=\"text-align: right;\">\n",
              "      <th></th>\n",
              "      <th>essay_id</th>\n",
              "      <th>essay_set</th>\n",
              "      <th>essay</th>\n",
              "      <th>structure_score</th>\n",
              "      <th>grammar_score</th>\n",
              "    </tr>\n",
              "  </thead>\n",
              "  <tbody>\n",
              "    <tr>\n",
              "      <th>0</th>\n",
              "      <td>17834</td>\n",
              "      <td>7</td>\n",
              "      <td>Patience is when your waiting .I was patience ...</td>\n",
              "      <td>5</td>\n",
              "      <td>8</td>\n",
              "    </tr>\n",
              "    <tr>\n",
              "      <th>1</th>\n",
              "      <td>17836</td>\n",
              "      <td>7</td>\n",
              "      <td>I am not a patience person, like I can’t sit i...</td>\n",
              "      <td>5</td>\n",
              "      <td>5</td>\n",
              "    </tr>\n",
              "    <tr>\n",
              "      <th>2</th>\n",
              "      <td>17837</td>\n",
              "      <td>7</td>\n",
              "      <td>One day I was at basketball practice and I was...</td>\n",
              "      <td>6</td>\n",
              "      <td>6</td>\n",
              "    </tr>\n",
              "    <tr>\n",
              "      <th>3</th>\n",
              "      <td>17838</td>\n",
              "      <td>7</td>\n",
              "      <td>I going to write about a time when I went to t...</td>\n",
              "      <td>6</td>\n",
              "      <td>8</td>\n",
              "    </tr>\n",
              "    <tr>\n",
              "      <th>4</th>\n",
              "      <td>17839</td>\n",
              "      <td>7</td>\n",
              "      <td>It can be very hard for somebody to be patient...</td>\n",
              "      <td>5</td>\n",
              "      <td>6</td>\n",
              "    </tr>\n",
              "    <tr>\n",
              "      <th>...</th>\n",
              "      <td>...</td>\n",
              "      <td>...</td>\n",
              "      <td>...</td>\n",
              "      <td>...</td>\n",
              "      <td>...</td>\n",
              "    </tr>\n",
              "    <tr>\n",
              "      <th>995</th>\n",
              "      <td>18936</td>\n",
              "      <td>7</td>\n",
              "      <td>One time when I was patient, I got rewarded. J...</td>\n",
              "      <td>6</td>\n",
              "      <td>6</td>\n",
              "    </tr>\n",
              "    <tr>\n",
              "      <th>996</th>\n",
              "      <td>18937</td>\n",
              "      <td>7</td>\n",
              "      <td>My mom and I were were on are way to are house...</td>\n",
              "      <td>4</td>\n",
              "      <td>3</td>\n",
              "    </tr>\n",
              "    <tr>\n",
              "      <th>997</th>\n",
              "      <td>18938</td>\n",
              "      <td>7</td>\n",
              "      <td>One time I got birthday money I wanted to buy ...</td>\n",
              "      <td>6</td>\n",
              "      <td>8</td>\n",
              "    </tr>\n",
              "    <tr>\n",
              "      <th>998</th>\n",
              "      <td>18939</td>\n",
              "      <td>7</td>\n",
              "      <td>Patience is, in definition, being understandin...</td>\n",
              "      <td>3</td>\n",
              "      <td>6</td>\n",
              "    </tr>\n",
              "    <tr>\n",
              "      <th>999</th>\n",
              "      <td>18940</td>\n",
              "      <td>7</td>\n",
              "      <td>One time I had to wait very patiently. One aft...</td>\n",
              "      <td>7</td>\n",
              "      <td>8</td>\n",
              "    </tr>\n",
              "  </tbody>\n",
              "</table>\n",
              "<p>1000 rows × 5 columns</p>\n",
              "</div>\n",
              "      <button class=\"colab-df-convert\" onclick=\"convertToInteractive('df-04883fda-ac03-421e-8ecb-5bd46459541d')\"\n",
              "              title=\"Convert this dataframe to an interactive table.\"\n",
              "              style=\"display:none;\">\n",
              "        \n",
              "  <svg xmlns=\"http://www.w3.org/2000/svg\" height=\"24px\"viewBox=\"0 0 24 24\"\n",
              "       width=\"24px\">\n",
              "    <path d=\"M0 0h24v24H0V0z\" fill=\"none\"/>\n",
              "    <path d=\"M18.56 5.44l.94 2.06.94-2.06 2.06-.94-2.06-.94-.94-2.06-.94 2.06-2.06.94zm-11 1L8.5 8.5l.94-2.06 2.06-.94-2.06-.94L8.5 2.5l-.94 2.06-2.06.94zm10 10l.94 2.06.94-2.06 2.06-.94-2.06-.94-.94-2.06-.94 2.06-2.06.94z\"/><path d=\"M17.41 7.96l-1.37-1.37c-.4-.4-.92-.59-1.43-.59-.52 0-1.04.2-1.43.59L10.3 9.45l-7.72 7.72c-.78.78-.78 2.05 0 2.83L4 21.41c.39.39.9.59 1.41.59.51 0 1.02-.2 1.41-.59l7.78-7.78 2.81-2.81c.8-.78.8-2.07 0-2.86zM5.41 20L4 18.59l7.72-7.72 1.47 1.35L5.41 20z\"/>\n",
              "  </svg>\n",
              "      </button>\n",
              "      \n",
              "  <style>\n",
              "    .colab-df-container {\n",
              "      display:flex;\n",
              "      flex-wrap:wrap;\n",
              "      gap: 12px;\n",
              "    }\n",
              "\n",
              "    .colab-df-convert {\n",
              "      background-color: #E8F0FE;\n",
              "      border: none;\n",
              "      border-radius: 50%;\n",
              "      cursor: pointer;\n",
              "      display: none;\n",
              "      fill: #1967D2;\n",
              "      height: 32px;\n",
              "      padding: 0 0 0 0;\n",
              "      width: 32px;\n",
              "    }\n",
              "\n",
              "    .colab-df-convert:hover {\n",
              "      background-color: #E2EBFA;\n",
              "      box-shadow: 0px 1px 2px rgba(60, 64, 67, 0.3), 0px 1px 3px 1px rgba(60, 64, 67, 0.15);\n",
              "      fill: #174EA6;\n",
              "    }\n",
              "\n",
              "    [theme=dark] .colab-df-convert {\n",
              "      background-color: #3B4455;\n",
              "      fill: #D2E3FC;\n",
              "    }\n",
              "\n",
              "    [theme=dark] .colab-df-convert:hover {\n",
              "      background-color: #434B5C;\n",
              "      box-shadow: 0px 1px 3px 1px rgba(0, 0, 0, 0.15);\n",
              "      filter: drop-shadow(0px 1px 2px rgba(0, 0, 0, 0.3));\n",
              "      fill: #FFFFFF;\n",
              "    }\n",
              "  </style>\n",
              "\n",
              "      <script>\n",
              "        const buttonEl =\n",
              "          document.querySelector('#df-04883fda-ac03-421e-8ecb-5bd46459541d button.colab-df-convert');\n",
              "        buttonEl.style.display =\n",
              "          google.colab.kernel.accessAllowed ? 'block' : 'none';\n",
              "\n",
              "        async function convertToInteractive(key) {\n",
              "          const element = document.querySelector('#df-04883fda-ac03-421e-8ecb-5bd46459541d');\n",
              "          const dataTable =\n",
              "            await google.colab.kernel.invokeFunction('convertToInteractive',\n",
              "                                                     [key], {});\n",
              "          if (!dataTable) return;\n",
              "\n",
              "          const docLinkHtml = 'Like what you see? Visit the ' +\n",
              "            '<a target=\"_blank\" href=https://colab.research.google.com/notebooks/data_table.ipynb>data table notebook</a>'\n",
              "            + ' to learn more about interactive tables.';\n",
              "          element.innerHTML = '';\n",
              "          dataTable['output_type'] = 'display_data';\n",
              "          await google.colab.output.renderOutput(dataTable, element);\n",
              "          const docLink = document.createElement('div');\n",
              "          docLink.innerHTML = docLinkHtml;\n",
              "          element.appendChild(docLink);\n",
              "        }\n",
              "      </script>\n",
              "    </div>\n",
              "  </div>\n",
              "  "
            ],
            "text/plain": [
              "     essay_id  essay_set                                              essay  \\\n",
              "0       17834          7  Patience is when your waiting .I was patience ...   \n",
              "1       17836          7  I am not a patience person, like I can’t sit i...   \n",
              "2       17837          7  One day I was at basketball practice and I was...   \n",
              "3       17838          7  I going to write about a time when I went to t...   \n",
              "4       17839          7  It can be very hard for somebody to be patient...   \n",
              "..        ...        ...                                                ...   \n",
              "995     18936          7  One time when I was patient, I got rewarded. J...   \n",
              "996     18937          7  My mom and I were were on are way to are house...   \n",
              "997     18938          7  One time I got birthday money I wanted to buy ...   \n",
              "998     18939          7  Patience is, in definition, being understandin...   \n",
              "999     18940          7  One time I had to wait very patiently. One aft...   \n",
              "\n",
              "     structure_score  grammar_score  \n",
              "0                  5              8  \n",
              "1                  5              5  \n",
              "2                  6              6  \n",
              "3                  6              8  \n",
              "4                  5              6  \n",
              "..               ...            ...  \n",
              "995                6              6  \n",
              "996                4              3  \n",
              "997                6              8  \n",
              "998                3              6  \n",
              "999                7              8  \n",
              "\n",
              "[1000 rows x 5 columns]"
            ]
          },
          "execution_count": 15,
          "metadata": {},
          "output_type": "execute_result"
        }
      ],
      "source": [
        "data_set = asap_aes_ds\n",
        "data_set"
      ]
    },
    {
      "cell_type": "code",
      "execution_count": null,
      "metadata": {
        "id": "j09WU7ECiZ63"
      },
      "outputs": [],
      "source": [
        "#analysis_set = data_set\n",
        "\n",
        "#Dataframe to save test set of structure score module\n",
        "ss_test_x = pd.DataFrame()\n",
        "ss_test_y = pd.DataFrame()\n",
        "\n",
        "#Dataframe to save test set of grammar score module\n",
        "gs_test_x = pd.DataFrame()\n",
        "gs_test_y = pd.DataFrame()"
      ]
    },
    {
      "cell_type": "markdown",
      "metadata": {
        "id": "z2EJC1SWbVzf"
      },
      "source": [
        "# **AES Planned System Architecture**"
      ]
    },
    {
      "cell_type": "markdown",
      "metadata": {
        "id": "rBmaW_iOE6UC"
      },
      "source": [
        "![AES PH04 Architecture.png](data:image/png;base64,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)"
      ]
    },
    {
      "cell_type": "markdown",
      "metadata": {
        "id": "5OQVQRtHbnur"
      },
      "source": [
        "## **Structure Score Module**"
      ]
    },
    {
      "cell_type": "markdown",
      "metadata": {
        "id": "g-pfeyUJ9sWz"
      },
      "source": [
        "![AES PH04 Architecture SSM.png](data:image/png;base64,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)"
      ]
    },
    {
      "cell_type": "markdown",
      "metadata": {
        "id": "i2yd9cuHXgcf"
      },
      "source": [
        "### ***Training Structure Score Module***"
      ]
    },
    {
      "cell_type": "markdown",
      "metadata": {
        "id": "T34TKCP1AZhi"
      },
      "source": [
        "![LSTM Model.png](data:image/png;base64,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)"
      ]
    },
    {
      "cell_type": "code",
      "execution_count": null,
      "metadata": {
        "id": "4VMP6eoAceBe"
      },
      "outputs": [],
      "source": [
        "#Creating LSTM Model\n",
        "#from keras.layers import Embedding, Input, LSTM, Dense, Dropout, Lambda, Flatten, Bidirectional, Conv2D, Conv1D, MaxPooling1D, GlobalMaxPooling1D\n",
        "from keras.layers import LSTM, Dense, Dropout, Bidirectional\n",
        "from keras.models import Sequential,Model, load_model, model_from_config\n",
        "import keras.backend as K\n",
        "\n",
        "def get_model(Hidden_dim1=400, Hidden_dim2=128, return_sequences = True, dropout=0.5, recurrent_dropout=0.4, input_size=768, activation='relu', bidirectional = True):\n",
        "    #Define the model\n",
        "    model = Sequential()\n",
        "    \n",
        "    #Dropout helps in avoiding Overfitting\n",
        "    #Input size is 768 because BERT Embeddings are of size 768 dimesnions for each essay.\n",
        "    #Return Sequences return the hidden state output for each input time step\n",
        "    if bidirectional:\n",
        "        #First LSTM Layer : Hidden Dimension Layer\n",
        "        model.add(Bidirectional(LSTM(Hidden_dim1,return_sequences=return_sequences , dropout=0.4, recurrent_dropout=recurrent_dropout), input_shape=[1, input_size]))\n",
        "        #Second LSTM Layer : Hidden Dimension Layer\n",
        "        model.add(Bidirectional(LSTM(Hidden_dim2, recurrent_dropout=recurrent_dropout)))\n",
        "    else:\n",
        "        #First LSTM Layer : Hidden Dimension Layer\n",
        "        model.add(LSTM(Hidden_dim1, dropout=0.4, recurrent_dropout=recurrent_dropout, input_shape=[1, input_size], return_sequences=return_sequences))\n",
        "        #Second LSTM Layer : Hidden Dimension Layer\n",
        "        model.add(LSTM(Hidden_dim2, recurrent_dropout=recurrent_dropout))\n",
        "    #Third Layer : Dropout Layer\n",
        "    model.add(Dropout(dropout))\n",
        "    #Fourth Layer : Dense Layer\n",
        "    model.add(Dense(1, activation=activation))\n",
        "    #Compile Model generated above\n",
        "    model.compile(loss='mean_squared_error', optimizer='rmsprop', metrics=['mae'])\n",
        "    #Summary of Model Generated\n",
        "    model.summary()\n",
        "    return model"
      ]
    },
    {
      "cell_type": "code",
      "execution_count": null,
      "metadata": {
        "colab": {
          "base_uri": "https://localhost:8080/"
        },
        "id": "9lDHYgiCANP7",
        "outputId": "73e23d01-4956-46ab-91b1-5f89287cf336"
      },
      "outputs": [
        {
          "name": "stdout",
          "output_type": "stream",
          "text": [
            "Epoch Value for Structure : 70\n"
          ]
        }
      ],
      "source": [
        "#Set epochs\n",
        "epochs = structure_epochs\n",
        "print(\"Epoch Value for Structure : \"+str(epochs))"
      ]
    },
    {
      "cell_type": "code",
      "execution_count": null,
      "metadata": {
        "colab": {
          "base_uri": "https://localhost:8080/"
        },
        "id": "JApWp3qCKzS6",
        "outputId": "cae7a518-74e3-4b60-9d7b-8646d5c30b02"
      },
      "outputs": [
        {
          "name": "stdout",
          "output_type": "stream",
          "text": [
            "Trained Model will be saved at path : \n",
            "/content/drive/MyDrive/Colab Notebooks/AES/Saved Models/AES Models/Structure_Score_Model/ssm_model_vF.h5\n"
          ]
        }
      ],
      "source": [
        "#structure model save path+name\n",
        "save_path_string = ssm_output_dir+ssm_model_name+'.h5'\n",
        "print(\"Trained Model will be saved at path : \\n\"+save_path_string)"
      ]
    },
    {
      "cell_type": "markdown",
      "metadata": {
        "id": "L845xzZNlZZb"
      },
      "source": [
        "#### ***Training & Testing***"
      ]
    },
    {
      "cell_type": "markdown",
      "metadata": {
        "id": "b6g76dYfAgqi"
      },
      "source": [
        "![AES PH04 Structure score prediction.png](data:image/png;base64,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)"
      ]
    },
    {
      "cell_type": "code",
      "execution_count": null,
      "metadata": {
        "colab": {
          "base_uri": "https://localhost:8080/",
          "referenced_widgets": [
            "bb26d054ce9e4b94bbd5f69ace5882f8",
            "aef070f30c8642c99c76493b68243594",
            "3f4f8b76c3d94f3f945a21cd9cdbb957",
            "cb0c16a6e9224f519ab0db80c37c7a4a",
            "f191a89de7d3462fb81d678b3f1064b6",
            "339b3e1233294d49a546684157ebdfa4",
            "21784535fa814f02ad79ae6670e6186f",
            "ac033ba5e2a4476e801de552fe75b041",
            "1318e4ec93cc4116946cd1d591fade25",
            "0fe04946b65d43da83eccda28c08f276",
            "d9babe9d648e41a38384388514ab79e1",
            "07c43222f7354499aa631ead5faea198",
            "8679e3862d494296ab6a4b74742b9733",
            "0235bf3b89b540f3a3fc2d75f99251eb",
            "cc8d70ee183a4d27993601a36aaea1a7",
            "5aafd546470645359e7203c4b6888837",
            "ba75b007b7754ecea21186ae76f9b334",
            "d0d44a39cf864861ad004cd504aa4990",
            "a44bfe3c43a7487487644e5a6f730bf6",
            "8836afd870044153a3b43fbad73a05c2",
            "5ed080bb48584550ac12503d44c31f21",
            "8acafca34ee84b7da066db22ed4f82a2",
            "0ffb270f003f4d04b57809e94956dd4b",
            "154f8f3da6704500a518c471eec765e8",
            "0fdd0ca08300467dacef1e8514886be2",
            "6a12cf94760e4bba94234c951833ece8",
            "8e9b5f3f3d6549a6870f48880d0411e1",
            "65762bd6b6c5459dbabe3039e6fc3434",
            "9f12c886a5704781bb2fc144781ffc77",
            "77d86638d51d4448b2e234460f9c34f3",
            "7be56a7027e5460ab470038d88dfcd57",
            "1b8dc40d6d3c4ad1bc8e485615460d68",
            "df323f54a5f54394a412f577f6d57ea7",
            "1ac48b5cc5ba4240bf264e2c7d7dab83",
            "e6f967173d3041029274988cc7b0f594",
            "dcca6b83c82a4b7a9d89168e4ea04ce2",
            "1c935e51aad24ca9a364a9b90c8a11b8",
            "b29b5c5020d54244bd81661e0d2f23cc",
            "af07d00bda0a451e916c5d62abfff113",
            "9f9d7e0013fb46f68dc501237de46346",
            "675221c66df14159be0ca3e1048737b7",
            "ad9c958f006545039a6c01f23ee7c3a5",
            "8616d87119804539a9f33dbb48190d9e",
            "742415abb9de46cfb14e26944cc04278"
          ]
        },
        "id": "plkCij0CchU7",
        "outputId": "213a1f85-9296-489b-a4c5-c3c95aba6bb4"
      },
      "outputs": [
        {
          "name": "stdout",
          "output_type": "stream",
          "text": [
            "\n",
            "--------SET 7--------\n",
            "\n"
          ]
        },
        {
          "data": {
            "application/vnd.jupyter.widget-view+json": {
              "model_id": "bb26d054ce9e4b94bbd5f69ace5882f8",
              "version_major": 2,
              "version_minor": 0
            },
            "text/plain": [
              "Downloading:   0%|          | 0.00/232k [00:00<?, ?B/s]"
            ]
          },
          "metadata": {},
          "output_type": "display_data"
        },
        {
          "data": {
            "application/vnd.jupyter.widget-view+json": {
              "model_id": "07c43222f7354499aa631ead5faea198",
              "version_major": 2,
              "version_minor": 0
            },
            "text/plain": [
              "Downloading:   0%|          | 0.00/28.0 [00:00<?, ?B/s]"
            ]
          },
          "metadata": {},
          "output_type": "display_data"
        },
        {
          "data": {
            "application/vnd.jupyter.widget-view+json": {
              "model_id": "0ffb270f003f4d04b57809e94956dd4b",
              "version_major": 2,
              "version_minor": 0
            },
            "text/plain": [
              "Downloading:   0%|          | 0.00/570 [00:00<?, ?B/s]"
            ]
          },
          "metadata": {},
          "output_type": "display_data"
        },
        {
          "data": {
            "application/vnd.jupyter.widget-view+json": {
              "model_id": "1ac48b5cc5ba4240bf264e2c7d7dab83",
              "version_major": 2,
              "version_minor": 0
            },
            "text/plain": [
              "Downloading:   0%|          | 0.00/440M [00:00<?, ?B/s]"
            ]
          },
          "metadata": {},
          "output_type": "display_data"
        },
        {
          "name": "stderr",
          "output_type": "stream",
          "text": [
            "Some weights of the model checkpoint at bert-base-uncased were not used when initializing BertModel: ['cls.seq_relationship.bias', 'cls.seq_relationship.weight', 'cls.predictions.transform.LayerNorm.weight', 'cls.predictions.transform.dense.bias', 'cls.predictions.transform.dense.weight', 'cls.predictions.decoder.weight', 'cls.predictions.transform.LayerNorm.bias', 'cls.predictions.bias']\n",
            "- This IS expected if you are initializing BertModel from the checkpoint of a model trained on another task or with another architecture (e.g. initializing a BertForSequenceClassification model from a BertForPreTraining model).\n",
            "- This IS NOT expected if you are initializing BertModel from the checkpoint of a model that you expect to be exactly identical (initializing a BertForSequenceClassification model from a BertForSequenceClassification model).\n",
            "Truncation was not explicitly activated but `max_length` is provided a specific value, please use `truncation=True` to explicitly truncate examples to max length. Defaulting to 'longest_first' truncation strategy. If you encode pairs of sequences (GLUE-style) with the tokenizer you can select this strategy more precisely by providing a specific strategy to `truncation`.\n"
          ]
        },
        {
          "name": "stdout",
          "output_type": "stream",
          "text": [
            "\n",
            "--------Fold 1--------\n",
            "\n"
          ]
        },
        {
          "name": "stderr",
          "output_type": "stream",
          "text": [
            "WARNING:tensorflow:Layer lstm will not use cuDNN kernels since it doesn't meet the criteria. It will use a generic GPU kernel as fallback when running on GPU.\n",
            "WARNING:tensorflow:Layer lstm will not use cuDNN kernels since it doesn't meet the criteria. It will use a generic GPU kernel as fallback when running on GPU.\n",
            "WARNING:tensorflow:Layer lstm will not use cuDNN kernels since it doesn't meet the criteria. It will use a generic GPU kernel as fallback when running on GPU.\n",
            "WARNING:tensorflow:Layer lstm_1 will not use cuDNN kernels since it doesn't meet the criteria. It will use a generic GPU kernel as fallback when running on GPU.\n",
            "WARNING:tensorflow:Layer lstm_1 will not use cuDNN kernels since it doesn't meet the criteria. It will use a generic GPU kernel as fallback when running on GPU.\n",
            "WARNING:tensorflow:Layer lstm_1 will not use cuDNN kernels since it doesn't meet the criteria. It will use a generic GPU kernel as fallback when running on GPU.\n"
          ]
        },
        {
          "name": "stdout",
          "output_type": "stream",
          "text": [
            "Model: \"sequential\"\n",
            "_________________________________________________________________\n",
            " Layer (type)                Output Shape              Param #   \n",
            "=================================================================\n",
            " bidirectional (Bidirectiona  (None, 1, 800)           3740800   \n",
            " l)                                                              \n",
            "                                                                 \n",
            " bidirectional_1 (Bidirectio  (None, 256)              951296    \n",
            " nal)                                                            \n",
            "                                                                 \n",
            " dropout (Dropout)           (None, 256)               0         \n",
            "                                                                 \n",
            " dense (Dense)               (None, 1)                 257       \n",
            "                                                                 \n",
            "=================================================================\n",
            "Total params: 4,692,353\n",
            "Trainable params: 4,692,353\n",
            "Non-trainable params: 0\n",
            "_________________________________________________________________\n",
            "Epoch 1/70\n",
            "6/6 [==============================] - 11s 31ms/step - loss: 15.2009 - mae: 3.0684\n",
            "Epoch 2/70\n",
            "6/6 [==============================] - 0s 29ms/step - loss: 3.9418 - mae: 1.5860\n",
            "Epoch 3/70\n",
            "6/6 [==============================] - 0s 30ms/step - loss: 4.0095 - mae: 1.6256\n",
            "Epoch 4/70\n",
            "6/6 [==============================] - 0s 31ms/step - loss: 3.0532 - mae: 1.4002\n",
            "Epoch 5/70\n",
            "6/6 [==============================] - 0s 32ms/step - loss: 2.8392 - mae: 1.3356\n",
            "Epoch 6/70\n",
            "6/6 [==============================] - 0s 30ms/step - loss: 2.7714 - mae: 1.3583\n",
            "Epoch 7/70\n",
            "6/6 [==============================] - 0s 28ms/step - loss: 2.1447 - mae: 1.1759\n",
            "Epoch 8/70\n",
            "6/6 [==============================] - 0s 31ms/step - loss: 2.5614 - mae: 1.2888\n",
            "Epoch 9/70\n",
            "6/6 [==============================] - 0s 30ms/step - loss: 2.4134 - mae: 1.2308\n",
            "Epoch 10/70\n",
            "6/6 [==============================] - 0s 29ms/step - loss: 2.0396 - mae: 1.1141\n",
            "Epoch 11/70\n",
            "6/6 [==============================] - 0s 26ms/step - loss: 2.8834 - mae: 1.3776\n",
            "Epoch 12/70\n",
            "6/6 [==============================] - 0s 27ms/step - loss: 2.0378 - mae: 1.1487\n",
            "Epoch 13/70\n",
            "6/6 [==============================] - 0s 32ms/step - loss: 2.5555 - mae: 1.2678\n",
            "Epoch 14/70\n",
            "6/6 [==============================] - 0s 30ms/step - loss: 2.4222 - mae: 1.2473\n",
            "Epoch 15/70\n",
            "6/6 [==============================] - 0s 32ms/step - loss: 1.8708 - mae: 1.0948\n",
            "Epoch 16/70\n",
            "6/6 [==============================] - 0s 28ms/step - loss: 2.5221 - mae: 1.2547\n",
            "Epoch 17/70\n",
            "6/6 [==============================] - 0s 29ms/step - loss: 2.1896 - mae: 1.1810\n",
            "Epoch 18/70\n",
            "6/6 [==============================] - 0s 30ms/step - loss: 1.7845 - mae: 1.0710\n",
            "Epoch 19/70\n",
            "6/6 [==============================] - 0s 31ms/step - loss: 2.3074 - mae: 1.2002\n",
            "Epoch 20/70\n",
            "6/6 [==============================] - 0s 28ms/step - loss: 1.8552 - mae: 1.0722\n",
            "Epoch 21/70\n",
            "6/6 [==============================] - 0s 31ms/step - loss: 2.3064 - mae: 1.2293\n",
            "Epoch 22/70\n",
            "6/6 [==============================] - 0s 29ms/step - loss: 1.8635 - mae: 1.0767\n",
            "Epoch 23/70\n",
            "6/6 [==============================] - 0s 36ms/step - loss: 2.4746 - mae: 1.2697\n",
            "Epoch 24/70\n",
            "6/6 [==============================] - 0s 27ms/step - loss: 1.6494 - mae: 1.0148\n",
            "Epoch 25/70\n",
            "6/6 [==============================] - 0s 27ms/step - loss: 2.3199 - mae: 1.2256\n",
            "Epoch 26/70\n",
            "6/6 [==============================] - 0s 27ms/step - loss: 1.5995 - mae: 1.0015\n",
            "Epoch 27/70\n",
            "6/6 [==============================] - 0s 31ms/step - loss: 1.9594 - mae: 1.1273\n",
            "Epoch 28/70\n",
            "6/6 [==============================] - 0s 31ms/step - loss: 1.7681 - mae: 1.0391\n",
            "Epoch 29/70\n",
            "6/6 [==============================] - 0s 27ms/step - loss: 1.7753 - mae: 1.0694\n",
            "Epoch 30/70\n",
            "6/6 [==============================] - 0s 28ms/step - loss: 2.2326 - mae: 1.1957\n",
            "Epoch 31/70\n",
            "6/6 [==============================] - 0s 29ms/step - loss: 1.5410 - mae: 0.9893\n",
            "Epoch 32/70\n",
            "6/6 [==============================] - 0s 27ms/step - loss: 1.4364 - mae: 0.9432\n",
            "Epoch 33/70\n",
            "6/6 [==============================] - 0s 29ms/step - loss: 1.8754 - mae: 1.0887\n",
            "Epoch 34/70\n",
            "6/6 [==============================] - 0s 28ms/step - loss: 1.5903 - mae: 1.0104\n",
            "Epoch 35/70\n",
            "6/6 [==============================] - 0s 28ms/step - loss: 1.5354 - mae: 0.9696\n",
            "Epoch 36/70\n",
            "6/6 [==============================] - 0s 27ms/step - loss: 1.8713 - mae: 1.0938\n",
            "Epoch 37/70\n",
            "6/6 [==============================] - 0s 29ms/step - loss: 1.5309 - mae: 0.9775\n",
            "Epoch 38/70\n",
            "6/6 [==============================] - 0s 31ms/step - loss: 1.7768 - mae: 1.0602\n",
            "Epoch 39/70\n",
            "6/6 [==============================] - 0s 32ms/step - loss: 1.3819 - mae: 0.9255\n",
            "Epoch 40/70\n",
            "6/6 [==============================] - 0s 27ms/step - loss: 1.5251 - mae: 0.9698\n",
            "Epoch 41/70\n",
            "6/6 [==============================] - 0s 27ms/step - loss: 1.4320 - mae: 0.9435\n",
            "Epoch 42/70\n",
            "6/6 [==============================] - 0s 31ms/step - loss: 1.6079 - mae: 1.0003\n",
            "Epoch 43/70\n",
            "6/6 [==============================] - 0s 25ms/step - loss: 1.6577 - mae: 1.0116\n",
            "Epoch 44/70\n",
            "6/6 [==============================] - 0s 33ms/step - loss: 1.5208 - mae: 0.9684\n",
            "Epoch 45/70\n",
            "6/6 [==============================] - 0s 27ms/step - loss: 1.6161 - mae: 1.0185\n",
            "Epoch 46/70\n",
            "6/6 [==============================] - 0s 29ms/step - loss: 1.2817 - mae: 0.9011\n",
            "Epoch 47/70\n",
            "6/6 [==============================] - 0s 29ms/step - loss: 1.6228 - mae: 1.0115\n",
            "Epoch 48/70\n",
            "6/6 [==============================] - 0s 28ms/step - loss: 1.1609 - mae: 0.8516\n",
            "Epoch 49/70\n",
            "6/6 [==============================] - 0s 30ms/step - loss: 1.3365 - mae: 0.9268\n",
            "Epoch 50/70\n",
            "6/6 [==============================] - 0s 29ms/step - loss: 1.2515 - mae: 0.8874\n",
            "Epoch 51/70\n",
            "6/6 [==============================] - 0s 28ms/step - loss: 1.5152 - mae: 0.9761\n",
            "Epoch 52/70\n",
            "6/6 [==============================] - 0s 27ms/step - loss: 1.2081 - mae: 0.8449\n",
            "Epoch 53/70\n",
            "6/6 [==============================] - 0s 30ms/step - loss: 1.6414 - mae: 1.0207\n",
            "Epoch 54/70\n",
            "6/6 [==============================] - 0s 33ms/step - loss: 1.3050 - mae: 0.9023\n",
            "Epoch 55/70\n",
            "6/6 [==============================] - 0s 28ms/step - loss: 1.3568 - mae: 0.9312\n",
            "Epoch 56/70\n",
            "6/6 [==============================] - 0s 31ms/step - loss: 1.5284 - mae: 0.9760\n",
            "Epoch 57/70\n",
            "6/6 [==============================] - 0s 27ms/step - loss: 1.2176 - mae: 0.8595\n",
            "Epoch 58/70\n",
            "6/6 [==============================] - 0s 26ms/step - loss: 1.3204 - mae: 0.9024\n",
            "Epoch 59/70\n",
            "6/6 [==============================] - 0s 26ms/step - loss: 1.1053 - mae: 0.8239\n",
            "Epoch 60/70\n",
            "6/6 [==============================] - 0s 26ms/step - loss: 1.1900 - mae: 0.8530\n",
            "Epoch 61/70\n",
            "6/6 [==============================] - 0s 34ms/step - loss: 1.1570 - mae: 0.8263\n",
            "Epoch 62/70\n",
            "6/6 [==============================] - 0s 29ms/step - loss: 1.2626 - mae: 0.8950\n",
            "Epoch 63/70\n",
            "6/6 [==============================] - 0s 28ms/step - loss: 1.1500 - mae: 0.8412\n",
            "Epoch 64/70\n",
            "6/6 [==============================] - 0s 26ms/step - loss: 1.1693 - mae: 0.8669\n",
            "Epoch 65/70\n",
            "6/6 [==============================] - 0s 30ms/step - loss: 0.8851 - mae: 0.7306\n",
            "Epoch 66/70\n",
            "6/6 [==============================] - 0s 28ms/step - loss: 1.4603 - mae: 0.9510\n",
            "Epoch 67/70\n",
            "6/6 [==============================] - 0s 28ms/step - loss: 1.1304 - mae: 0.8374\n",
            "Epoch 68/70\n",
            "6/6 [==============================] - 0s 31ms/step - loss: 1.1018 - mae: 0.8324\n",
            "Epoch 69/70\n",
            "6/6 [==============================] - 0s 28ms/step - loss: 1.1049 - mae: 0.8171\n",
            "Epoch 70/70\n",
            "6/6 [==============================] - 0s 27ms/step - loss: 1.1141 - mae: 0.8356\n",
            "11/11 [==============================] - 1s 4ms/step\n",
            "Kappa Score: 0.761579721404388\n",
            "\n",
            "--------Fold 2--------\n",
            "\n"
          ]
        },
        {
          "name": "stderr",
          "output_type": "stream",
          "text": [
            "WARNING:tensorflow:Layer lstm will not use cuDNN kernels since it doesn't meet the criteria. It will use a generic GPU kernel as fallback when running on GPU.\n",
            "WARNING:tensorflow:Layer lstm will not use cuDNN kernels since it doesn't meet the criteria. It will use a generic GPU kernel as fallback when running on GPU.\n",
            "WARNING:tensorflow:Layer lstm will not use cuDNN kernels since it doesn't meet the criteria. It will use a generic GPU kernel as fallback when running on GPU.\n",
            "WARNING:tensorflow:Layer lstm_1 will not use cuDNN kernels since it doesn't meet the criteria. It will use a generic GPU kernel as fallback when running on GPU.\n",
            "WARNING:tensorflow:Layer lstm_1 will not use cuDNN kernels since it doesn't meet the criteria. It will use a generic GPU kernel as fallback when running on GPU.\n",
            "WARNING:tensorflow:Layer lstm_1 will not use cuDNN kernels since it doesn't meet the criteria. It will use a generic GPU kernel as fallback when running on GPU.\n"
          ]
        },
        {
          "name": "stdout",
          "output_type": "stream",
          "text": [
            "Model: \"sequential\"\n",
            "_________________________________________________________________\n",
            " Layer (type)                Output Shape              Param #   \n",
            "=================================================================\n",
            " bidirectional (Bidirectiona  (None, 1, 800)           3740800   \n",
            " l)                                                              \n",
            "                                                                 \n",
            " bidirectional_1 (Bidirectio  (None, 256)              951296    \n",
            " nal)                                                            \n",
            "                                                                 \n",
            " dropout (Dropout)           (None, 256)               0         \n",
            "                                                                 \n",
            " dense (Dense)               (None, 1)                 257       \n",
            "                                                                 \n",
            "=================================================================\n",
            "Total params: 4,692,353\n",
            "Trainable params: 4,692,353\n",
            "Non-trainable params: 0\n",
            "_________________________________________________________________\n",
            "Epoch 1/70\n",
            "6/6 [==============================] - 9s 37ms/step - loss: 15.4344 - mae: 3.0962\n",
            "Epoch 2/70\n",
            "6/6 [==============================] - 0s 29ms/step - loss: 3.2517 - mae: 1.4307\n",
            "Epoch 3/70\n",
            "6/6 [==============================] - 0s 34ms/step - loss: 4.4189 - mae: 1.6707\n",
            "Epoch 4/70\n",
            "6/6 [==============================] - 0s 32ms/step - loss: 2.2603 - mae: 1.2108\n",
            "Epoch 5/70\n",
            "6/6 [==============================] - 0s 32ms/step - loss: 2.5824 - mae: 1.2835\n",
            "Epoch 6/70\n",
            "6/6 [==============================] - 0s 37ms/step - loss: 2.6328 - mae: 1.2961\n",
            "Epoch 7/70\n",
            "6/6 [==============================] - 0s 34ms/step - loss: 2.1953 - mae: 1.1806\n",
            "Epoch 8/70\n",
            "6/6 [==============================] - 0s 32ms/step - loss: 2.0593 - mae: 1.1422\n",
            "Epoch 9/70\n",
            "6/6 [==============================] - 0s 30ms/step - loss: 2.5560 - mae: 1.2930\n",
            "Epoch 10/70\n",
            "6/6 [==============================] - 0s 31ms/step - loss: 1.7802 - mae: 1.0516\n",
            "Epoch 11/70\n",
            "6/6 [==============================] - 0s 36ms/step - loss: 2.4932 - mae: 1.2484\n",
            "Epoch 12/70\n",
            "6/6 [==============================] - 0s 30ms/step - loss: 2.0411 - mae: 1.1322\n",
            "Epoch 13/70\n",
            "6/6 [==============================] - 0s 29ms/step - loss: 1.7512 - mae: 1.0485\n",
            "Epoch 14/70\n",
            "6/6 [==============================] - 0s 30ms/step - loss: 1.9273 - mae: 1.0942\n",
            "Epoch 15/70\n",
            "6/6 [==============================] - 0s 29ms/step - loss: 2.2692 - mae: 1.1912\n",
            "Epoch 16/70\n",
            "6/6 [==============================] - 0s 29ms/step - loss: 1.6879 - mae: 1.0181\n",
            "Epoch 17/70\n",
            "6/6 [==============================] - 0s 35ms/step - loss: 2.0921 - mae: 1.1716\n",
            "Epoch 18/70\n",
            "6/6 [==============================] - 0s 30ms/step - loss: 1.6076 - mae: 1.0057\n",
            "Epoch 19/70\n",
            "6/6 [==============================] - 0s 33ms/step - loss: 1.5998 - mae: 0.9956\n",
            "Epoch 20/70\n",
            "6/6 [==============================] - 0s 32ms/step - loss: 1.6153 - mae: 0.9888\n",
            "Epoch 21/70\n",
            "6/6 [==============================] - 0s 28ms/step - loss: 2.1515 - mae: 1.1586\n",
            "Epoch 22/70\n",
            "6/6 [==============================] - 0s 31ms/step - loss: 1.6715 - mae: 1.0214\n",
            "Epoch 23/70\n",
            "6/6 [==============================] - 0s 35ms/step - loss: 1.5157 - mae: 0.9862\n",
            "Epoch 24/70\n",
            "6/6 [==============================] - 0s 32ms/step - loss: 2.2365 - mae: 1.1872\n",
            "Epoch 25/70\n",
            "6/6 [==============================] - 0s 29ms/step - loss: 1.5640 - mae: 0.9839\n",
            "Epoch 26/70\n",
            "6/6 [==============================] - 0s 36ms/step - loss: 1.5843 - mae: 0.9955\n",
            "Epoch 27/70\n",
            "6/6 [==============================] - 0s 33ms/step - loss: 1.5001 - mae: 0.9728\n",
            "Epoch 28/70\n",
            "6/6 [==============================] - 0s 31ms/step - loss: 1.6667 - mae: 1.0104\n",
            "Epoch 29/70\n",
            "6/6 [==============================] - 0s 31ms/step - loss: 1.6521 - mae: 1.0083\n",
            "Epoch 30/70\n",
            "6/6 [==============================] - 0s 31ms/step - loss: 1.4127 - mae: 0.9282\n",
            "Epoch 31/70\n",
            "6/6 [==============================] - 0s 38ms/step - loss: 1.4617 - mae: 0.9476\n",
            "Epoch 32/70\n",
            "6/6 [==============================] - 0s 37ms/step - loss: 1.4731 - mae: 0.9453\n",
            "Epoch 33/70\n",
            "6/6 [==============================] - 0s 28ms/step - loss: 1.5631 - mae: 0.9840\n",
            "Epoch 34/70\n",
            "6/6 [==============================] - 0s 29ms/step - loss: 1.5778 - mae: 0.9973\n",
            "Epoch 35/70\n",
            "6/6 [==============================] - 0s 31ms/step - loss: 1.2355 - mae: 0.8839\n",
            "Epoch 36/70\n",
            "6/6 [==============================] - 0s 30ms/step - loss: 1.5792 - mae: 0.9991\n",
            "Epoch 37/70\n",
            "6/6 [==============================] - 0s 32ms/step - loss: 1.4375 - mae: 0.9528\n",
            "Epoch 38/70\n",
            "6/6 [==============================] - 0s 31ms/step - loss: 1.2793 - mae: 0.8719\n",
            "Epoch 39/70\n",
            "6/6 [==============================] - 0s 28ms/step - loss: 1.1200 - mae: 0.8305\n",
            "Epoch 40/70\n",
            "6/6 [==============================] - 0s 33ms/step - loss: 1.1272 - mae: 0.8456\n",
            "Epoch 41/70\n",
            "6/6 [==============================] - 0s 30ms/step - loss: 1.6459 - mae: 1.0229\n",
            "Epoch 42/70\n",
            "6/6 [==============================] - 0s 28ms/step - loss: 1.3826 - mae: 0.9288\n",
            "Epoch 43/70\n",
            "6/6 [==============================] - 0s 33ms/step - loss: 1.3656 - mae: 0.9239\n",
            "Epoch 44/70\n",
            "6/6 [==============================] - 0s 32ms/step - loss: 1.2315 - mae: 0.8462\n",
            "Epoch 45/70\n",
            "6/6 [==============================] - 0s 29ms/step - loss: 1.0517 - mae: 0.7914\n",
            "Epoch 46/70\n",
            "6/6 [==============================] - 0s 29ms/step - loss: 1.5800 - mae: 1.0046\n",
            "Epoch 47/70\n",
            "6/6 [==============================] - 0s 30ms/step - loss: 1.2283 - mae: 0.8753\n",
            "Epoch 48/70\n",
            "6/6 [==============================] - 0s 33ms/step - loss: 0.9650 - mae: 0.7811\n",
            "Epoch 49/70\n",
            "6/6 [==============================] - 0s 30ms/step - loss: 1.4285 - mae: 0.9490\n",
            "Epoch 50/70\n",
            "6/6 [==============================] - 0s 30ms/step - loss: 1.0694 - mae: 0.8295\n",
            "Epoch 51/70\n",
            "6/6 [==============================] - 0s 30ms/step - loss: 1.2938 - mae: 0.9070\n",
            "Epoch 52/70\n",
            "6/6 [==============================] - 0s 33ms/step - loss: 1.2807 - mae: 0.8769\n",
            "Epoch 53/70\n",
            "6/6 [==============================] - 0s 33ms/step - loss: 1.1640 - mae: 0.8417\n",
            "Epoch 54/70\n",
            "6/6 [==============================] - 0s 31ms/step - loss: 1.2396 - mae: 0.8760\n",
            "Epoch 55/70\n",
            "6/6 [==============================] - 0s 30ms/step - loss: 0.9478 - mae: 0.7678\n",
            "Epoch 56/70\n",
            "6/6 [==============================] - 0s 32ms/step - loss: 1.2040 - mae: 0.8660\n",
            "Epoch 57/70\n",
            "6/6 [==============================] - 0s 29ms/step - loss: 1.0042 - mae: 0.7923\n",
            "Epoch 58/70\n",
            "6/6 [==============================] - 0s 29ms/step - loss: 1.3555 - mae: 0.9183\n",
            "Epoch 59/70\n",
            "6/6 [==============================] - 0s 33ms/step - loss: 0.8417 - mae: 0.7167\n",
            "Epoch 60/70\n",
            "6/6 [==============================] - 0s 28ms/step - loss: 0.8664 - mae: 0.7363\n",
            "Epoch 61/70\n",
            "6/6 [==============================] - 0s 32ms/step - loss: 0.9775 - mae: 0.7771\n",
            "Epoch 62/70\n",
            "6/6 [==============================] - 0s 30ms/step - loss: 1.4945 - mae: 0.9706\n",
            "Epoch 63/70\n",
            "6/6 [==============================] - 0s 31ms/step - loss: 0.8365 - mae: 0.7166\n",
            "Epoch 64/70\n",
            "6/6 [==============================] - 0s 31ms/step - loss: 0.9934 - mae: 0.7994\n",
            "Epoch 65/70\n",
            "6/6 [==============================] - 0s 32ms/step - loss: 0.8339 - mae: 0.7130\n",
            "Epoch 66/70\n",
            "6/6 [==============================] - 0s 29ms/step - loss: 1.1440 - mae: 0.8576\n",
            "Epoch 67/70\n",
            "6/6 [==============================] - 0s 28ms/step - loss: 0.7938 - mae: 0.6860\n",
            "Epoch 68/70\n",
            "6/6 [==============================] - 0s 27ms/step - loss: 0.9209 - mae: 0.7479\n",
            "Epoch 69/70\n",
            "6/6 [==============================] - 0s 30ms/step - loss: 1.0843 - mae: 0.8234\n",
            "Epoch 70/70\n",
            "6/6 [==============================] - 0s 31ms/step - loss: 0.8010 - mae: 0.7048\n",
            "11/11 [==============================] - 1s 5ms/step\n",
            "Kappa Score: 0.706920641620937\n",
            "\n",
            "--------Fold 3--------\n",
            "\n"
          ]
        },
        {
          "name": "stderr",
          "output_type": "stream",
          "text": [
            "WARNING:tensorflow:Layer lstm will not use cuDNN kernels since it doesn't meet the criteria. It will use a generic GPU kernel as fallback when running on GPU.\n",
            "WARNING:tensorflow:Layer lstm will not use cuDNN kernels since it doesn't meet the criteria. It will use a generic GPU kernel as fallback when running on GPU.\n",
            "WARNING:tensorflow:Layer lstm will not use cuDNN kernels since it doesn't meet the criteria. It will use a generic GPU kernel as fallback when running on GPU.\n",
            "WARNING:tensorflow:Layer lstm_1 will not use cuDNN kernels since it doesn't meet the criteria. It will use a generic GPU kernel as fallback when running on GPU.\n",
            "WARNING:tensorflow:Layer lstm_1 will not use cuDNN kernels since it doesn't meet the criteria. It will use a generic GPU kernel as fallback when running on GPU.\n",
            "WARNING:tensorflow:Layer lstm_1 will not use cuDNN kernels since it doesn't meet the criteria. It will use a generic GPU kernel as fallback when running on GPU.\n"
          ]
        },
        {
          "name": "stdout",
          "output_type": "stream",
          "text": [
            "Model: \"sequential\"\n",
            "_________________________________________________________________\n",
            " Layer (type)                Output Shape              Param #   \n",
            "=================================================================\n",
            " bidirectional (Bidirectiona  (None, 1, 800)           3740800   \n",
            " l)                                                              \n",
            "                                                                 \n",
            " bidirectional_1 (Bidirectio  (None, 256)              951296    \n",
            " nal)                                                            \n",
            "                                                                 \n",
            " dropout (Dropout)           (None, 256)               0         \n",
            "                                                                 \n",
            " dense (Dense)               (None, 1)                 257       \n",
            "                                                                 \n",
            "=================================================================\n",
            "Total params: 4,692,353\n",
            "Trainable params: 4,692,353\n",
            "Non-trainable params: 0\n",
            "_________________________________________________________________\n",
            "Epoch 1/70\n",
            "6/6 [==============================] - 9s 30ms/step - loss: 14.4552 - mae: 3.0192\n",
            "Epoch 2/70\n",
            "6/6 [==============================] - 0s 27ms/step - loss: 4.0553 - mae: 1.6123\n",
            "Epoch 3/70\n",
            "6/6 [==============================] - 0s 28ms/step - loss: 3.0283 - mae: 1.4017\n",
            "Epoch 4/70\n",
            "6/6 [==============================] - 0s 29ms/step - loss: 3.0519 - mae: 1.4092\n",
            "Epoch 5/70\n",
            "6/6 [==============================] - 0s 25ms/step - loss: 2.2107 - mae: 1.1929\n",
            "Epoch 6/70\n",
            "6/6 [==============================] - 0s 27ms/step - loss: 3.1950 - mae: 1.4365\n",
            "Epoch 7/70\n",
            "6/6 [==============================] - 0s 28ms/step - loss: 1.8547 - mae: 1.1011\n",
            "Epoch 8/70\n",
            "6/6 [==============================] - 0s 26ms/step - loss: 1.9375 - mae: 1.1193\n",
            "Epoch 9/70\n",
            "6/6 [==============================] - 0s 30ms/step - loss: 2.9576 - mae: 1.3778\n",
            "Epoch 10/70\n",
            "6/6 [==============================] - 0s 29ms/step - loss: 1.9007 - mae: 1.0818\n",
            "Epoch 11/70\n",
            "6/6 [==============================] - 0s 27ms/step - loss: 2.2882 - mae: 1.2065\n",
            "Epoch 12/70\n",
            "6/6 [==============================] - 0s 28ms/step - loss: 1.9161 - mae: 1.1008\n",
            "Epoch 13/70\n",
            "6/6 [==============================] - 0s 27ms/step - loss: 2.0052 - mae: 1.1209\n",
            "Epoch 14/70\n",
            "6/6 [==============================] - 0s 29ms/step - loss: 2.2741 - mae: 1.2210\n",
            "Epoch 15/70\n",
            "6/6 [==============================] - 0s 28ms/step - loss: 2.0149 - mae: 1.1212\n",
            "Epoch 16/70\n",
            "6/6 [==============================] - 0s 28ms/step - loss: 1.9534 - mae: 1.1069\n",
            "Epoch 17/70\n",
            "6/6 [==============================] - 0s 27ms/step - loss: 1.6652 - mae: 1.0111\n",
            "Epoch 18/70\n",
            "6/6 [==============================] - 0s 26ms/step - loss: 1.6920 - mae: 1.0027\n",
            "Epoch 19/70\n",
            "6/6 [==============================] - 0s 26ms/step - loss: 2.1043 - mae: 1.1566\n",
            "Epoch 20/70\n",
            "6/6 [==============================] - 0s 27ms/step - loss: 1.8829 - mae: 1.1065\n",
            "Epoch 21/70\n",
            "6/6 [==============================] - 0s 29ms/step - loss: 1.4860 - mae: 0.9618\n",
            "Epoch 22/70\n",
            "6/6 [==============================] - 0s 28ms/step - loss: 2.2373 - mae: 1.1833\n",
            "Epoch 23/70\n",
            "6/6 [==============================] - 0s 28ms/step - loss: 1.6350 - mae: 1.0073\n",
            "Epoch 24/70\n",
            "6/6 [==============================] - 0s 27ms/step - loss: 1.7623 - mae: 1.0665\n",
            "Epoch 25/70\n",
            "6/6 [==============================] - 0s 26ms/step - loss: 1.7197 - mae: 1.0461\n",
            "Epoch 26/70\n",
            "6/6 [==============================] - 0s 28ms/step - loss: 1.6911 - mae: 1.0346\n",
            "Epoch 27/70\n",
            "6/6 [==============================] - 0s 33ms/step - loss: 1.8248 - mae: 1.0645\n",
            "Epoch 28/70\n",
            "6/6 [==============================] - 0s 29ms/step - loss: 1.6668 - mae: 1.0252\n",
            "Epoch 29/70\n",
            "6/6 [==============================] - 0s 26ms/step - loss: 1.4349 - mae: 0.9351\n",
            "Epoch 30/70\n",
            "6/6 [==============================] - 0s 27ms/step - loss: 1.6124 - mae: 0.9959\n",
            "Epoch 31/70\n",
            "6/6 [==============================] - 0s 26ms/step - loss: 1.8157 - mae: 1.0576\n",
            "Epoch 32/70\n",
            "6/6 [==============================] - 0s 28ms/step - loss: 1.7580 - mae: 1.0446\n",
            "Epoch 33/70\n",
            "6/6 [==============================] - 0s 29ms/step - loss: 1.3658 - mae: 0.9142\n",
            "Epoch 34/70\n",
            "6/6 [==============================] - 0s 27ms/step - loss: 1.7810 - mae: 1.0570\n",
            "Epoch 35/70\n",
            "6/6 [==============================] - 0s 27ms/step - loss: 1.5099 - mae: 0.9586\n",
            "Epoch 36/70\n",
            "6/6 [==============================] - 0s 25ms/step - loss: 1.3082 - mae: 0.8918\n",
            "Epoch 37/70\n",
            "6/6 [==============================] - 0s 28ms/step - loss: 1.9547 - mae: 1.1254\n",
            "Epoch 38/70\n",
            "6/6 [==============================] - 0s 27ms/step - loss: 1.3949 - mae: 0.9362\n",
            "Epoch 39/70\n",
            "6/6 [==============================] - 0s 26ms/step - loss: 1.4749 - mae: 0.9399\n",
            "Epoch 40/70\n",
            "6/6 [==============================] - 0s 27ms/step - loss: 1.2870 - mae: 0.8799\n",
            "Epoch 41/70\n",
            "6/6 [==============================] - 0s 26ms/step - loss: 1.2341 - mae: 0.8815\n",
            "Epoch 42/70\n",
            "6/6 [==============================] - 0s 31ms/step - loss: 1.5939 - mae: 1.0035\n",
            "Epoch 43/70\n",
            "6/6 [==============================] - 0s 26ms/step - loss: 1.2330 - mae: 0.8638\n",
            "Epoch 44/70\n",
            "6/6 [==============================] - 0s 31ms/step - loss: 1.4817 - mae: 0.9668\n",
            "Epoch 45/70\n",
            "6/6 [==============================] - 0s 28ms/step - loss: 1.1161 - mae: 0.8261\n",
            "Epoch 46/70\n",
            "6/6 [==============================] - 0s 29ms/step - loss: 1.5150 - mae: 0.9560\n",
            "Epoch 47/70\n",
            "6/6 [==============================] - 0s 29ms/step - loss: 1.3928 - mae: 0.9333\n",
            "Epoch 48/70\n",
            "6/6 [==============================] - 0s 27ms/step - loss: 1.2703 - mae: 0.8742\n",
            "Epoch 49/70\n",
            "6/6 [==============================] - 0s 26ms/step - loss: 1.0279 - mae: 0.7860\n",
            "Epoch 50/70\n",
            "6/6 [==============================] - 0s 30ms/step - loss: 1.4146 - mae: 0.9536\n",
            "Epoch 51/70\n",
            "6/6 [==============================] - 0s 29ms/step - loss: 1.1232 - mae: 0.8261\n",
            "Epoch 52/70\n",
            "6/6 [==============================] - 0s 28ms/step - loss: 1.0965 - mae: 0.8186\n",
            "Epoch 53/70\n",
            "6/6 [==============================] - 0s 33ms/step - loss: 1.2803 - mae: 0.8920\n",
            "Epoch 54/70\n",
            "6/6 [==============================] - 0s 26ms/step - loss: 1.1165 - mae: 0.8134\n",
            "Epoch 55/70\n",
            "6/6 [==============================] - 0s 28ms/step - loss: 0.9338 - mae: 0.7506\n",
            "Epoch 56/70\n",
            "6/6 [==============================] - 0s 32ms/step - loss: 1.5190 - mae: 0.9621\n",
            "Epoch 57/70\n",
            "6/6 [==============================] - 0s 29ms/step - loss: 0.9409 - mae: 0.7661\n",
            "Epoch 58/70\n",
            "6/6 [==============================] - 0s 29ms/step - loss: 1.1119 - mae: 0.8122\n",
            "Epoch 59/70\n",
            "6/6 [==============================] - 0s 30ms/step - loss: 0.9880 - mae: 0.7675\n",
            "Epoch 60/70\n",
            "6/6 [==============================] - 0s 26ms/step - loss: 0.9145 - mae: 0.7477\n",
            "Epoch 61/70\n",
            "6/6 [==============================] - 0s 25ms/step - loss: 1.0350 - mae: 0.7945\n",
            "Epoch 62/70\n",
            "6/6 [==============================] - 0s 29ms/step - loss: 1.4321 - mae: 0.9333\n",
            "Epoch 63/70\n",
            "6/6 [==============================] - 0s 25ms/step - loss: 0.8460 - mae: 0.7080\n",
            "Epoch 64/70\n",
            "6/6 [==============================] - 0s 27ms/step - loss: 1.1096 - mae: 0.8383\n",
            "Epoch 65/70\n",
            "6/6 [==============================] - 0s 30ms/step - loss: 0.8619 - mae: 0.7141\n",
            "Epoch 66/70\n",
            "6/6 [==============================] - 0s 27ms/step - loss: 1.1874 - mae: 0.8596\n",
            "Epoch 67/70\n",
            "6/6 [==============================] - 0s 28ms/step - loss: 1.0098 - mae: 0.7910\n",
            "Epoch 68/70\n",
            "6/6 [==============================] - 0s 30ms/step - loss: 1.0598 - mae: 0.7962\n",
            "Epoch 69/70\n",
            "6/6 [==============================] - 0s 25ms/step - loss: 0.8940 - mae: 0.7372\n",
            "Epoch 70/70\n",
            "6/6 [==============================] - 0s 31ms/step - loss: 1.0648 - mae: 0.8264\n",
            "11/11 [==============================] - 1s 4ms/step\n",
            "Kappa Score: 0.7558978851923843\n",
            "Average kappa score value is : 0.7414660827392364\n"
          ]
        }
      ],
      "source": [
        "## Sets experiment BERT\n",
        "import time\n",
        "import torch\n",
        "import transformers as ppb\n",
        "#import warnings\n",
        "\n",
        "#Set number from ASAP AES Data Set\n",
        "set_count = 7\n",
        "\n",
        "#List to save score\n",
        "all_sets_score = []\n",
        "\n",
        "#=====================Iterate through data set==================================#\n",
        "#Iterate through required Data Set\n",
        "for s in [data_set]:\n",
        "  #=========================Intial Set up=======================================#\n",
        "  print(\"\\n--------SET {}--------\\n\".format(set_count))\n",
        "  #Assign Data Set to x, all features\n",
        "  X = s\n",
        "\n",
        "  #Assign Target Data Set feature i.e Structure Socre , to y\n",
        "  y = s['structure_score']\n",
        "\n",
        "  #KFold for cross validation. Split X accordingly for cross validation.\n",
        "  cv = KFold(n_splits=3, shuffle=True)\n",
        "  cv_data = cv.split(X)\n",
        "\n",
        "  #List to store result\n",
        "  results = []\n",
        "  prediction_list = []\n",
        "\n",
        "  #Intiaite fold count\n",
        "  fold_count =1\n",
        "\n",
        "  #Use cuda\n",
        "  cuda = torch.device('cuda')\n",
        "\n",
        "  #========================Initialise BERT Model================================#\n",
        "  # For BERT embeddings:\n",
        "  model_class, tokenizer_class, pretrained_weights = (ppb.BertModel, ppb.BertTokenizer, 'bert-base-uncased')\n",
        "  # Load pretrained BERT model/tokenizer\n",
        "  tokenizer = tokenizer_class.from_pretrained(pretrained_weights)\n",
        "  model = model_class.from_pretrained(pretrained_weights)\n",
        "  #=============================================================================#\n",
        "\n",
        "  #Using cuda GPU over train/test split\n",
        "  with torch.cuda.device(cuda):\n",
        "    for traincv, testcv in cv_data:\n",
        "      torch.cuda.empty_cache()\n",
        "      print(\"\\n--------Fold {}--------\\n\".format(fold_count))\n",
        "      # get the train and test split from the dataset,using the KFold validation created.\n",
        "      X_train, X_test, y_train, y_test = X.iloc[traincv], X.iloc[testcv], y.iloc[traincv], y.iloc[testcv]\n",
        "\n",
        "      #Assign value to global dataframe for final testing\n",
        "      ss_test_x = X_test\n",
        "      ss_test_y = y_test\n",
        "\n",
        "      #Get required column from the train-test split data i.e. essay\n",
        "      \n",
        "      train_essays = X_train['essay'].apply(lambda x: clean_essay(x).lower())\n",
        "      #print(\"y_train\",y_train)\n",
        "      test_essays = X_test['essay'].apply(lambda x: clean_essay(x).lower())\n",
        "      \n",
        "      #List to store sentences, their token, embeddings\n",
        "      sentences = []\n",
        "      tokenize_sentences = []\n",
        "      train_bert_embeddings = []\n",
        "\n",
        "      #=================Get BERT Embeddings for train set=======================#\n",
        "      #Tokenize train and test essays\n",
        "      tokenized_train = train_essays.apply((lambda x: tokenizer.encode(x, add_special_tokens=True ,max_length=200)))\n",
        "      tokenized_test = test_essays.apply((lambda x: tokenizer.encode(x, add_special_tokens=True ,max_length=200)))\n",
        "\n",
        "\n",
        "      #TRAIN SET\n",
        "\n",
        "      #Get max len of token in tokenized_train\n",
        "      max_len = 0\n",
        "      for i in tokenized_train.values:\n",
        "        if len(i) > max_len:\n",
        "          max_len = len(i)\n",
        "\n",
        "      #Make each essay's token array equal length by padding 0\n",
        "      padded_train = np.array([i + [0]*(max_len-len(i)) for i in tokenized_train.values])\n",
        "\n",
        "      #In padded_train , where it is not 0 , make attention mask 1 else 0\n",
        "      attention_mask_train = np.where(padded_train != 0, 1, 0)\n",
        "\n",
        "\n",
        "      #torch.tensor() to create a tensor as data is already present.\n",
        "      train_input_ids = torch.tensor(padded_train)\n",
        "      train_attention_mask = torch.tensor(attention_mask_train)\n",
        "\n",
        "      #Send gerated tensors to model(BERT) and get hidden states for train features\n",
        "      with torch.no_grad():\n",
        "        last_hidden_states_train = model(train_input_ids, attention_mask=train_attention_mask)\n",
        "\n",
        "      #=================Final BERT Embedding for Train Set======================#\n",
        "      #Actual BERT Embedding vector of input sentences for TEST SET  \n",
        "      train_features = last_hidden_states_train[0][:,0,:].numpy()\n",
        "      #=========================================================================#\n",
        "\n",
        "      ## TEST SET\n",
        "\n",
        "      #Get max len of token in tokenized_test\n",
        "      max_len = 0\n",
        "      for i in tokenized_test.values:\n",
        "        if len(i) > max_len:\n",
        "          max_len = len(i)\n",
        "      \n",
        "      #Make them equal length by padding 0\n",
        "      padded_test = np.array([i + [0]*(max_len-len(i)) for i in tokenized_test.values])\n",
        "\n",
        "      #In padded_test , where it is not 0 , make attention mask 1 else 0\n",
        "      attention_mask_test = np.where(padded_test != 0, 1, 0)\n",
        "\n",
        "      #torch.tensor() to create a tensor as data is already present.\n",
        "      test_input_ids = torch.tensor(padded_test)  \n",
        "      test_attention_mask = torch.tensor(attention_mask_test)\n",
        "\n",
        "      #Send gerated tensors to model and get test features\n",
        "      with torch.no_grad():\n",
        "        last_hidden_states_test = model(test_input_ids, attention_mask=test_attention_mask)\n",
        "\n",
        "      #=================Final BERT Embedding for Test =Set======================#      \n",
        "      #Actual BERT Embedding vector of input sentences for TRAINING SET\n",
        "      test_features = last_hidden_states_test[0][:,0,:].numpy()\n",
        "      #=========================================================================#\n",
        "\n",
        "\n",
        "#===============================================================================#\n",
        "      #===============Prepare train set for training the LSTM Model============#\n",
        "      #Pull shape of train and test features\n",
        "      train_x,train_y = train_features.shape\n",
        "      test_x,test_y = test_features.shape\n",
        "\n",
        "      #reshape into vectors\n",
        "      trainDataVectors = np.reshape(train_features,(train_x,1,train_y))\n",
        "      testDataVectors = np.reshape(test_features,(test_x,1,test_y))\n",
        "\n",
        "      #Initiate Structure Score (Sequential) Model\n",
        "      structure_score_model = get_model(bidirectional=True)\n",
        "\n",
        "      #Fit model i.e. Train the Model\n",
        "      structure_score_model.fit(trainDataVectors, y_train, batch_size=128, epochs=epochs)\n",
        "      #Predictions of Trained Model\n",
        "      y_pred = structure_score_model.predict(testDataVectors)\n",
        "\n",
        "#===============================================================================#\n",
        "      #===========================Evaluate the trained Model====================#\n",
        "      #Round it up to even number of decimals\n",
        "      y_pred = np.around(y_pred)\n",
        "      #y_pred.dropna()\n",
        "\n",
        "      #Replace NaN with 0\n",
        "      np.nan_to_num(y_pred)\n",
        "      \n",
        "      a = y_pred\n",
        "      y_pred_new = []\n",
        "      for i in a:\n",
        "        y_pred_new.append(score_range(round(i[0])))\n",
        "      y_pred = np.array(y_pred_new)\n",
        "\n",
        "      # evaluate the model i.e Calculate Quadratic Weighted kappa Score\n",
        "      b = y_test.values\n",
        "      result = cohen_kappa_score(y_test.values,y_pred,weights='quadratic')\n",
        "      print(\"Kappa Score: {}\".format(result))\n",
        "      results.append(result)\n",
        "\n",
        "      #Increase fold count\n",
        "      fold_count +=1\n",
        "\n",
        "      #Clear Session\n",
        "      import tensorflow as tf\n",
        "      tf.keras.backend.clear_session()\n",
        "\n",
        "  all_sets_score.append(results)\n",
        "  print(\"Average kappa score value is : {}\".format(np.mean(np.asarray(results))))"
      ]
    },
    {
      "cell_type": "markdown",
      "metadata": {
        "id": "377AJV1Alzha"
      },
      "source": [
        "#### ***Evaluation Score***"
      ]
    },
    {
      "cell_type": "code",
      "execution_count": null,
      "metadata": {
        "colab": {
          "base_uri": "https://localhost:8080/"
        },
        "id": "klFg35t43Kqs",
        "outputId": "efa5cb28-cabf-4980-e843-794ad01b932b"
      },
      "outputs": [
        {
          "name": "stdout",
          "output_type": "stream",
          "text": [
            "Average kappa score value is : 0.7414660827392364\n"
          ]
        }
      ],
      "source": [
        "print(\"Average kappa score value is : {}\".format(np.mean(np.asarray(results))))"
      ]
    },
    {
      "cell_type": "code",
      "execution_count": null,
      "metadata": {
        "id": "FvfMp51wclbF"
      },
      "outputs": [],
      "source": [
        "#Function to get essay score for an input essay using above model\n",
        "def get_essay_structure_score(essay):\n",
        "  df = pd.Series(clean_essay(essay).lower())\n",
        "  #Tokenize train and test essays\n",
        "  tokenized = df.apply((lambda x: tokenizer.encode(x, add_special_tokens=True ,max_length=200)))\n",
        "  max_len = 0\n",
        "  for i in tokenized.values:\n",
        "    if len(i) > max_len:\n",
        "      max_len = len(i)\n",
        "\n",
        "  #Make them equal length by padding 0\n",
        "  padded = np.array([i + [0]*(max_len-len(i)) for i in tokenized.values])\n",
        "\n",
        "  #In padded , where it is not 0 , make attention mask 1 else 0\n",
        "  attention_mask = np.where(padded != 0, 1, 0)\n",
        "\n",
        "\n",
        "  #torch.tensor() to create a tensor as data is already present.\n",
        "  t_input_ids = torch.tensor(padded)\n",
        "  t_attention_mask = torch.tensor(attention_mask)\n",
        "\n",
        "  #Send gerated tensors to model and get train features\n",
        "  with torch.no_grad():\n",
        "    last_hidden_states_train = model(t_input_ids, attention_mask=t_attention_mask)\n",
        "  features = last_hidden_states_train[0][:,0,:].numpy()\n",
        "  DataVectors = np.reshape(features,(1,1,768))\n",
        "  score = score_range(round(structure_score_model.predict(DataVectors)[0][0]))\n",
        "  return score"
      ]
    },
    {
      "cell_type": "code",
      "execution_count": null,
      "metadata": {
        "colab": {
          "base_uri": "https://localhost:8080/"
        },
        "id": "9IPNycee-AT0",
        "outputId": "e2e30cda-7b2c-433f-be50-9f2a3d2d5c0f"
      },
      "outputs": [
        {
          "name": "stdout",
          "output_type": "stream",
          "text": [
            "Model: \"sequential\"\n",
            "_________________________________________________________________\n",
            " Layer (type)                Output Shape              Param #   \n",
            "=================================================================\n",
            " bidirectional (Bidirectiona  (None, 1, 800)           3740800   \n",
            " l)                                                              \n",
            "                                                                 \n",
            " bidirectional_1 (Bidirectio  (None, 256)              951296    \n",
            " nal)                                                            \n",
            "                                                                 \n",
            " dropout (Dropout)           (None, 256)               0         \n",
            "                                                                 \n",
            " dense (Dense)               (None, 1)                 257       \n",
            "                                                                 \n",
            "=================================================================\n",
            "Total params: 4,692,353\n",
            "Trainable params: 4,692,353\n",
            "Non-trainable params: 0\n",
            "_________________________________________________________________\n"
          ]
        }
      ],
      "source": [
        "structure_score_model.summary()"
      ]
    },
    {
      "cell_type": "markdown",
      "metadata": {
        "id": "tZUrxdikmb1X"
      },
      "source": [
        "#### ***Save the Model***"
      ]
    },
    {
      "cell_type": "code",
      "execution_count": null,
      "metadata": {
        "colab": {
          "base_uri": "https://localhost:8080/"
        },
        "id": "L5SuNV843AnR",
        "outputId": "132e3a91-6f2b-43c5-ad6d-50e8cf21a420"
      },
      "outputs": [
        {
          "data": {
            "application/vnd.google.colaboratory.intrinsic+json": {
              "type": "string"
            },
            "text/plain": [
              "'/content/drive/MyDrive/Colab Notebooks/AES/Saved Models/AES Models/Structure_Score_Model/ssm_model_vF.h5'"
            ]
          },
          "execution_count": 24,
          "metadata": {},
          "output_type": "execute_result"
        }
      ],
      "source": [
        "save_path_string"
      ]
    },
    {
      "cell_type": "code",
      "execution_count": null,
      "metadata": {
        "colab": {
          "base_uri": "https://localhost:8080/"
        },
        "id": "CtAxwirqo8tl",
        "outputId": "c3cb99d2-b5a1-4239-cfeb-4d9e2665ceca"
      },
      "outputs": [
        {
          "name": "stdout",
          "output_type": "stream",
          "text": [
            "STRUCTURE save option not selected.\n"
          ]
        }
      ],
      "source": [
        "#Save newly trained module if set to\n",
        "#structure_save_option = 1\n",
        "if structure_save_option == 1:\n",
        "\n",
        "  #Path to save models\n",
        "  \n",
        "  #Structure Score Sequential Model save \n",
        "  structure_score_model.save(save_path_string)\n",
        "  print_banner(\"Model Succesfully Saved at path : \\n\"+save_path_string)\n",
        "\n",
        "if structure_save_option == 0:\n",
        "  print(\"STRUCTURE save option not selected.\")"
      ]
    },
    {
      "cell_type": "code",
      "execution_count": null,
      "metadata": {
        "colab": {
          "base_uri": "https://localhost:8080/"
        },
        "id": "Pgh7OM2CYPcr",
        "outputId": "537563f8-cc8e-4cd8-9d76-c53c9ca80815"
      },
      "outputs": [
        {
          "name": "stdout",
          "output_type": "stream",
          "text": [
            "1/1 [==============================] - 0s 220ms/step\n",
            "STRUCTURE ANALYSIS\n",
            "Structure score for essay using Trained Model is : 8\n"
          ]
        }
      ],
      "source": [
        "essay = \"\"\"One day I was at basketball practice and I was running has with my team when I was getting really really thirsty do after we did are suicides (a running exercise)I asked coach if we could go get some drinks coach said â€œafter are double drible down and back exerciseâ€ @CAPS1 I did the exercise and we all rushed to the drinking fountain and I was at the end of an @NUM1 girl line .I waited and waited until finally there I was faced with that drinking fountain when one girl says â€œ can I have a drink thank youâ€ and all I could do if be stunned..Thats were I heard a bright ladys lets go!â€ I was @CAPS1 mad but I quickly took a @NUM2 second drink of water and rushed over to coach and now Iâ€™m the fisst one alot and I take long drunks do my teammates call me a fish!\"\"\"\n",
        "print(\"STRUCTURE ANALYSIS\\nStructure score for essay using Trained Model is : \"+str(get_essay_structure_score(essay)))"
      ]
    },
    {
      "cell_type": "markdown",
      "metadata": {
        "id": "oY2ITQqsXm41"
      },
      "source": [
        "### ***Functions of Structure Score Module***"
      ]
    },
    {
      "cell_type": "code",
      "execution_count": null,
      "metadata": {
        "colab": {
          "base_uri": "https://localhost:8080/"
        },
        "id": "a6kvAU_RmzeQ",
        "outputId": "3b550d17-8184-4db5-ba5e-4d3befac4172"
      },
      "outputs": [
        {
          "name": "stderr",
          "output_type": "stream",
          "text": [
            "Some weights of the model checkpoint at bert-base-uncased were not used when initializing BertModel: ['cls.seq_relationship.bias', 'cls.seq_relationship.weight', 'cls.predictions.transform.LayerNorm.weight', 'cls.predictions.transform.dense.bias', 'cls.predictions.transform.dense.weight', 'cls.predictions.decoder.weight', 'cls.predictions.transform.LayerNorm.bias', 'cls.predictions.bias']\n",
            "- This IS expected if you are initializing BertModel from the checkpoint of a model trained on another task or with another architecture (e.g. initializing a BertForSequenceClassification model from a BertForPreTraining model).\n",
            "- This IS NOT expected if you are initializing BertModel from the checkpoint of a model that you expect to be exactly identical (initializing a BertForSequenceClassification model from a BertForSequenceClassification model).\n",
            "WARNING:tensorflow:Layer lstm will not use cuDNN kernels since it doesn't meet the criteria. It will use a generic GPU kernel as fallback when running on GPU.\n",
            "WARNING:tensorflow:Layer lstm will not use cuDNN kernels since it doesn't meet the criteria. It will use a generic GPU kernel as fallback when running on GPU.\n",
            "WARNING:tensorflow:Layer lstm will not use cuDNN kernels since it doesn't meet the criteria. It will use a generic GPU kernel as fallback when running on GPU.\n",
            "WARNING:tensorflow:Layer lstm_1 will not use cuDNN kernels since it doesn't meet the criteria. It will use a generic GPU kernel as fallback when running on GPU.\n",
            "WARNING:tensorflow:Layer lstm_1 will not use cuDNN kernels since it doesn't meet the criteria. It will use a generic GPU kernel as fallback when running on GPU.\n",
            "WARNING:tensorflow:Layer lstm_1 will not use cuDNN kernels since it doesn't meet the criteria. It will use a generic GPU kernel as fallback when running on GPU.\n"
          ]
        },
        {
          "name": "stdout",
          "output_type": "stream",
          "text": [
            "=====================================================================================\n",
            "Succesfully Loaded Model : \n",
            "/content/drive/MyDrive/Colab Notebooks/AES/Saved Models/AES Models/Structure_Score_Model/ssm_model_vF.h5\n",
            "=====================================================================================\n"
          ]
        }
      ],
      "source": [
        "epochs = structure_epochs\n",
        "\n",
        "save_path_string = ssm_output_dir+ssm_model_name+'.h5'\n",
        "\n",
        "#========================Initialise BERT and Saved Model================================#\n",
        "# For BERT embeddings:\n",
        "model_class, tokenizer_class, pretrained_weights = (ppb.BertModel, ppb.BertTokenizer, 'bert-base-uncased')\n",
        "# Load pretrained BERT model/tokenizer\n",
        "tokenizer = tokenizer_class.from_pretrained(pretrained_weights)\n",
        "model = model_class.from_pretrained(pretrained_weights)\n",
        "\n",
        "#Load Saved Model\n",
        "new_structure_score_model = tf.keras.models.load_model(save_path_string)\n",
        "print_banner(\"Succesfully Loaded Model : \\n\"+save_path_string)\n",
        "#=============================================================================#\n",
        "\n",
        "def demo_essay_structure_score(essay , structure_score_model = new_structure_score_model,tokenizer = tokenizer , model = model,print_index = 0):\n",
        "  \n",
        "  df = pd.Series(clean_essay(essay).lower())\n",
        "  #Tokenize train and test essays\n",
        "  tokenized = df.apply((lambda x: tokenizer.encode(x, add_special_tokens=True ,max_length=200)))\n",
        "  max_len = 0\n",
        "  for i in tokenized.values:\n",
        "    if len(i) > max_len:\n",
        "      max_len = len(i)\n",
        "\n",
        "  #Make them equal length by padding 0\n",
        "  padded = np.array([i + [0]*(max_len-len(i)) for i in tokenized.values])\n",
        "\n",
        "  #In padded , where it is not 0 , make attention mask 1 else 0\n",
        "  attention_mask = np.where(padded != 0, 1, 0)\n",
        "\n",
        "\n",
        "  #torch.tensor() to create a tensor as data is already present.\n",
        "  t_input_ids = torch.tensor(padded)\n",
        "  t_attention_mask = torch.tensor(attention_mask)\n",
        "\n",
        "  #Send gerated tensors to model and get train features\n",
        "  with torch.no_grad():\n",
        "    last_hidden_states_train = model(t_input_ids, attention_mask=t_attention_mask)\n",
        "  features = last_hidden_states_train[0][:,0,:].numpy()\n",
        "  DataVectors = np.reshape(features,(1,1,768))\n",
        "  score = score_range(round(structure_score_model.predict(DataVectors)[0][0]))\n",
        "  if print_index == 1:\n",
        "    print(\"ss:\",data_set.index)\n",
        "  # return score_range(round(score[0][0]))\n",
        "  return score"
      ]
    },
    {
      "cell_type": "code",
      "execution_count": null,
      "metadata": {
        "colab": {
          "base_uri": "https://localhost:8080/"
        },
        "id": "sWxPvqYQsbME",
        "outputId": "14d074e2-aee0-400a-b5c8-185203dd4d45"
      },
      "outputs": [
        {
          "name": "stdout",
          "output_type": "stream",
          "text": [
            "Model: \"sequential\"\n",
            "_________________________________________________________________\n",
            " Layer (type)                Output Shape              Param #   \n",
            "=================================================================\n",
            " bidirectional (Bidirectiona  (None, 1, 800)           3740800   \n",
            " l)                                                              \n",
            "                                                                 \n",
            " bidirectional_1 (Bidirectio  (None, 256)              951296    \n",
            " nal)                                                            \n",
            "                                                                 \n",
            " dropout (Dropout)           (None, 256)               0         \n",
            "                                                                 \n",
            " dense (Dense)               (None, 1)                 257       \n",
            "                                                                 \n",
            "=================================================================\n",
            "Total params: 4,692,353\n",
            "Trainable params: 4,692,353\n",
            "Non-trainable params: 0\n",
            "_________________________________________________________________\n"
          ]
        }
      ],
      "source": [
        "new_structure_score_model.summary()"
      ]
    },
    {
      "cell_type": "code",
      "execution_count": null,
      "metadata": {
        "colab": {
          "base_uri": "https://localhost:8080/"
        },
        "id": "CJRHejAu-A8G",
        "outputId": "4e27a882-9fb8-4e8c-8e92-0129e49fdd21"
      },
      "outputs": [
        {
          "name": "stdout",
          "output_type": "stream",
          "text": [
            "ESSAY :\n",
            "Patience is when your waiting .I was patience when in line waiting for lunch .I didn’t c ut any one to eat .I was standing and waiting for my turn .Patience ,some people don’t have it .Lots of people just cut or yell at you because they don’t have any patience. Sometimes people will push you out of their way .They only do that because they don’t have patience at all. Patience is what people need .People need patience because lots o f feelings get hurt .Everyone should have patience.\n"
          ]
        }
      ],
      "source": [
        "essay = \"\"\"Patience is when your waiting .I was patience when in line waiting for lunch .I didn’t c ut any one to eat .I was standing and waiting for my turn .Patience ,some people don’t have it .Lots of people just cut or yell at you because they don’t have any patience. Sometimes people will push you out of their way .They only do that because they don’t have patience at all. Patience is what people need .People need patience because lots o f feelings get hurt .Everyone should have patience.\"\"\"\n",
        "print(\"ESSAY :\\n\"+essay)"
      ]
    },
    {
      "cell_type": "code",
      "execution_count": null,
      "metadata": {
        "colab": {
          "base_uri": "https://localhost:8080/"
        },
        "id": "Kv-8ZKEDlCLv",
        "outputId": "3076a76e-d870-4d2f-a51b-a6d605f0a0b9"
      },
      "outputs": [
        {
          "name": "stderr",
          "output_type": "stream",
          "text": [
            "Truncation was not explicitly activated but `max_length` is provided a specific value, please use `truncation=True` to explicitly truncate examples to max length. Defaulting to 'longest_first' truncation strategy. If you encode pairs of sequences (GLUE-style) with the tokenizer you can select this strategy more precisely by providing a specific strategy to `truncation`.\n"
          ]
        },
        {
          "name": "stdout",
          "output_type": "stream",
          "text": [
            "1/1 [==============================] - 1s 769ms/step\n",
            "STRUCTURE ANALYSIS\n",
            "Structure score from SAVED MODEL essay is : 3\n"
          ]
        }
      ],
      "source": [
        "print(\"STRUCTURE ANALYSIS\\nStructure score from SAVED MODEL essay is : \"+str(demo_essay_structure_score(essay)))"
      ]
    },
    {
      "cell_type": "markdown",
      "metadata": {
        "id": "7amd67e-dLeE"
      },
      "source": [
        "## **Grammar Score Module**"
      ]
    },
    {
      "cell_type": "markdown",
      "metadata": {
        "id": "zvUhVHUv9zb0"
      },
      "source": [
        "![AES PH04 Architecture GSM.png](data:image/png;base64,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)"
      ]
    },
    {
      "cell_type": "markdown",
      "metadata": {
        "id": "4qrfdKpclqBf"
      },
      "source": [
        "### ***Training Grammar Score Module***"
      ]
    },
    {
      "cell_type": "markdown",
      "metadata": {
        "id": "98cnIm30DW9_"
      },
      "source": [
        "![AES PH04 Grammar Checking Model.png](data:image/png;base64,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)"
      ]
    },
    {
      "cell_type": "markdown",
      "metadata": {
        "id": "AMwwUZ4SDaj8"
      },
      "source": [
        "Preparing Data Set"
      ]
    },
    {
      "cell_type": "code",
      "execution_count": null,
      "metadata": {
        "colab": {
          "base_uri": "https://localhost:8080/"
        },
        "id": "I2LK6GMJir1c",
        "outputId": "6930c917-d38d-4352-f66c-ea944f1e364a"
      },
      "outputs": [
        {
          "data": {
            "text/html": [
              "\n",
              "  <div id=\"df-0eb4b0cc-b0bf-4a1b-89b3-db214a159a35\">\n",
              "    <div class=\"colab-df-container\">\n",
              "      <div>\n",
              "<style scoped>\n",
              "    .dataframe tbody tr th:only-of-type {\n",
              "        vertical-align: middle;\n",
              "    }\n",
              "\n",
              "    .dataframe tbody tr th {\n",
              "        vertical-align: top;\n",
              "    }\n",
              "\n",
              "    .dataframe thead th {\n",
              "        text-align: right;\n",
              "    }\n",
              "</style>\n",
              "<table border=\"1\" class=\"dataframe\">\n",
              "  <thead>\n",
              "    <tr style=\"text-align: right;\">\n",
              "      <th></th>\n",
              "      <th>sentence_source</th>\n",
              "      <th>label</th>\n",
              "      <th>label_notes</th>\n",
              "      <th>sentence</th>\n",
              "    </tr>\n",
              "  </thead>\n",
              "  <tbody>\n",
              "    <tr>\n",
              "      <th>0</th>\n",
              "      <td>gj04</td>\n",
              "      <td>1</td>\n",
              "      <td>NaN</td>\n",
              "      <td>Our friends won't buy this analysis, let alone...</td>\n",
              "    </tr>\n",
              "    <tr>\n",
              "      <th>1</th>\n",
              "      <td>gj04</td>\n",
              "      <td>1</td>\n",
              "      <td>NaN</td>\n",
              "      <td>One more pseudo generalization and I'm giving up.</td>\n",
              "    </tr>\n",
              "    <tr>\n",
              "      <th>2</th>\n",
              "      <td>gj04</td>\n",
              "      <td>1</td>\n",
              "      <td>NaN</td>\n",
              "      <td>One more pseudo generalization or I'm giving up.</td>\n",
              "    </tr>\n",
              "    <tr>\n",
              "      <th>3</th>\n",
              "      <td>gj04</td>\n",
              "      <td>1</td>\n",
              "      <td>NaN</td>\n",
              "      <td>The more we study verbs, the crazier they get.</td>\n",
              "    </tr>\n",
              "    <tr>\n",
              "      <th>4</th>\n",
              "      <td>gj04</td>\n",
              "      <td>1</td>\n",
              "      <td>NaN</td>\n",
              "      <td>Day by day the facts are getting murkier.</td>\n",
              "    </tr>\n",
              "    <tr>\n",
              "      <th>5</th>\n",
              "      <td>gj04</td>\n",
              "      <td>1</td>\n",
              "      <td>NaN</td>\n",
              "      <td>I'll fix you a drink.</td>\n",
              "    </tr>\n",
              "    <tr>\n",
              "      <th>6</th>\n",
              "      <td>gj04</td>\n",
              "      <td>1</td>\n",
              "      <td>NaN</td>\n",
              "      <td>Fred watered the plants flat.</td>\n",
              "    </tr>\n",
              "    <tr>\n",
              "      <th>7</th>\n",
              "      <td>gj04</td>\n",
              "      <td>1</td>\n",
              "      <td>NaN</td>\n",
              "      <td>Bill coughed his way out of the restaurant.</td>\n",
              "    </tr>\n",
              "    <tr>\n",
              "      <th>8</th>\n",
              "      <td>gj04</td>\n",
              "      <td>1</td>\n",
              "      <td>NaN</td>\n",
              "      <td>We're dancing the night away.</td>\n",
              "    </tr>\n",
              "    <tr>\n",
              "      <th>9</th>\n",
              "      <td>gj04</td>\n",
              "      <td>1</td>\n",
              "      <td>NaN</td>\n",
              "      <td>Herman hammered the metal flat.</td>\n",
              "    </tr>\n",
              "  </tbody>\n",
              "</table>\n",
              "</div>\n",
              "      <button class=\"colab-df-convert\" onclick=\"convertToInteractive('df-0eb4b0cc-b0bf-4a1b-89b3-db214a159a35')\"\n",
              "              title=\"Convert this dataframe to an interactive table.\"\n",
              "              style=\"display:none;\">\n",
              "        \n",
              "  <svg xmlns=\"http://www.w3.org/2000/svg\" height=\"24px\"viewBox=\"0 0 24 24\"\n",
              "       width=\"24px\">\n",
              "    <path d=\"M0 0h24v24H0V0z\" fill=\"none\"/>\n",
              "    <path d=\"M18.56 5.44l.94 2.06.94-2.06 2.06-.94-2.06-.94-.94-2.06-.94 2.06-2.06.94zm-11 1L8.5 8.5l.94-2.06 2.06-.94-2.06-.94L8.5 2.5l-.94 2.06-2.06.94zm10 10l.94 2.06.94-2.06 2.06-.94-2.06-.94-.94-2.06-.94 2.06-2.06.94z\"/><path d=\"M17.41 7.96l-1.37-1.37c-.4-.4-.92-.59-1.43-.59-.52 0-1.04.2-1.43.59L10.3 9.45l-7.72 7.72c-.78.78-.78 2.05 0 2.83L4 21.41c.39.39.9.59 1.41.59.51 0 1.02-.2 1.41-.59l7.78-7.78 2.81-2.81c.8-.78.8-2.07 0-2.86zM5.41 20L4 18.59l7.72-7.72 1.47 1.35L5.41 20z\"/>\n",
              "  </svg>\n",
              "      </button>\n",
              "      \n",
              "  <style>\n",
              "    .colab-df-container {\n",
              "      display:flex;\n",
              "      flex-wrap:wrap;\n",
              "      gap: 12px;\n",
              "    }\n",
              "\n",
              "    .colab-df-convert {\n",
              "      background-color: #E8F0FE;\n",
              "      border: none;\n",
              "      border-radius: 50%;\n",
              "      cursor: pointer;\n",
              "      display: none;\n",
              "      fill: #1967D2;\n",
              "      height: 32px;\n",
              "      padding: 0 0 0 0;\n",
              "      width: 32px;\n",
              "    }\n",
              "\n",
              "    .colab-df-convert:hover {\n",
              "      background-color: #E2EBFA;\n",
              "      box-shadow: 0px 1px 2px rgba(60, 64, 67, 0.3), 0px 1px 3px 1px rgba(60, 64, 67, 0.15);\n",
              "      fill: #174EA6;\n",
              "    }\n",
              "\n",
              "    [theme=dark] .colab-df-convert {\n",
              "      background-color: #3B4455;\n",
              "      fill: #D2E3FC;\n",
              "    }\n",
              "\n",
              "    [theme=dark] .colab-df-convert:hover {\n",
              "      background-color: #434B5C;\n",
              "      box-shadow: 0px 1px 3px 1px rgba(0, 0, 0, 0.15);\n",
              "      filter: drop-shadow(0px 1px 2px rgba(0, 0, 0, 0.3));\n",
              "      fill: #FFFFFF;\n",
              "    }\n",
              "  </style>\n",
              "\n",
              "      <script>\n",
              "        const buttonEl =\n",
              "          document.querySelector('#df-0eb4b0cc-b0bf-4a1b-89b3-db214a159a35 button.colab-df-convert');\n",
              "        buttonEl.style.display =\n",
              "          google.colab.kernel.accessAllowed ? 'block' : 'none';\n",
              "\n",
              "        async function convertToInteractive(key) {\n",
              "          const element = document.querySelector('#df-0eb4b0cc-b0bf-4a1b-89b3-db214a159a35');\n",
              "          const dataTable =\n",
              "            await google.colab.kernel.invokeFunction('convertToInteractive',\n",
              "                                                     [key], {});\n",
              "          if (!dataTable) return;\n",
              "\n",
              "          const docLinkHtml = 'Like what you see? Visit the ' +\n",
              "            '<a target=\"_blank\" href=https://colab.research.google.com/notebooks/data_table.ipynb>data table notebook</a>'\n",
              "            + ' to learn more about interactive tables.';\n",
              "          element.innerHTML = '';\n",
              "          dataTable['output_type'] = 'display_data';\n",
              "          await google.colab.output.renderOutput(dataTable, element);\n",
              "          const docLink = document.createElement('div');\n",
              "          docLink.innerHTML = docLinkHtml;\n",
              "          element.appendChild(docLink);\n",
              "        }\n",
              "      </script>\n",
              "    </div>\n",
              "  </div>\n",
              "  "
            ],
            "text/plain": [
              "  sentence_source  label label_notes  \\\n",
              "0            gj04      1         NaN   \n",
              "1            gj04      1         NaN   \n",
              "2            gj04      1         NaN   \n",
              "3            gj04      1         NaN   \n",
              "4            gj04      1         NaN   \n",
              "5            gj04      1         NaN   \n",
              "6            gj04      1         NaN   \n",
              "7            gj04      1         NaN   \n",
              "8            gj04      1         NaN   \n",
              "9            gj04      1         NaN   \n",
              "\n",
              "                                            sentence  \n",
              "0  Our friends won't buy this analysis, let alone...  \n",
              "1  One more pseudo generalization and I'm giving up.  \n",
              "2   One more pseudo generalization or I'm giving up.  \n",
              "3     The more we study verbs, the crazier they get.  \n",
              "4          Day by day the facts are getting murkier.  \n",
              "5                              I'll fix you a drink.  \n",
              "6                      Fred watered the plants flat.  \n",
              "7        Bill coughed his way out of the restaurant.  \n",
              "8                      We're dancing the night away.  \n",
              "9                    Herman hammered the metal flat.  "
            ]
          },
          "execution_count": 31,
          "metadata": {},
          "output_type": "execute_result"
        }
      ],
      "source": [
        "#Read CoLA Dataset training data\n",
        "df = pd.read_csv(data_set_path+'/CoLA/in_domain_train.tsv', delimiter='\\t', header=None, names=['sentence_source', 'label', 'label_notes', 'sentence'])\n",
        "df.head(10)"
      ]
    },
    {
      "cell_type": "markdown",
      "metadata": {
        "id": "zpo8cBAEDNZN"
      },
      "source": [
        "Tokenize Input for BERT Classificatin of Grammatical Correctness"
      ]
    },
    {
      "cell_type": "code",
      "execution_count": null,
      "metadata": {
        "id": "4ZfUm_aGgX2k"
      },
      "outputs": [],
      "source": [
        "# Get the lists of sentences and their labels.\n",
        "sentences = df.sentence.values\n",
        "labels = df.label.values"
      ]
    },
    {
      "cell_type": "markdown",
      "metadata": {
        "id": "tKtuSxmo9l7c"
      },
      "source": [
        "Create BERT Token and Attention Mask for dataset's sentences"
      ]
    },
    {
      "cell_type": "code",
      "execution_count": null,
      "metadata": {
        "colab": {
          "base_uri": "https://localhost:8080/"
        },
        "id": "2S01Kt7VgeYy",
        "outputId": "bf359939-5a7f-4e16-c16d-c9161a273775"
      },
      "outputs": [
        {
          "name": "stderr",
          "output_type": "stream",
          "text": [
            "Truncation was not explicitly activated but `max_length` is provided a specific value, please use `truncation=True` to explicitly truncate examples to max length. Defaulting to 'longest_first' truncation strategy. If you encode pairs of sequences (GLUE-style) with the tokenizer you can select this strategy more precisely by providing a specific strategy to `truncation`.\n"
          ]
        },
        {
          "name": "stdout",
          "output_type": "stream",
          "text": [
            "Loading BERT tokenizer...\n"
          ]
        },
        {
          "name": "stderr",
          "output_type": "stream",
          "text": [
            "/usr/local/lib/python3.8/dist-packages/transformers/tokenization_utils_base.py:2336: FutureWarning: The `pad_to_max_length` argument is deprecated and will be removed in a future version, use `padding=True` or `padding='longest'` to pad to the longest sequence in the batch, or use `padding='max_length'` to pad to a max length. In this case, you can give a specific length with `max_length` (e.g. `max_length=45`) or leave max_length to None to pad to the maximal input size of the model (e.g. 512 for Bert).\n",
            "  warnings.warn(\n"
          ]
        }
      ],
      "source": [
        "# Tokenize all of the sentences and map the tokens to thier word IDs.\n",
        "# Load the BERT tokenizer.\n",
        "print('Loading BERT tokenizer...')\n",
        "tokenizer = BertTokenizer.from_pretrained('bert-base-uncased', do_lower_case=True)\n",
        "\n",
        "input_ids = []\n",
        "attention_masks = []\n",
        "\n",
        "# For every sentence , tokenize sentence and create attention mask fo each\n",
        "for sent in sentences:\n",
        "    encoded_dict = tokenizer.encode_plus(\n",
        "                        sent,                      # Sentence to encode.\n",
        "                        add_special_tokens = True, # Add '[CLS]' and '[SEP]'\n",
        "                        max_length = 64,           # Pad & truncate all sentences.\n",
        "                        pad_to_max_length = True,\n",
        "                        return_attention_mask = True,   # Construct attn. masks.\n",
        "                        return_tensors = 'pt',     # Return pytorch tensors.\n",
        "                   )\n",
        "    \n",
        "    # Add the encoded sentence to the list.    \n",
        "    input_ids.append(encoded_dict['input_ids'])\n",
        "    \n",
        "    # And its attention mask (simply differentiates padding from non-padding).\n",
        "    attention_masks.append(encoded_dict['attention_mask'])\n",
        "\n",
        "#=================Final BERT Embedding for Set==================================#\n",
        "# Convert the lists into tensors.\n",
        "input_ids = torch.cat(input_ids, dim=0)\n",
        "attention_masks = torch.cat(attention_masks, dim=0)\n",
        "labels = torch.tensor(labels)\n"
      ]
    },
    {
      "cell_type": "markdown",
      "metadata": {
        "id": "9XAhylaB9ra8"
      },
      "source": [
        "Data Loader for Train and Validation Set"
      ]
    },
    {
      "cell_type": "code",
      "execution_count": null,
      "metadata": {
        "colab": {
          "base_uri": "https://localhost:8080/"
        },
        "id": "0wBW4zzEghIs",
        "outputId": "0369e785-bfd5-4bba-cb30-1ecb5c89c13e"
      },
      "outputs": [
        {
          "name": "stdout",
          "output_type": "stream",
          "text": [
            "7,695 training samples\n",
            "  856 validation samples\n",
            "Data Loader Created for Train and Validation Set.\n"
          ]
        }
      ],
      "source": [
        "#Dividing Data set into train test set\n",
        "#from torch.utils.data import TensorDataset, random_split\n",
        "\n",
        "# Combine the training inputs into a TensorDataset.\n",
        "dataset = TensorDataset(input_ids, attention_masks, labels)\n",
        "\n",
        "# Create a 90-10 train-validation split.\n",
        "\n",
        "# Calculate the number of samples to include in each set.\n",
        "train_size = int(0.9 * len(dataset))\n",
        "val_size = len(dataset) - train_size\n",
        "\n",
        "# Divide the dataset by randomly selecting samples.\n",
        "train_dataset, val_dataset = random_split(dataset, [train_size, val_size])\n",
        "\n",
        "print('{:>5,} training samples'.format(train_size))\n",
        "print('{:>5,} validation samples'.format(val_size))\n",
        "\n",
        "# Batch Size for DataLoader\n",
        "batch_size = 32\n",
        "\n",
        "# Create the DataLoaders  \n",
        "train_dataloader = DataLoader(\n",
        "            train_dataset,  # The training samples.\n",
        "            sampler = RandomSampler(train_dataset), # Select batches randomly\n",
        "            batch_size = batch_size # Trains with this batch size.\n",
        "        )\n",
        "\n",
        "#Read them sequentially.\n",
        "validation_dataloader = DataLoader(\n",
        "            val_dataset, # The validation samples.\n",
        "            sampler = SequentialSampler(val_dataset), # Pull out batches sequentially.\n",
        "            batch_size = batch_size # Evaluate with this batch size.\n",
        "        )\n",
        "\n",
        "print(\"Data Loader Created for Train and Validation Set.\")"
      ]
    },
    {
      "cell_type": "markdown",
      "metadata": {
        "id": "Z33SSOEcFvgR"
      },
      "source": [
        "Set Epoch Value"
      ]
    },
    {
      "cell_type": "code",
      "execution_count": null,
      "metadata": {
        "colab": {
          "base_uri": "https://localhost:8080/"
        },
        "id": "AIVoRtl7OA_K",
        "outputId": "cdafa8ce-9913-45c3-ff4e-f6b2170ffb31"
      },
      "outputs": [
        {
          "name": "stdout",
          "output_type": "stream",
          "text": [
            "Epoch Value for Grammar : 4\n"
          ]
        }
      ],
      "source": [
        "#Set Epochs to train grammar model\n",
        "epochs = grammar_epochs\n",
        "print(\"Epoch Value for Grammar : \"+str(epochs))"
      ]
    },
    {
      "cell_type": "markdown",
      "metadata": {
        "id": "avaenTZ995xk"
      },
      "source": [
        "Initiate BERT Model"
      ]
    },
    {
      "cell_type": "code",
      "execution_count": null,
      "metadata": {
        "colab": {
          "base_uri": "https://localhost:8080/"
        },
        "id": "ULuy-sYugnTG",
        "outputId": "31210913-24a9-44db-a8a4-acd56fa2b698"
      },
      "outputs": [
        {
          "name": "stderr",
          "output_type": "stream",
          "text": [
            "Some weights of the model checkpoint at bert-base-uncased were not used when initializing BertForSequenceClassification: ['cls.seq_relationship.bias', 'cls.seq_relationship.weight', 'cls.predictions.transform.LayerNorm.weight', 'cls.predictions.transform.dense.bias', 'cls.predictions.transform.dense.weight', 'cls.predictions.decoder.weight', 'cls.predictions.transform.LayerNorm.bias', 'cls.predictions.bias']\n",
            "- This IS expected if you are initializing BertForSequenceClassification from the checkpoint of a model trained on another task or with another architecture (e.g. initializing a BertForSequenceClassification model from a BertForPreTraining model).\n",
            "- This IS NOT expected if you are initializing BertForSequenceClassification from the checkpoint of a model that you expect to be exactly identical (initializing a BertForSequenceClassification model from a BertForSequenceClassification model).\n",
            "Some weights of BertForSequenceClassification were not initialized from the model checkpoint at bert-base-uncased and are newly initialized: ['classifier.weight', 'classifier.bias']\n",
            "You should probably TRAIN this model on a down-stream task to be able to use it for predictions and inference.\n",
            "/usr/local/lib/python3.8/dist-packages/transformers/optimization.py:306: FutureWarning: This implementation of AdamW is deprecated and will be removed in a future version. Use the PyTorch implementation torch.optim.AdamW instead, or set `no_deprecation_warning=True` to disable this warning\n",
            "  warnings.warn(\n"
          ]
        }
      ],
      "source": [
        "#Load BertForSequenceClassification\n",
        "\n",
        "#from transformers import BertForSequenceClassification, AdamW, BertConfig\n",
        "\n",
        "#Load BertForSequenceClassification\n",
        "# The number of output labels--2 for binary classification.\n",
        "model = BertForSequenceClassification.from_pretrained(\n",
        "    \"bert-base-uncased\", \n",
        "    num_labels = 2,    \n",
        "    output_attentions = False, \n",
        "    output_hidden_states = False, \n",
        ")\n",
        "\n",
        "#Run the model on the GPU.\n",
        "model.cuda()\n",
        "\n",
        "#AdamW for optimizer\n",
        "optimizer = AdamW(model.parameters(),\n",
        "                  lr = 2e-5, \n",
        "                  eps = 1e-8 \n",
        "                )\n",
        "\n",
        "# Total number of training steps is [number of batches] x [number of epochs]. \n",
        "total_steps = len(train_dataloader) * epochs\n",
        "\n",
        "# Create the learning rate scheduler.\n",
        "scheduler = get_linear_schedule_with_warmup(optimizer, \n",
        "                                            num_warmup_steps = 0, # Default value in run_glue.py\n",
        "                                            num_training_steps = total_steps)\n",
        "\n",
        "# Function to calculate the accuracy of our predictions vs labels\n",
        "def flat_accuracy(preds, labels):\n",
        "    pred_flat = np.argmax(preds, axis=1).flatten()\n",
        "    labels_flat = labels.flatten()\n",
        "    return np.sum(pred_flat == labels_flat) / len(labels_flat)\n",
        "\n",
        "#Helper function for formatting elapsed times as hh:mm:ss\n",
        "#import time\n",
        "#import datetime\n",
        "\n",
        "def format_time(elapsed):\n",
        "    '''\n",
        "    Takes a time in seconds and returns a string hh:mm:ss\n",
        "    '''\n",
        "    # Round to the nearest second.\n",
        "    elapsed_rounded = int(round((elapsed)))\n",
        "    \n",
        "    # Format as hh:mm:ss\n",
        "    return str(datetime.timedelta(seconds=elapsed_rounded))\n"
      ]
    },
    {
      "cell_type": "markdown",
      "metadata": {
        "id": "Lw0mPJYNDC3e"
      },
      "source": [
        "Training the Model for Grammar Correctness prediction and perform cross validation on it.\n",
        "\n"
      ]
    },
    {
      "cell_type": "code",
      "execution_count": null,
      "metadata": {
        "colab": {
          "base_uri": "https://localhost:8080/"
        },
        "id": "_h7C3azVg3NF",
        "outputId": "d0164dbc-c9f3-45f2-f7aa-64381b5ef9d9"
      },
      "outputs": [
        {
          "name": "stdout",
          "output_type": "stream",
          "text": [
            "\n",
            "======== Epoch 1 / 4 ========\n",
            "Training...\n",
            "  Batch    40  of    241.    Elapsed: 0:00:14.\n",
            "  Batch    80  of    241.    Elapsed: 0:00:28.\n",
            "  Batch   120  of    241.    Elapsed: 0:00:42.\n",
            "  Batch   160  of    241.    Elapsed: 0:00:56.\n",
            "  Batch   200  of    241.    Elapsed: 0:01:09.\n",
            "  Batch   240  of    241.    Elapsed: 0:01:23.\n",
            "\n",
            "  Average training loss: 0.50\n",
            "  Training epcoh took: 0:01:23\n",
            "\n",
            "Running Validation...\n",
            "  Accuracy: 0.81\n",
            "  Validation Loss: 0.42\n",
            "  Validation took: 0:00:03\n",
            "\n",
            "======== Epoch 2 / 4 ========\n",
            "Training...\n",
            "  Batch    40  of    241.    Elapsed: 0:00:14.\n",
            "  Batch    80  of    241.    Elapsed: 0:00:27.\n",
            "  Batch   120  of    241.    Elapsed: 0:00:41.\n",
            "  Batch   160  of    241.    Elapsed: 0:00:55.\n",
            "  Batch   200  of    241.    Elapsed: 0:01:08.\n",
            "  Batch   240  of    241.    Elapsed: 0:01:22.\n",
            "\n",
            "  Average training loss: 0.30\n",
            "  Training epcoh took: 0:01:22\n",
            "\n",
            "Running Validation...\n",
            "  Accuracy: 0.82\n",
            "  Validation Loss: 0.52\n",
            "  Validation took: 0:00:03\n",
            "\n",
            "======== Epoch 3 / 4 ========\n",
            "Training...\n",
            "  Batch    40  of    241.    Elapsed: 0:00:14.\n",
            "  Batch    80  of    241.    Elapsed: 0:00:27.\n",
            "  Batch   120  of    241.    Elapsed: 0:00:41.\n",
            "  Batch   160  of    241.    Elapsed: 0:00:55.\n",
            "  Batch   200  of    241.    Elapsed: 0:01:08.\n",
            "  Batch   240  of    241.    Elapsed: 0:01:22.\n",
            "\n",
            "  Average training loss: 0.18\n",
            "  Training epcoh took: 0:01:22\n",
            "\n",
            "Running Validation...\n",
            "  Accuracy: 0.83\n",
            "  Validation Loss: 0.55\n",
            "  Validation took: 0:00:03\n",
            "\n",
            "======== Epoch 4 / 4 ========\n",
            "Training...\n",
            "  Batch    40  of    241.    Elapsed: 0:00:14.\n",
            "  Batch    80  of    241.    Elapsed: 0:00:27.\n",
            "  Batch   120  of    241.    Elapsed: 0:00:41.\n",
            "  Batch   160  of    241.    Elapsed: 0:00:55.\n",
            "  Batch   200  of    241.    Elapsed: 0:01:08.\n",
            "  Batch   240  of    241.    Elapsed: 0:01:22.\n",
            "\n",
            "  Average training loss: 0.13\n",
            "  Training epcoh took: 0:01:22\n",
            "\n",
            "Running Validation...\n",
            "  Accuracy: 0.83\n",
            "  Validation Loss: 0.65\n",
            "  Validation took: 0:00:03\n",
            "\n",
            "Training complete!\n",
            "Total training took 0:05:42 (h:mm:ss)\n"
          ]
        }
      ],
      "source": [
        "#Training Model\n",
        "\n",
        "#import random\n",
        "#import numpy as np\n",
        "\n",
        "# Set the seed value all over the place to make this reproducible.\n",
        "seed_val = 42\n",
        "\n",
        "random.seed(seed_val)\n",
        "np.random.seed(seed_val)\n",
        "torch.manual_seed(seed_val)\n",
        "torch.cuda.manual_seed_all(seed_val)\n",
        "\n",
        "#To Store training Stats\n",
        "training_stats = []\n",
        "\n",
        "# Measure the total training time for the whole run.\n",
        "total_t0 = time.time()\n",
        "\n",
        "# For each epoch...\n",
        "for epoch_i in range(0, epochs):\n",
        "    \n",
        "    # ========================================\n",
        "    #               Training Begins\n",
        "    # ========================================\n",
        "    \n",
        "    # Perform one full pass over the training set.\n",
        "\n",
        "    print(\"\")\n",
        "    print('======== Epoch {:} / {:} ========'.format(epoch_i + 1, epochs))\n",
        "    print('Training...')\n",
        "\n",
        "    # Measure how long the training epoch takes.\n",
        "    t0 = time.time()\n",
        "\n",
        "    # Reset the total loss for this epoch.\n",
        "    total_train_loss = 0\n",
        "\n",
        "    # Put the model into training mode.\n",
        "    model.train()\n",
        "\n",
        "    # For each batch of training data...\n",
        "    for step, batch in enumerate(train_dataloader):\n",
        "\n",
        "        # Progress update every 40 batches.\n",
        "        if step % 40 == 0 and not step == 0:\n",
        "            # Calculate elapsed time in minutes.\n",
        "            elapsed = format_time(time.time() - t0)\n",
        "            \n",
        "            # Report progress.\n",
        "            print('  Batch {:>5,}  of  {:>5,}.    Elapsed: {:}.'.format(step, len(train_dataloader), elapsed))\n",
        "\n",
        "        # `batch` contains three pytorch tensors:\n",
        "\n",
        "        #   [0]: input ids \n",
        "        b_input_ids = batch[0].to(device)\n",
        "        #   [1]: attention masks\n",
        "        b_input_mask = batch[1].to(device)\n",
        "        #   [2]: labels \n",
        "        b_labels = batch[2].to(device)\n",
        "\n",
        "        #clear any previously calculated gradients before backward pass.\n",
        "        model.zero_grad()        \n",
        "\n",
        "        # Perform a forward pass\n",
        "        l = model(b_input_ids, \n",
        "                             token_type_ids=None, \n",
        "                             attention_mask=b_input_mask, \n",
        "                             labels=b_labels)\n",
        "\n",
        "        # Accumulate the training loss over all of the batches\n",
        "        total_train_loss += l[\"loss\"]\n",
        "\n",
        "        # Perform a backward pass to calculate the gradients.\n",
        "        l[\"loss\"].backward()\n",
        "\n",
        "        # Clip the norm of the gradients to 1.0 to prevent the \"exploding gradients\" problem.\n",
        "        torch.nn.utils.clip_grad_norm_(model.parameters(), 1.0)\n",
        "\n",
        "        # Update parameters and take a step using the computed gradient.\n",
        "        optimizer.step()\n",
        "\n",
        "        # Update the learning rate.\n",
        "        scheduler.step()\n",
        "\n",
        "    # Calculate the average loss over all of the batches.\n",
        "    avg_train_loss = total_train_loss / len(train_dataloader)            \n",
        "    \n",
        "    # Measure how long epoch took.\n",
        "    training_time = format_time(time.time() - t0)\n",
        "\n",
        "    print(\"\")\n",
        "    print(\"  Average training loss: {0:.2f}\".format(avg_train_loss))\n",
        "    print(\"  Training epcoh took: {:}\".format(training_time))\n",
        "        \n",
        "    # ========================================\n",
        "    #               Validation Begins\n",
        "    # ========================================\n",
        "    # After the completion of each training epoch, measure performance on validation set.\n",
        "\n",
        "    print(\"\")\n",
        "    print(\"Running Validation...\")\n",
        "\n",
        "    t0 = time.time()\n",
        "\n",
        "    # Put the model in evaluation mode\n",
        "    model.eval()\n",
        "\n",
        "    # Tracking variables \n",
        "    total_eval_accuracy = 0\n",
        "    total_eval_loss = 0\n",
        "    nb_eval_steps = 0\n",
        "\n",
        "    # Evaluate data for one epoch\n",
        "    for batch in validation_dataloader:\n",
        "        \n",
        "        # `batch` contains three pytorch tensors:\n",
        "\n",
        "        #   [0]: input ids \n",
        "        b_input_ids = batch[0].to(device)\n",
        "        #   [1]: attention masks\n",
        "        b_input_mask = batch[1].to(device)\n",
        "        #   [2]: labels\n",
        "        b_labels = batch[2].to(device)\n",
        " \n",
        "        with torch.no_grad():                    \n",
        "            l1 = model(b_input_ids, \n",
        "                                   token_type_ids=None, \n",
        "                                   attention_mask=b_input_mask,\n",
        "                                   labels=b_labels)\n",
        "            \n",
        "        # Accumulate the validation loss.\n",
        "        total_eval_loss += l1[\"loss\"]\n",
        "\n",
        "        logits = l1[\"logits\"].detach().cpu().numpy()\n",
        "        label_ids = b_labels.to('cpu').numpy()\n",
        "\n",
        "        # Calculate the accuracy for this batch of test sentences, and\n",
        "        # accumulate it over all batches.\n",
        "        total_eval_accuracy += flat_accuracy(logits, label_ids)\n",
        "        \n",
        "\n",
        "    # Report the final accuracy for this validation run.\n",
        "    avg_val_accuracy = total_eval_accuracy / len(validation_dataloader)\n",
        "    print(\"  Accuracy: {0:.2f}\".format(avg_val_accuracy))\n",
        "\n",
        "    # Calculate the average loss over all of the batches.\n",
        "    avg_val_loss = total_eval_loss / len(validation_dataloader)\n",
        "    \n",
        "    # Measure how long the validation run took.\n",
        "    validation_time = format_time(time.time() - t0)\n",
        "    \n",
        "    print(\"  Validation Loss: {0:.2f}\".format(avg_val_loss))\n",
        "    print(\"  Validation took: {:}\".format(validation_time))\n",
        "\n",
        "    # Record all statistics from this epoch.\n",
        "    training_stats.append(\n",
        "        {\n",
        "            'epoch': epoch_i + 1,\n",
        "            'Training Loss': avg_train_loss,\n",
        "            'Valid. Loss': avg_val_loss,\n",
        "            'Valid. Accur.': avg_val_accuracy,\n",
        "            'Training Time': training_time,\n",
        "            'Validation Time': validation_time\n",
        "        }\n",
        "    )\n",
        "\n",
        "print(\"\")\n",
        "print(\"Training complete!\")\n",
        "\n",
        "print(\"Total training took {:} (h:mm:ss)\".format(format_time(time.time()-total_t0)))"
      ]
    },
    {
      "cell_type": "markdown",
      "metadata": {
        "id": "FZeUMpSleGBR"
      },
      "source": [
        "Testing model on dataset's Out of domain set"
      ]
    },
    {
      "cell_type": "code",
      "execution_count": null,
      "metadata": {
        "colab": {
          "base_uri": "https://localhost:8080/"
        },
        "id": "3J5APuShjnyo",
        "outputId": "92167e09-3680-49b6-de4d-b09200790b1c"
      },
      "outputs": [
        {
          "data": {
            "text/html": [
              "\n",
              "  <div id=\"df-bbab7c47-a91b-45c4-beff-2951475c8e08\">\n",
              "    <div class=\"colab-df-container\">\n",
              "      <div>\n",
              "<style scoped>\n",
              "    .dataframe tbody tr th:only-of-type {\n",
              "        vertical-align: middle;\n",
              "    }\n",
              "\n",
              "    .dataframe tbody tr th {\n",
              "        vertical-align: top;\n",
              "    }\n",
              "\n",
              "    .dataframe thead th {\n",
              "        text-align: right;\n",
              "    }\n",
              "</style>\n",
              "<table border=\"1\" class=\"dataframe\">\n",
              "  <thead>\n",
              "    <tr style=\"text-align: right;\">\n",
              "      <th></th>\n",
              "      <th>sentence_source</th>\n",
              "      <th>label</th>\n",
              "      <th>label_notes</th>\n",
              "      <th>sentence</th>\n",
              "    </tr>\n",
              "  </thead>\n",
              "  <tbody>\n",
              "    <tr>\n",
              "      <th>0</th>\n",
              "      <td>clc95</td>\n",
              "      <td>1</td>\n",
              "      <td>NaN</td>\n",
              "      <td>Somebody just left - guess who.</td>\n",
              "    </tr>\n",
              "    <tr>\n",
              "      <th>1</th>\n",
              "      <td>clc95</td>\n",
              "      <td>1</td>\n",
              "      <td>NaN</td>\n",
              "      <td>They claimed they had settled on something, bu...</td>\n",
              "    </tr>\n",
              "    <tr>\n",
              "      <th>2</th>\n",
              "      <td>clc95</td>\n",
              "      <td>1</td>\n",
              "      <td>NaN</td>\n",
              "      <td>If Sam was going, Sally would know where.</td>\n",
              "    </tr>\n",
              "    <tr>\n",
              "      <th>3</th>\n",
              "      <td>clc95</td>\n",
              "      <td>1</td>\n",
              "      <td>NaN</td>\n",
              "      <td>They're going to serve the guests something, b...</td>\n",
              "    </tr>\n",
              "    <tr>\n",
              "      <th>4</th>\n",
              "      <td>clc95</td>\n",
              "      <td>1</td>\n",
              "      <td>NaN</td>\n",
              "      <td>She's reading. I can't imagine what.</td>\n",
              "    </tr>\n",
              "    <tr>\n",
              "      <th>5</th>\n",
              "      <td>clc95</td>\n",
              "      <td>1</td>\n",
              "      <td>NaN</td>\n",
              "      <td>John said Joan saw someone from her graduating...</td>\n",
              "    </tr>\n",
              "    <tr>\n",
              "      <th>6</th>\n",
              "      <td>clc95</td>\n",
              "      <td>0</td>\n",
              "      <td>*</td>\n",
              "      <td>John ate dinner but I don't know who.</td>\n",
              "    </tr>\n",
              "    <tr>\n",
              "      <th>7</th>\n",
              "      <td>clc95</td>\n",
              "      <td>0</td>\n",
              "      <td>*</td>\n",
              "      <td>She mailed John a letter, but I don't know to ...</td>\n",
              "    </tr>\n",
              "    <tr>\n",
              "      <th>8</th>\n",
              "      <td>clc95</td>\n",
              "      <td>1</td>\n",
              "      <td>NaN</td>\n",
              "      <td>I served leek soup to my guests.</td>\n",
              "    </tr>\n",
              "    <tr>\n",
              "      <th>9</th>\n",
              "      <td>clc95</td>\n",
              "      <td>1</td>\n",
              "      <td>NaN</td>\n",
              "      <td>I served my guests.</td>\n",
              "    </tr>\n",
              "  </tbody>\n",
              "</table>\n",
              "</div>\n",
              "      <button class=\"colab-df-convert\" onclick=\"convertToInteractive('df-bbab7c47-a91b-45c4-beff-2951475c8e08')\"\n",
              "              title=\"Convert this dataframe to an interactive table.\"\n",
              "              style=\"display:none;\">\n",
              "        \n",
              "  <svg xmlns=\"http://www.w3.org/2000/svg\" height=\"24px\"viewBox=\"0 0 24 24\"\n",
              "       width=\"24px\">\n",
              "    <path d=\"M0 0h24v24H0V0z\" fill=\"none\"/>\n",
              "    <path d=\"M18.56 5.44l.94 2.06.94-2.06 2.06-.94-2.06-.94-.94-2.06-.94 2.06-2.06.94zm-11 1L8.5 8.5l.94-2.06 2.06-.94-2.06-.94L8.5 2.5l-.94 2.06-2.06.94zm10 10l.94 2.06.94-2.06 2.06-.94-2.06-.94-.94-2.06-.94 2.06-2.06.94z\"/><path d=\"M17.41 7.96l-1.37-1.37c-.4-.4-.92-.59-1.43-.59-.52 0-1.04.2-1.43.59L10.3 9.45l-7.72 7.72c-.78.78-.78 2.05 0 2.83L4 21.41c.39.39.9.59 1.41.59.51 0 1.02-.2 1.41-.59l7.78-7.78 2.81-2.81c.8-.78.8-2.07 0-2.86zM5.41 20L4 18.59l7.72-7.72 1.47 1.35L5.41 20z\"/>\n",
              "  </svg>\n",
              "      </button>\n",
              "      \n",
              "  <style>\n",
              "    .colab-df-container {\n",
              "      display:flex;\n",
              "      flex-wrap:wrap;\n",
              "      gap: 12px;\n",
              "    }\n",
              "\n",
              "    .colab-df-convert {\n",
              "      background-color: #E8F0FE;\n",
              "      border: none;\n",
              "      border-radius: 50%;\n",
              "      cursor: pointer;\n",
              "      display: none;\n",
              "      fill: #1967D2;\n",
              "      height: 32px;\n",
              "      padding: 0 0 0 0;\n",
              "      width: 32px;\n",
              "    }\n",
              "\n",
              "    .colab-df-convert:hover {\n",
              "      background-color: #E2EBFA;\n",
              "      box-shadow: 0px 1px 2px rgba(60, 64, 67, 0.3), 0px 1px 3px 1px rgba(60, 64, 67, 0.15);\n",
              "      fill: #174EA6;\n",
              "    }\n",
              "\n",
              "    [theme=dark] .colab-df-convert {\n",
              "      background-color: #3B4455;\n",
              "      fill: #D2E3FC;\n",
              "    }\n",
              "\n",
              "    [theme=dark] .colab-df-convert:hover {\n",
              "      background-color: #434B5C;\n",
              "      box-shadow: 0px 1px 3px 1px rgba(0, 0, 0, 0.15);\n",
              "      filter: drop-shadow(0px 1px 2px rgba(0, 0, 0, 0.3));\n",
              "      fill: #FFFFFF;\n",
              "    }\n",
              "  </style>\n",
              "\n",
              "      <script>\n",
              "        const buttonEl =\n",
              "          document.querySelector('#df-bbab7c47-a91b-45c4-beff-2951475c8e08 button.colab-df-convert');\n",
              "        buttonEl.style.display =\n",
              "          google.colab.kernel.accessAllowed ? 'block' : 'none';\n",
              "\n",
              "        async function convertToInteractive(key) {\n",
              "          const element = document.querySelector('#df-bbab7c47-a91b-45c4-beff-2951475c8e08');\n",
              "          const dataTable =\n",
              "            await google.colab.kernel.invokeFunction('convertToInteractive',\n",
              "                                                     [key], {});\n",
              "          if (!dataTable) return;\n",
              "\n",
              "          const docLinkHtml = 'Like what you see? Visit the ' +\n",
              "            '<a target=\"_blank\" href=https://colab.research.google.com/notebooks/data_table.ipynb>data table notebook</a>'\n",
              "            + ' to learn more about interactive tables.';\n",
              "          element.innerHTML = '';\n",
              "          dataTable['output_type'] = 'display_data';\n",
              "          await google.colab.output.renderOutput(dataTable, element);\n",
              "          const docLink = document.createElement('div');\n",
              "          docLink.innerHTML = docLinkHtml;\n",
              "          element.appendChild(docLink);\n",
              "        }\n",
              "      </script>\n",
              "    </div>\n",
              "  </div>\n",
              "  "
            ],
            "text/plain": [
              "  sentence_source  label label_notes  \\\n",
              "0           clc95      1         NaN   \n",
              "1           clc95      1         NaN   \n",
              "2           clc95      1         NaN   \n",
              "3           clc95      1         NaN   \n",
              "4           clc95      1         NaN   \n",
              "5           clc95      1         NaN   \n",
              "6           clc95      0           *   \n",
              "7           clc95      0           *   \n",
              "8           clc95      1         NaN   \n",
              "9           clc95      1         NaN   \n",
              "\n",
              "                                            sentence  \n",
              "0                    Somebody just left - guess who.  \n",
              "1  They claimed they had settled on something, bu...  \n",
              "2          If Sam was going, Sally would know where.  \n",
              "3  They're going to serve the guests something, b...  \n",
              "4               She's reading. I can't imagine what.  \n",
              "5  John said Joan saw someone from her graduating...  \n",
              "6              John ate dinner but I don't know who.  \n",
              "7  She mailed John a letter, but I don't know to ...  \n",
              "8                   I served leek soup to my guests.  \n",
              "9                                I served my guests.  "
            ]
          },
          "execution_count": 38,
          "metadata": {},
          "output_type": "execute_result"
        }
      ],
      "source": [
        "# Load the CoLA dataset for testing.\n",
        "df = pd.read_csv(data_set_path+'/CoLA/out_of_domain_dev.tsv', delimiter='\\t', header=None, names=['sentence_source', 'label', 'label_notes', 'sentence'])\n",
        "df.head(10)"
      ]
    },
    {
      "cell_type": "markdown",
      "metadata": {
        "id": "4VHts7v3-Kjy"
      },
      "source": [
        "Tokenize Test Set for prediction"
      ]
    },
    {
      "cell_type": "code",
      "execution_count": null,
      "metadata": {
        "colab": {
          "base_uri": "https://localhost:8080/"
        },
        "id": "h3wvqF_Cg_0U",
        "outputId": "d959c8ef-c006-40cc-dd01-6a9621546490"
      },
      "outputs": [
        {
          "name": "stdout",
          "output_type": "stream",
          "text": [
            "Number of test sentences: 516\n",
            "\n"
          ]
        },
        {
          "name": "stderr",
          "output_type": "stream",
          "text": [
            "/usr/local/lib/python3.8/dist-packages/transformers/tokenization_utils_base.py:2336: FutureWarning: The `pad_to_max_length` argument is deprecated and will be removed in a future version, use `padding=True` or `padding='longest'` to pad to the longest sequence in the batch, or use `padding='max_length'` to pad to a max length. In this case, you can give a specific length with `max_length` (e.g. `max_length=45`) or leave max_length to None to pad to the maximal input size of the model (e.g. 512 for Bert).\n",
            "  warnings.warn(\n"
          ]
        }
      ],
      "source": [
        "#import pandas as pd\n",
        "\n",
        "# Report the number of sentences.\n",
        "print('Number of test sentences: {:,}\\n'.format(df.shape[0]))\n",
        "\n",
        "# Create sentence and label lists\n",
        "sentences = df.sentence.values\n",
        "labels = df.label.values\n",
        "\n",
        "# Tokenize all of the sentences and map the tokens to thier word IDs.\n",
        "input_ids = []\n",
        "attention_masks = []\n",
        "\n",
        "# For every sentence...\n",
        "for sent in sentences:\n",
        "    encoded_dict = tokenizer.encode_plus(\n",
        "                        sent,                      # Sentence to encode.\n",
        "                        add_special_tokens = True, # Add '[CLS]' and '[SEP]'\n",
        "                        max_length = 64,           # Pad & truncate all sentences.\n",
        "                        pad_to_max_length = True,\n",
        "                        return_attention_mask = True,   # Construct attn. masks.\n",
        "                        return_tensors = 'pt',     # Return pytorch tensors.\n",
        "                   )\n",
        "    \n",
        "    # Add the encoded sentence to the list.    \n",
        "    input_ids.append(encoded_dict['input_ids'])\n",
        "    \n",
        "    # And its attention mask (simply differentiates padding from non-padding).\n",
        "    attention_masks.append(encoded_dict['attention_mask'])\n",
        "\n",
        "# Convert the lists into tensors.\n",
        "input_ids = torch.cat(input_ids, dim=0)\n",
        "attention_masks = torch.cat(attention_masks, dim=0)\n",
        "labels = torch.tensor(labels)\n",
        "\n",
        "# Set the batch size.  \n",
        "batch_size = 32  \n",
        "\n",
        "# Create the DataLoader.\n",
        "prediction_data = TensorDataset(input_ids, attention_masks, labels)\n",
        "prediction_sampler = SequentialSampler(prediction_data)\n",
        "prediction_dataloader = DataLoader(prediction_data, sampler=prediction_sampler, batch_size=batch_size)"
      ]
    },
    {
      "cell_type": "markdown",
      "metadata": {
        "id": "oq4JewvZCzG1"
      },
      "source": [
        "Using Model to make prediction of Grammar Correctness"
      ]
    },
    {
      "cell_type": "code",
      "execution_count": null,
      "metadata": {
        "colab": {
          "base_uri": "https://localhost:8080/"
        },
        "id": "Oe5n5_fThDF7",
        "outputId": "5a51fd27-6053-44e1-99fa-4bc1332a9d1c"
      },
      "outputs": [
        {
          "name": "stdout",
          "output_type": "stream",
          "text": [
            "Predicting labels for 516 test sentences...\n",
            "    DONE.\n",
            "Positive samples: 354 of 516 (68.60%)\n"
          ]
        }
      ],
      "source": [
        "# Prediction on test set\n",
        "\n",
        "print('Predicting labels for {:,} test sentences...'.format(len(input_ids)))\n",
        "\n",
        "# Put model in evaluation mode\n",
        "model.eval()\n",
        "\n",
        "# Tracking variables \n",
        "predictions , true_labels = [], []\n",
        "\n",
        "# Predict \n",
        "for batch in prediction_dataloader:\n",
        "  # Add batch to GPU\n",
        "  batch = tuple(t.to(device) for t in batch)\n",
        "  \n",
        "  # Unpack the inputs from our dataloader\n",
        "  b_input_ids, b_input_mask, b_labels = batch\n",
        "  \n",
        "  #Store no gradient\n",
        "  with torch.no_grad():\n",
        "      # Forward pass, calculate logit predictions\n",
        "      outputs = model(b_input_ids, token_type_ids=None, \n",
        "                      attention_mask=b_input_mask)\n",
        "\n",
        "  logits = outputs[0]\n",
        "\n",
        "  # Move logits and labels to CPU\n",
        "  logits = logits.detach().cpu().numpy()\n",
        "  label_ids = b_labels.to('cpu').numpy()\n",
        "  \n",
        "  # Store predictions and true labels\n",
        "  predictions.append(logits)\n",
        "  true_labels.append(label_ids)\n",
        "\n",
        "\n",
        "print('    DONE.')\n",
        "print('Positive samples: %d of %d (%.2f%%)' % (df.label.sum(), len(df.label), (df.label.sum() / len(df.label) * 100.0)))"
      ]
    },
    {
      "cell_type": "markdown",
      "metadata": {
        "id": "AcyI6_odCnw1"
      },
      "source": [
        "Evaluating Model for Grammar Prediction using OG Labels and Predicted Labels"
      ]
    },
    {
      "cell_type": "code",
      "execution_count": null,
      "metadata": {
        "colab": {
          "base_uri": "https://localhost:8080/"
        },
        "id": "_Obr1cFJhIjC",
        "outputId": "20680bac-342d-4dad-b5cb-0e80ab462853"
      },
      "outputs": [
        {
          "name": "stdout",
          "output_type": "stream",
          "text": [
            "Calculating Matthews Corr. Coef. for each batch...\n",
            "Total MCC: 0.519\n"
          ]
        }
      ],
      "source": [
        "#from sklearn.metrics import matthews_corrcoef\n",
        "#from sklearn.metrics import accuracy_score\n",
        "\n",
        "matthews_set = []\n",
        "\n",
        "# Evaluate each test batch using Matthew's correlation coefficient\n",
        "print('Calculating Matthews Corr. Coef. for each batch...')\n",
        "\n",
        "# For each input batch...\n",
        "for i in range(len(true_labels)):\n",
        "\n",
        "  pred_labels_i = np.argmax(predictions[i], axis=1).flatten()\n",
        "  \n",
        "  # Calculate and store the coef for this batch.  \n",
        "  matthews = matthews_corrcoef(true_labels[i], pred_labels_i)                \n",
        "  matthews_set.append(matthews)\n",
        "\n",
        "  # Combine the results across all batches. \n",
        "flat_predictions = np.concatenate(predictions, axis=0)\n",
        "\n",
        "# For each sample, pick the label (0 or 1) with the higher score.\n",
        "flat_predictions = np.argmax(flat_predictions, axis=1).flatten()\n",
        "\n",
        "# Combine the correct labels for each batch into a single list.\n",
        "flat_true_labels = np.concatenate(true_labels, axis=0)\n",
        "\n",
        "# Calculate the MCC\n",
        "mcc = matthews_corrcoef(flat_true_labels, flat_predictions)\n",
        "\n",
        "print('Total MCC: %.3f' % mcc)"
      ]
    },
    {
      "cell_type": "markdown",
      "metadata": {
        "id": "Ijsx66BEEeil"
      },
      "source": [
        "Save Trained Model"
      ]
    },
    {
      "cell_type": "code",
      "execution_count": null,
      "metadata": {
        "colab": {
          "base_uri": "https://localhost:8080/"
        },
        "id": "dXtUJvHL57FG",
        "outputId": "7822da21-34c7-4557-915d-bc593ee7646c"
      },
      "outputs": [
        {
          "data": {
            "application/vnd.google.colaboratory.intrinsic+json": {
              "type": "string"
            },
            "text/plain": [
              "'/content/drive/MyDrive/Colab Notebooks/AES/Saved Models/AES Models/Grammar_Score_Model/'"
            ]
          },
          "execution_count": 42,
          "metadata": {},
          "output_type": "execute_result"
        }
      ],
      "source": [
        "gsm_output_dir"
      ]
    },
    {
      "cell_type": "code",
      "execution_count": null,
      "metadata": {
        "colab": {
          "base_uri": "https://localhost:8080/"
        },
        "id": "hLcUbMsKhOhR",
        "outputId": "b1a6d599-a61f-4a92-fc2a-f865eae5eb2a"
      },
      "outputs": [
        {
          "name": "stdout",
          "output_type": "stream",
          "text": [
            "GRAMMAR Model save option not selected.\n"
          ]
        }
      ],
      "source": [
        "#import os\n",
        "#grammar_save_option=1\n",
        "\n",
        "if grammar_save_option == 1:\n",
        "\n",
        "  # Create output directory if needed\n",
        "  if not os.path.exists(gsm_output_dir):\n",
        "      os.makedirs(gsm_output_dir)\n",
        "\n",
        "  print(\"Saving model to %s\" % gsm_output_dir)\n",
        "\n",
        "  # Save a trained model\n",
        "  model_to_save = model.module if hasattr(model, 'module') else model  # Take care of distributed/parallel training\n",
        "  model_to_save.save_pretrained(gsm_output_dir)\n",
        "  tokenizer.save_pretrained(gsm_output_dir)\n",
        "\n",
        "if grammar_save_option == 0:\n",
        "  print(\"GRAMMAR Model save option not selected.\")"
      ]
    },
    {
      "cell_type": "markdown",
      "metadata": {
        "id": "4MYQgjwVI_md"
      },
      "source": [
        "Feature Generation for GGrammar Score Prediction"
      ]
    },
    {
      "cell_type": "markdown",
      "metadata": {
        "id": "_1om-F6YWM81"
      },
      "source": [
        "![AES PH04 Grammar Scoring Module Feature Generation.png](data:image/png;base64,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)"
      ]
    },
    {
      "cell_type": "markdown",
      "metadata": {
        "id": "wHkaxUvh00BZ"
      },
      "source": [
        "Use generated model to check individual sentence's grammar"
      ]
    },
    {
      "cell_type": "code",
      "execution_count": null,
      "metadata": {
        "colab": {
          "base_uri": "https://localhost:8080/"
        },
        "id": "z-WI9WbBhf3r",
        "outputId": "80dae7a2-0953-4f74-e6e9-0088a4c10a86"
      },
      "outputs": [
        {
          "name": "stdout",
          "output_type": "stream",
          "text": [
            "Saved Model Path : /content/drive/MyDrive/Colab Notebooks/AES/Saved Models/AES Models/Grammar_Score_Model/\n"
          ]
        }
      ],
      "source": [
        "#Initiate saved models\n",
        "print(\"Saved Model Path : \"+gsm_output_dir)\n",
        "tokenizer = BertTokenizer.from_pretrained(gsm_output_dir)\n",
        "model_loaded = BertForSequenceClassification.from_pretrained(gsm_output_dir)\n",
        "\n",
        "#Function to check individual sentence if grammatically correct or not.\n",
        "def check_grammar(s,tokenizer = tokenizer , model_loaded = model_loaded):\n",
        "  \n",
        "  result = 0\n",
        "  sent = s\n",
        "  encoded_dict = tokenizer.encode_plus(\n",
        "                          sent,                      # Sentence to encode.\n",
        "                          add_special_tokens = True, # Add '[CLS]' and '[SEP]'\n",
        "                          max_length = 64,           # Pad & truncate all sentences.\n",
        "                          #pad_to_max_length = True,\n",
        "                          padding = 'max_length',\n",
        "                          return_attention_mask = True,   # Construct attn. masks.\n",
        "                          return_tensors = 'pt',     # Return pytorch tensors.\n",
        "                    )\n",
        "      \n",
        "      # Add the encoded sentence to the list.    \n",
        "  input_id = encoded_dict['input_ids']\n",
        "      \n",
        "      # And its attention mask (simply differentiates padding from non-padding).\n",
        "  attention_mask = encoded_dict['attention_mask']\n",
        "  input_id = torch.LongTensor(input_id)\n",
        "  attention_mask = torch.LongTensor(attention_mask)\n",
        "\n",
        "  device = torch.device(\"cuda\" if torch.cuda.is_available() else \"cpu\")\n",
        "  model_loaded = model_loaded.to(device)\n",
        "  input_id = input_id.to(device)\n",
        "  attention_mask = attention_mask.to(device)\n",
        "\n",
        "  with torch.no_grad():\n",
        "    # Forward pass, calculate logit predictions\n",
        "    outputs = model_loaded(input_id, token_type_ids=None, attention_mask=attention_mask)\n",
        "\n",
        "  logits = outputs[0]\n",
        "  index = logits.argmax()\n",
        "  if index == 1:\n",
        "    #Correct Grammar\n",
        "    result = 0 \n",
        "  else:\n",
        "    #Incorrect Grammar\n",
        "    result = 1 \n",
        "  return result"
      ]
    },
    {
      "cell_type": "markdown",
      "metadata": {
        "id": "vEsr-qGetEON"
      },
      "source": [
        "New Functions for feature generations using Spacy"
      ]
    },
    {
      "cell_type": "code",
      "execution_count": null,
      "metadata": {
        "id": "uDnxAGfxtDuP"
      },
      "outputs": [],
      "source": [
        "import spacy\n",
        "nlp = spacy.load('en_core_web_sm')\n",
        "\n",
        "def clean_essay(essay):\n",
        "  result = re.sub(r' @',' ',essay)\n",
        "  return result\n",
        "\n",
        "#Function to seperate sentences\n",
        "def essay_to_sentences(essay , sentence_list_flag = 1 , sentence_count_flag = 0):\n",
        "  essay = clean_essay(essay)\n",
        "  doc = nlp(essay)\n",
        "  result = []\n",
        "  for d in doc.sents:\n",
        "    result.append(str(d))\n",
        "  if sentence_list_flag == 1:\n",
        "    return result\n",
        "  if sentence_count_flag == 1:\n",
        "    return len(result)\n",
        "\n",
        "# find the root token of the sentence, which is usually the main verb. In instances where there is a dependent clause, it is the verb of the independent clause\n",
        "def find_root_of_sentence(doc):\n",
        "    root_token = None\n",
        "    for token in doc:\n",
        "        if (token.dep_ == \"ROOT\"):\n",
        "            root_token = token\n",
        "    return root_token\n",
        "\n",
        "#Function to find the other verbs in the sentence\n",
        "def find_other_verbs(doc, root_token):\n",
        "    other_verbs = []\n",
        "    for token in doc:\n",
        "        ancestors = list(token.ancestors)\n",
        "        if (token.pos_ == \"VERB\" and len(ancestors) == 1\\\n",
        "            and ancestors[0] == root_token):\n",
        "            other_verbs.append(token)\n",
        "    return other_verbs\n",
        "\n",
        "\n",
        "#Function to find the token spans for each verb\n",
        "def get_clause_token_span_for_verb(verb, doc, all_verbs):\n",
        "    first_token_index = len(doc)\n",
        "    last_token_index = 0\n",
        "    this_verb_children = list(verb.children)\n",
        "    for child in this_verb_children:\n",
        "        if (child not in all_verbs):\n",
        "            if (child.i < first_token_index):\n",
        "                first_token_index = child.i\n",
        "            if (child.i > last_token_index):\n",
        "                last_token_index = child.i\n",
        "    return(first_token_index, last_token_index)\n",
        "\n",
        "#Function to split individual sentences into clauses\n",
        "def sentence_to_clauses(sentence , clause_list_flag = 1 , clause_count_flag = 0):\n",
        "  doc = nlp(sentence)\n",
        "  for token in doc:\n",
        "      ancestors = [t.text for t in token.ancestors]\n",
        "      children = [t.text for t in token.children]\n",
        "      #print(token.text, \"\\t\", token.i, \"\\t\", token.pos_, \"\\t\", token.dep_, \"\\t\", ancestors, \"\\t\", children)\n",
        "  root_token = find_root_of_sentence(doc)\n",
        "  other_verbs = find_other_verbs(doc, root_token)\n",
        "\n",
        "  token_spans = []   \n",
        "  all_verbs = [root_token] + other_verbs\n",
        "  for other_verb in all_verbs:\n",
        "      (first_token_index, last_token_index) = \\\n",
        "      get_clause_token_span_for_verb(other_verb, \n",
        "                                      doc, all_verbs)\n",
        "      token_spans.append((first_token_index, \n",
        "                          last_token_index))\n",
        "      \n",
        "  sentence_clauses = []\n",
        "  for token_span in token_spans:\n",
        "      start = token_span[0]\n",
        "      end = token_span[1]\n",
        "      if (start < end):\n",
        "          clause = doc[start:end]\n",
        "          sentence_clauses.append(clause)\n",
        "  sentence_clauses = sorted(sentence_clauses, \n",
        "                            key=lambda tup: tup[0])\n",
        "\n",
        "  result = [clause.text for clause in sentence_clauses]\n",
        "  if clause_list_flag == 1:\n",
        "    return result\n",
        "  if clause_count_flag == 1:\n",
        "    return len(result)\n",
        "  \n",
        "#Function to get clauses list from essay\n",
        "def essay_to_clauses(essay, clause_list_flag = 1 , clause_count_flag = 0):\n",
        "  essay = clean_essay(essay)\n",
        "  result = []\n",
        "  sentence_list = essay_to_sentences(essay)\n",
        "  for sent in sentence_list:\n",
        "    result = result+sentence_to_clauses(sent)\n",
        "  if clause_list_flag == 1:\n",
        "    return result\n",
        "  if clause_count_flag == 1:\n",
        "    return len(result)\n",
        "\n",
        "#Function to seperate words\n",
        "def essay_to_words(essay, word_list_flag = 1 , word_count_flag=0):\n",
        "  essay = clean_essay(essay)\n",
        "  doc = nlp(essay)\n",
        "  result = []\n",
        "  for word in doc:\n",
        "    if str(word.text).isalpha():\n",
        "      result.append(str(word.text))\n",
        "  if word_list_flag == 1:\n",
        "    return result\n",
        "  if word_count_flag == 1:\n",
        "    return len(result)\n",
        "\n",
        "#Function to return total grammatically wrong sentences\n",
        "def grammar_details_sentences(para,p1 = 0):\n",
        "  sentence_list = essay_to_sentences(para,1,0)\n",
        "  grammar_error_count = 0\n",
        "  for s in sentence_list:\n",
        "    error_status = check_grammar(s)\n",
        "    if error_status == 1 and p1 == 1:\n",
        "      print(s)\n",
        "    grammar_error_count += error_status\n",
        "  return grammar_error_count\n",
        "\n",
        "#Function to return total grammatically wrong clauses\n",
        "def grammar_details_clauses( essay,p1 = 0 ):\n",
        "  clause_list = essay_to_clauses(essay)\n",
        "  grammar_error_count = 0\n",
        "  for s in clause_list:\n",
        "    error_status = check_grammar(s)\n",
        "    if error_status == 1 and p1 == 1:\n",
        "      print(s)\n",
        "    grammar_error_count += error_status\n",
        "  return grammar_error_count\n",
        "\n",
        "#Get wrong spelling word count\n",
        "from textblob import TextBlob\n",
        "\n",
        "#Function to get count of spelling mistakes\n",
        "def spelling_mistake_count(para):\n",
        "  results = 0\n",
        "  tok = essay_to_words(para,1,0)\n",
        "  for t in tok:\n",
        "    if t != TextBlob(t).correct():\n",
        "      results = results + 1\n",
        "  return results\n",
        "\n",
        "import jamspell\n",
        "jsp = jamspell.TSpellCorrector()\n",
        "assert jsp.LoadLangModel('/content/drive/MyDrive/Colab Notebooks/AES/Saved Models/Language Models/en.bin')\n",
        "\n",
        "#Attempting to Fix Spelling Mistake\n",
        "def fix_spelling_in_essay(essay, option = 1):\n",
        "  \n",
        "  #Method 3\n",
        "  corrected_para = \"\"\n",
        "  if option == 1:\n",
        "    s_list = essay_to_sentences(essay,1,0)\n",
        "  if option == 2:\n",
        "    s_list = para_to_sent_using_re(essay)\n",
        "  for s in s_list:\n",
        "    corrected_para = corrected_para + jsp.FixFragment(s)\n",
        "\n",
        "  return corrected_para\n",
        "\n",
        "#More feature generation\n",
        "def words_per_sentence(para):\n",
        "  return essay_to_words(para,0,1)/essay_to_sentences(para,0,1)\n",
        "\n",
        "def words_per_clause(para):\n",
        "  return essay_to_words(para,0,1)/essay_to_clauses(para,0,1)"
      ]
    },
    {
      "cell_type": "code",
      "execution_count": null,
      "metadata": {
        "colab": {
          "base_uri": "https://localhost:8080/"
        },
        "id": "zm7d_xQEu5mm",
        "outputId": "e86ec81f-84f7-4e2a-da15-71e786a1898e"
      },
      "outputs": [
        {
          "data": {
            "text/html": [
              "\n",
              "  <div id=\"df-b08e25ed-05cd-4855-9a9d-1db778ddc36e\">\n",
              "    <div class=\"colab-df-container\">\n",
              "      <div>\n",
              "<style scoped>\n",
              "    .dataframe tbody tr th:only-of-type {\n",
              "        vertical-align: middle;\n",
              "    }\n",
              "\n",
              "    .dataframe tbody tr th {\n",
              "        vertical-align: top;\n",
              "    }\n",
              "\n",
              "    .dataframe thead th {\n",
              "        text-align: right;\n",
              "    }\n",
              "</style>\n",
              "<table border=\"1\" class=\"dataframe\">\n",
              "  <thead>\n",
              "    <tr style=\"text-align: right;\">\n",
              "      <th></th>\n",
              "      <th>essay_id</th>\n",
              "      <th>essay_set</th>\n",
              "      <th>essay</th>\n",
              "      <th>structure_score</th>\n",
              "      <th>grammar_score</th>\n",
              "    </tr>\n",
              "  </thead>\n",
              "  <tbody>\n",
              "    <tr>\n",
              "      <th>0</th>\n",
              "      <td>17834</td>\n",
              "      <td>7</td>\n",
              "      <td>Patience is when your waiting .I was patience ...</td>\n",
              "      <td>5</td>\n",
              "      <td>8</td>\n",
              "    </tr>\n",
              "    <tr>\n",
              "      <th>1</th>\n",
              "      <td>17836</td>\n",
              "      <td>7</td>\n",
              "      <td>I am not a patience person, like I can’t sit i...</td>\n",
              "      <td>5</td>\n",
              "      <td>5</td>\n",
              "    </tr>\n",
              "    <tr>\n",
              "      <th>2</th>\n",
              "      <td>17837</td>\n",
              "      <td>7</td>\n",
              "      <td>One day I was at basketball practice and I was...</td>\n",
              "      <td>6</td>\n",
              "      <td>6</td>\n",
              "    </tr>\n",
              "    <tr>\n",
              "      <th>3</th>\n",
              "      <td>17838</td>\n",
              "      <td>7</td>\n",
              "      <td>I going to write about a time when I went to t...</td>\n",
              "      <td>6</td>\n",
              "      <td>8</td>\n",
              "    </tr>\n",
              "    <tr>\n",
              "      <th>4</th>\n",
              "      <td>17839</td>\n",
              "      <td>7</td>\n",
              "      <td>It can be very hard for somebody to be patient...</td>\n",
              "      <td>5</td>\n",
              "      <td>6</td>\n",
              "    </tr>\n",
              "    <tr>\n",
              "      <th>...</th>\n",
              "      <td>...</td>\n",
              "      <td>...</td>\n",
              "      <td>...</td>\n",
              "      <td>...</td>\n",
              "      <td>...</td>\n",
              "    </tr>\n",
              "    <tr>\n",
              "      <th>995</th>\n",
              "      <td>18936</td>\n",
              "      <td>7</td>\n",
              "      <td>One time when I was patient, I got rewarded. J...</td>\n",
              "      <td>6</td>\n",
              "      <td>6</td>\n",
              "    </tr>\n",
              "    <tr>\n",
              "      <th>996</th>\n",
              "      <td>18937</td>\n",
              "      <td>7</td>\n",
              "      <td>My mom and I were were on are way to are house...</td>\n",
              "      <td>4</td>\n",
              "      <td>3</td>\n",
              "    </tr>\n",
              "    <tr>\n",
              "      <th>997</th>\n",
              "      <td>18938</td>\n",
              "      <td>7</td>\n",
              "      <td>One time I got birthday money I wanted to buy ...</td>\n",
              "      <td>6</td>\n",
              "      <td>8</td>\n",
              "    </tr>\n",
              "    <tr>\n",
              "      <th>998</th>\n",
              "      <td>18939</td>\n",
              "      <td>7</td>\n",
              "      <td>Patience is, in definition, being understandin...</td>\n",
              "      <td>3</td>\n",
              "      <td>6</td>\n",
              "    </tr>\n",
              "    <tr>\n",
              "      <th>999</th>\n",
              "      <td>18940</td>\n",
              "      <td>7</td>\n",
              "      <td>One time I had to wait very patiently. One aft...</td>\n",
              "      <td>7</td>\n",
              "      <td>8</td>\n",
              "    </tr>\n",
              "  </tbody>\n",
              "</table>\n",
              "<p>1000 rows × 5 columns</p>\n",
              "</div>\n",
              "      <button class=\"colab-df-convert\" onclick=\"convertToInteractive('df-b08e25ed-05cd-4855-9a9d-1db778ddc36e')\"\n",
              "              title=\"Convert this dataframe to an interactive table.\"\n",
              "              style=\"display:none;\">\n",
              "        \n",
              "  <svg xmlns=\"http://www.w3.org/2000/svg\" height=\"24px\"viewBox=\"0 0 24 24\"\n",
              "       width=\"24px\">\n",
              "    <path d=\"M0 0h24v24H0V0z\" fill=\"none\"/>\n",
              "    <path d=\"M18.56 5.44l.94 2.06.94-2.06 2.06-.94-2.06-.94-.94-2.06-.94 2.06-2.06.94zm-11 1L8.5 8.5l.94-2.06 2.06-.94-2.06-.94L8.5 2.5l-.94 2.06-2.06.94zm10 10l.94 2.06.94-2.06 2.06-.94-2.06-.94-.94-2.06-.94 2.06-2.06.94z\"/><path d=\"M17.41 7.96l-1.37-1.37c-.4-.4-.92-.59-1.43-.59-.52 0-1.04.2-1.43.59L10.3 9.45l-7.72 7.72c-.78.78-.78 2.05 0 2.83L4 21.41c.39.39.9.59 1.41.59.51 0 1.02-.2 1.41-.59l7.78-7.78 2.81-2.81c.8-.78.8-2.07 0-2.86zM5.41 20L4 18.59l7.72-7.72 1.47 1.35L5.41 20z\"/>\n",
              "  </svg>\n",
              "      </button>\n",
              "      \n",
              "  <style>\n",
              "    .colab-df-container {\n",
              "      display:flex;\n",
              "      flex-wrap:wrap;\n",
              "      gap: 12px;\n",
              "    }\n",
              "\n",
              "    .colab-df-convert {\n",
              "      background-color: #E8F0FE;\n",
              "      border: none;\n",
              "      border-radius: 50%;\n",
              "      cursor: pointer;\n",
              "      display: none;\n",
              "      fill: #1967D2;\n",
              "      height: 32px;\n",
              "      padding: 0 0 0 0;\n",
              "      width: 32px;\n",
              "    }\n",
              "\n",
              "    .colab-df-convert:hover {\n",
              "      background-color: #E2EBFA;\n",
              "      box-shadow: 0px 1px 2px rgba(60, 64, 67, 0.3), 0px 1px 3px 1px rgba(60, 64, 67, 0.15);\n",
              "      fill: #174EA6;\n",
              "    }\n",
              "\n",
              "    [theme=dark] .colab-df-convert {\n",
              "      background-color: #3B4455;\n",
              "      fill: #D2E3FC;\n",
              "    }\n",
              "\n",
              "    [theme=dark] .colab-df-convert:hover {\n",
              "      background-color: #434B5C;\n",
              "      box-shadow: 0px 1px 3px 1px rgba(0, 0, 0, 0.15);\n",
              "      filter: drop-shadow(0px 1px 2px rgba(0, 0, 0, 0.3));\n",
              "      fill: #FFFFFF;\n",
              "    }\n",
              "  </style>\n",
              "\n",
              "      <script>\n",
              "        const buttonEl =\n",
              "          document.querySelector('#df-b08e25ed-05cd-4855-9a9d-1db778ddc36e button.colab-df-convert');\n",
              "        buttonEl.style.display =\n",
              "          google.colab.kernel.accessAllowed ? 'block' : 'none';\n",
              "\n",
              "        async function convertToInteractive(key) {\n",
              "          const element = document.querySelector('#df-b08e25ed-05cd-4855-9a9d-1db778ddc36e');\n",
              "          const dataTable =\n",
              "            await google.colab.kernel.invokeFunction('convertToInteractive',\n",
              "                                                     [key], {});\n",
              "          if (!dataTable) return;\n",
              "\n",
              "          const docLinkHtml = 'Like what you see? Visit the ' +\n",
              "            '<a target=\"_blank\" href=https://colab.research.google.com/notebooks/data_table.ipynb>data table notebook</a>'\n",
              "            + ' to learn more about interactive tables.';\n",
              "          element.innerHTML = '';\n",
              "          dataTable['output_type'] = 'display_data';\n",
              "          await google.colab.output.renderOutput(dataTable, element);\n",
              "          const docLink = document.createElement('div');\n",
              "          docLink.innerHTML = docLinkHtml;\n",
              "          element.appendChild(docLink);\n",
              "        }\n",
              "      </script>\n",
              "    </div>\n",
              "  </div>\n",
              "  "
            ],
            "text/plain": [
              "     essay_id  essay_set                                              essay  \\\n",
              "0       17834          7  Patience is when your waiting .I was patience ...   \n",
              "1       17836          7  I am not a patience person, like I can’t sit i...   \n",
              "2       17837          7  One day I was at basketball practice and I was...   \n",
              "3       17838          7  I going to write about a time when I went to t...   \n",
              "4       17839          7  It can be very hard for somebody to be patient...   \n",
              "..        ...        ...                                                ...   \n",
              "995     18936          7  One time when I was patient, I got rewarded. J...   \n",
              "996     18937          7  My mom and I were were on are way to are house...   \n",
              "997     18938          7  One time I got birthday money I wanted to buy ...   \n",
              "998     18939          7  Patience is, in definition, being understandin...   \n",
              "999     18940          7  One time I had to wait very patiently. One aft...   \n",
              "\n",
              "     structure_score  grammar_score  \n",
              "0                  5              8  \n",
              "1                  5              5  \n",
              "2                  6              6  \n",
              "3                  6              8  \n",
              "4                  5              6  \n",
              "..               ...            ...  \n",
              "995                6              6  \n",
              "996                4              3  \n",
              "997                6              8  \n",
              "998                3              6  \n",
              "999                7              8  \n",
              "\n",
              "[1000 rows x 5 columns]"
            ]
          },
          "execution_count": 46,
          "metadata": {},
          "output_type": "execute_result"
        }
      ],
      "source": [
        "data_set"
      ]
    },
    {
      "cell_type": "code",
      "execution_count": null,
      "metadata": {
        "id": "Vv8gIvQShmTm"
      },
      "outputs": [],
      "source": [
        "#Sentence Level Analysis\n",
        "#import re\n",
        "\n",
        "#Clean essay by removing '@'\n",
        "def clean_essay(essay):\n",
        "  result = re.sub(r' @',' ',essay)\n",
        "  return result\n",
        "\n",
        "#Function to return Total Sentence count using regular expression\n",
        "def sentence_count(para):\n",
        "  total_sentence = len(para_to_sent_using_re(para))\n",
        "  return total_sentence\n",
        "\n",
        "#Split essay into sentence using \".\"\n",
        "def basic_para_to_sent(essay):\n",
        "  return essay.split(\".\")\n",
        "\n",
        "#Function to split sentences using regular expression\n",
        "def para_to_sent_using_re(essay):\n",
        "  m = re.split(r'([\\s][.?!]+)|([.?!]+[\\s])', essay)\n",
        "  m = [str(i) for i in m if i!=None ]\n",
        "  p1 = m[0::2]\n",
        "  p2 = m[1::2]\n",
        "  if len(p1) != len(p2):\n",
        "    mins = min(len(p1) , len(p2))\n",
        "    maxs = max(len(p1) , len(p2))\n",
        "    diff = maxs-mins\n",
        "    if len(p1)>len(p2):\n",
        "      p2 = p2 + [\" \"*diff]\n",
        "    else:\n",
        "      p1 = p1 + [\" \"*diff]\n",
        "  m = [a+b for a,b in zip(p1,p2)]\n",
        "  return m\n",
        "\n",
        "#Function to return total grammatically wrong sentences from total sentences\n",
        "def grammar_details(para,p1 = 0):\n",
        "  sentence_list = para_to_sent_using_re(para)\n",
        "  grammar_error_count = 0\n",
        "  for s in sentence_list:\n",
        "    error_status = check_grammar(s)\n",
        "    if error_status == 1 and p1 == 1:\n",
        "      print(s)\n",
        "    grammar_error_count += error_status\n",
        "  return grammar_error_count"
      ]
    },
    {
      "cell_type": "code",
      "execution_count": null,
      "metadata": {
        "colab": {
          "background_save": true,
          "base_uri": "https://localhost:8080/"
        },
        "id": "gGsEFmcnwXnN",
        "outputId": "b2e6c214-a7d9-4810-b0b0-9d577e0d3d86"
      },
      "outputs": [
        {
          "name": "stdout",
          "output_type": "stream",
          "text": [
            "=====================================================================================\n",
            "GENERATING  SENTENCE FEATURES\n",
            "=====================================================================================\n",
            "Total Sentence count, per essay...\n",
            "Total grammatically wrong sentences, per essay...\n",
            "Ratio of grammatically wrong sentences to total sentences, per essay...\n",
            "Totall Grammatically Wrong Sentence after fixing spelling mistakes, per essay...\n",
            "=====================================================================================\n",
            "GENERATING CLAUSE FEATURES\n",
            "=====================================================================================\n",
            "Total Clause, per essay...\n",
            "Total grammatically wrong clauses, per essay...\n",
            "Totall Grammatically Wrong Clauses after fixing spelling mistakes, per essay...\n",
            "Ratio of grammatically wrong clauses to total clauses, per essay...\n",
            "=====================================================================================\n",
            "GENERATING WORD FEATURES\n",
            "=====================================================================================\n",
            "Total word count, per essay...\n",
            "Total wrongly spelled word count, per essay...\n",
            "Ratio of wrongly spelled word to total word count, per essay...\n",
            "=====================================================================================\n",
            "GENERATING EXTRA FEATURES\n",
            "=====================================================================================\n",
            "Ratio of words per sentence, per essay...\n",
            "Ratio of words per clause, per essay...\n"
          ]
        }
      ],
      "source": [
        "#total essays to work with, due to RAM/Time constraint\n",
        "\n",
        "#Generating sentence features=====================================================================================================================\n",
        "print_banner(\"GENERATING  SENTENCE FEATURES\")\n",
        "\n",
        "#Total Sentence count, per essay\n",
        "print(\"Total Sentence count, per essay...\")\n",
        "#data_set['total sentences'] = data_set['essay'].apply(lambda x : int(essay_to_sentences(str(x),0,1)))\n",
        "data_set['total sentences'] = data_set['essay'].apply(lambda x : int(sentence_count(str(x))))\n",
        "\n",
        "#Total grammatically wrong sentences, per essay\n",
        "print(\"Total grammatically wrong sentences, per essay...\")\n",
        "#data_set['total grammar errors'] = data_set['essay'].apply(lambda x : int(grammar_details_sentences(str(x))))\n",
        "data_set['total grammar errors'] = data_set['essay'].apply(lambda x : int(grammar_details(str(x))))\n",
        "\n",
        "#Ratio of grammatically wrong sentences to total sentences, per essay\n",
        "print(\"Ratio of grammatically wrong sentences to total sentences, per essay...\")\n",
        "data_set['grammar ratio'] = data_set['total grammar errors']/data_set['total sentences']\n",
        "\n",
        "#Totall Grammatically Wrong Sentence after fixing spelling mistakes\n",
        "print(\"Totall Grammatically Wrong Sentence after fixing spelling mistakes, per essay...\")\n",
        "#data_set['total grammar errors after spelling fix'] = data_set['essay'].apply(lambda x : int(grammar_details_sentences(fix_spelling_in_essay(x))))\n",
        "data_set['total grammar errors after spelling fix'] = data_set['essay'].apply(lambda x : int(grammar_details(fix_spelling_in_essay(x,2))))\n",
        "\n",
        "#Generating Clause features=====================================================================================================================\n",
        "print_banner(\"GENERATING CLAUSE FEATURES\")\n",
        "\n",
        "#Total Clause count, per essay\n",
        "print(\"Total Clause, per essay...\")\n",
        "data_set['total clauses'] = data_set['essay'].apply(lambda x : int(essay_to_clauses(str(x),0,1)))\n",
        "\n",
        "#Total grammatically wrong phrases, per essay\n",
        "print(\"Total grammatically wrong clauses, per essay...\")\n",
        "data_set['total clause grammar errors'] = data_set['essay'].apply(lambda x : int(grammar_details_clauses(str(x))))\n",
        "\n",
        "#Totall Grammatically Wrong Clauses after fixing spelling mistakes\n",
        "print(\"Totall Grammatically Wrong Clauses after fixing spelling mistakes, per essay...\")\n",
        "data_set['total clause grammar errors after spelling fix'] = data_set['essay'].apply(lambda x : int(grammar_details_clauses(fix_spelling_in_essay(x))))\n",
        "#data_set['total clause grammar errors after spelling fix'] = data_set['essay'].apply(lambda x : int(grammar_details(fix_spelling_in_essay(x,1))))\n",
        "\n",
        "#Ratio of grammatically wrong phrases to total phrases, per essay\n",
        "print(\"Ratio of grammatically wrong clauses to total clauses, per essay...\")\n",
        "data_set['clause grammar_ratio'] = data_set['total clause grammar errors']/data_set['total clauses']\n",
        "\n",
        "#Generating Word features=====================================================================================================================\n",
        "print_banner(\"GENERATING WORD FEATURES\")\n",
        "\n",
        "#Total word count, per essay\n",
        "print(\"Total word count, per essay...\")\n",
        "data_set[\"total word count\"] = data_set['essay'].apply(lambda x : essay_to_words(x,0,1))\n",
        "\n",
        "#Total wrongly spelled word count, per essay\n",
        "print(\"Total wrongly spelled word count, per essay...\")\n",
        "data_set[\"wrong word count\"] = data_set['essay'].apply(lambda x : spelling_mistake_count(x))\n",
        "\n",
        "#Ratio of wrongly spelled word to total word count , per essay\n",
        "print(\"Ratio of wrongly spelled word to total word count, per essay...\")\n",
        "data_set['spelling ratio'] = data_set[\"wrong word count\"]/data_set[\"total word count\"]\n",
        "\n",
        "#Generating Extra features=====================================================================================================================\n",
        "print_banner(\"GENERATING EXTRA FEATURES\")\n",
        "\n",
        "#Ratio of words per sentence\n",
        "print(\"Ratio of words per sentence, per essay...\")\n",
        "data_set['words per sentence'] = data_set['essay'].apply(lambda x : int(words_per_sentence(str(x))))\n",
        "\n",
        "#Ratio of words per clasue\n",
        "print(\"Ratio of words per clause, per essay...\")\n",
        "data_set['words per clause'] = data_set['essay'].apply(lambda x : int(words_per_clause(str(x))))"
      ]
    },
    {
      "cell_type": "code",
      "execution_count": null,
      "metadata": {
        "colab": {
          "background_save": true
        },
        "id": "kTWA6W9z1sYz",
        "outputId": "c464619a-aa48-4d00-b53f-8a9c1352140e"
      },
      "outputs": [
        {
          "data": {
            "text/html": [
              "\n",
              "  <div id=\"df-8c1e7da1-38e0-42fa-a40e-9ed8aea7ebb7\">\n",
              "    <div class=\"colab-df-container\">\n",
              "      <div>\n",
              "<style scoped>\n",
              "    .dataframe tbody tr th:only-of-type {\n",
              "        vertical-align: middle;\n",
              "    }\n",
              "\n",
              "    .dataframe tbody tr th {\n",
              "        vertical-align: top;\n",
              "    }\n",
              "\n",
              "    .dataframe thead th {\n",
              "        text-align: right;\n",
              "    }\n",
              "</style>\n",
              "<table border=\"1\" class=\"dataframe\">\n",
              "  <thead>\n",
              "    <tr style=\"text-align: right;\">\n",
              "      <th></th>\n",
              "      <th>essay_id</th>\n",
              "      <th>essay_set</th>\n",
              "      <th>essay</th>\n",
              "      <th>structure_score</th>\n",
              "      <th>grammar_score</th>\n",
              "      <th>total sentences</th>\n",
              "      <th>total grammar errors</th>\n",
              "      <th>grammar ratio</th>\n",
              "      <th>total grammar errors after spelling fix</th>\n",
              "      <th>total clauses</th>\n",
              "      <th>total clause grammar errors</th>\n",
              "      <th>total clause grammar errors after spelling fix</th>\n",
              "      <th>clause grammar_ratio</th>\n",
              "      <th>total word count</th>\n",
              "      <th>wrong word count</th>\n",
              "      <th>spelling ratio</th>\n",
              "      <th>words per sentence</th>\n",
              "      <th>words per clause</th>\n",
              "    </tr>\n",
              "  </thead>\n",
              "  <tbody>\n",
              "    <tr>\n",
              "      <th>0</th>\n",
              "      <td>17834</td>\n",
              "      <td>7</td>\n",
              "      <td>Patience is when your waiting .I was patience ...</td>\n",
              "      <td>5</td>\n",
              "      <td>8</td>\n",
              "      <td>11</td>\n",
              "      <td>3</td>\n",
              "      <td>0.272727</td>\n",
              "      <td>3</td>\n",
              "      <td>9</td>\n",
              "      <td>3</td>\n",
              "      <td>2</td>\n",
              "      <td>0.333333</td>\n",
              "      <td>82</td>\n",
              "      <td>0</td>\n",
              "      <td>0.000000</td>\n",
              "      <td>27</td>\n",
              "      <td>9</td>\n",
              "    </tr>\n",
              "    <tr>\n",
              "      <th>1</th>\n",
              "      <td>17836</td>\n",
              "      <td>7</td>\n",
              "      <td>I am not a patience person, like I can’t sit i...</td>\n",
              "      <td>5</td>\n",
              "      <td>5</td>\n",
              "      <td>3</td>\n",
              "      <td>3</td>\n",
              "      <td>1.000000</td>\n",
              "      <td>3</td>\n",
              "      <td>11</td>\n",
              "      <td>7</td>\n",
              "      <td>6</td>\n",
              "      <td>0.636364</td>\n",
              "      <td>92</td>\n",
              "      <td>7</td>\n",
              "      <td>0.076087</td>\n",
              "      <td>18</td>\n",
              "      <td>8</td>\n",
              "    </tr>\n",
              "    <tr>\n",
              "      <th>2</th>\n",
              "      <td>17837</td>\n",
              "      <td>7</td>\n",
              "      <td>One day I was at basketball practice and I was...</td>\n",
              "      <td>6</td>\n",
              "      <td>6</td>\n",
              "      <td>2</td>\n",
              "      <td>2</td>\n",
              "      <td>1.000000</td>\n",
              "      <td>2</td>\n",
              "      <td>12</td>\n",
              "      <td>6</td>\n",
              "      <td>7</td>\n",
              "      <td>0.500000</td>\n",
              "      <td>148</td>\n",
              "      <td>7</td>\n",
              "      <td>0.047297</td>\n",
              "      <td>18</td>\n",
              "      <td>12</td>\n",
              "    </tr>\n",
              "    <tr>\n",
              "      <th>3</th>\n",
              "      <td>17838</td>\n",
              "      <td>7</td>\n",
              "      <td>I going to write about a time when I went to t...</td>\n",
              "      <td>6</td>\n",
              "      <td>8</td>\n",
              "      <td>13</td>\n",
              "      <td>4</td>\n",
              "      <td>0.307692</td>\n",
              "      <td>3</td>\n",
              "      <td>21</td>\n",
              "      <td>5</td>\n",
              "      <td>4</td>\n",
              "      <td>0.238095</td>\n",
              "      <td>214</td>\n",
              "      <td>8</td>\n",
              "      <td>0.037383</td>\n",
              "      <td>15</td>\n",
              "      <td>10</td>\n",
              "    </tr>\n",
              "    <tr>\n",
              "      <th>4</th>\n",
              "      <td>17839</td>\n",
              "      <td>7</td>\n",
              "      <td>It can be very hard for somebody to be patient...</td>\n",
              "      <td>5</td>\n",
              "      <td>6</td>\n",
              "      <td>12</td>\n",
              "      <td>0</td>\n",
              "      <td>0.000000</td>\n",
              "      <td>0</td>\n",
              "      <td>17</td>\n",
              "      <td>2</td>\n",
              "      <td>2</td>\n",
              "      <td>0.117647</td>\n",
              "      <td>149</td>\n",
              "      <td>5</td>\n",
              "      <td>0.033557</td>\n",
              "      <td>12</td>\n",
              "      <td>8</td>\n",
              "    </tr>\n",
              "  </tbody>\n",
              "</table>\n",
              "</div>\n",
              "      <button class=\"colab-df-convert\" onclick=\"convertToInteractive('df-8c1e7da1-38e0-42fa-a40e-9ed8aea7ebb7')\"\n",
              "              title=\"Convert this dataframe to an interactive table.\"\n",
              "              style=\"display:none;\">\n",
              "        \n",
              "  <svg xmlns=\"http://www.w3.org/2000/svg\" height=\"24px\"viewBox=\"0 0 24 24\"\n",
              "       width=\"24px\">\n",
              "    <path d=\"M0 0h24v24H0V0z\" fill=\"none\"/>\n",
              "    <path d=\"M18.56 5.44l.94 2.06.94-2.06 2.06-.94-2.06-.94-.94-2.06-.94 2.06-2.06.94zm-11 1L8.5 8.5l.94-2.06 2.06-.94-2.06-.94L8.5 2.5l-.94 2.06-2.06.94zm10 10l.94 2.06.94-2.06 2.06-.94-2.06-.94-.94-2.06-.94 2.06-2.06.94z\"/><path d=\"M17.41 7.96l-1.37-1.37c-.4-.4-.92-.59-1.43-.59-.52 0-1.04.2-1.43.59L10.3 9.45l-7.72 7.72c-.78.78-.78 2.05 0 2.83L4 21.41c.39.39.9.59 1.41.59.51 0 1.02-.2 1.41-.59l7.78-7.78 2.81-2.81c.8-.78.8-2.07 0-2.86zM5.41 20L4 18.59l7.72-7.72 1.47 1.35L5.41 20z\"/>\n",
              "  </svg>\n",
              "      </button>\n",
              "      \n",
              "  <style>\n",
              "    .colab-df-container {\n",
              "      display:flex;\n",
              "      flex-wrap:wrap;\n",
              "      gap: 12px;\n",
              "    }\n",
              "\n",
              "    .colab-df-convert {\n",
              "      background-color: #E8F0FE;\n",
              "      border: none;\n",
              "      border-radius: 50%;\n",
              "      cursor: pointer;\n",
              "      display: none;\n",
              "      fill: #1967D2;\n",
              "      height: 32px;\n",
              "      padding: 0 0 0 0;\n",
              "      width: 32px;\n",
              "    }\n",
              "\n",
              "    .colab-df-convert:hover {\n",
              "      background-color: #E2EBFA;\n",
              "      box-shadow: 0px 1px 2px rgba(60, 64, 67, 0.3), 0px 1px 3px 1px rgba(60, 64, 67, 0.15);\n",
              "      fill: #174EA6;\n",
              "    }\n",
              "\n",
              "    [theme=dark] .colab-df-convert {\n",
              "      background-color: #3B4455;\n",
              "      fill: #D2E3FC;\n",
              "    }\n",
              "\n",
              "    [theme=dark] .colab-df-convert:hover {\n",
              "      background-color: #434B5C;\n",
              "      box-shadow: 0px 1px 3px 1px rgba(0, 0, 0, 0.15);\n",
              "      filter: drop-shadow(0px 1px 2px rgba(0, 0, 0, 0.3));\n",
              "      fill: #FFFFFF;\n",
              "    }\n",
              "  </style>\n",
              "\n",
              "      <script>\n",
              "        const buttonEl =\n",
              "          document.querySelector('#df-8c1e7da1-38e0-42fa-a40e-9ed8aea7ebb7 button.colab-df-convert');\n",
              "        buttonEl.style.display =\n",
              "          google.colab.kernel.accessAllowed ? 'block' : 'none';\n",
              "\n",
              "        async function convertToInteractive(key) {\n",
              "          const element = document.querySelector('#df-8c1e7da1-38e0-42fa-a40e-9ed8aea7ebb7');\n",
              "          const dataTable =\n",
              "            await google.colab.kernel.invokeFunction('convertToInteractive',\n",
              "                                                     [key], {});\n",
              "          if (!dataTable) return;\n",
              "\n",
              "          const docLinkHtml = 'Like what you see? Visit the ' +\n",
              "            '<a target=\"_blank\" href=https://colab.research.google.com/notebooks/data_table.ipynb>data table notebook</a>'\n",
              "            + ' to learn more about interactive tables.';\n",
              "          element.innerHTML = '';\n",
              "          dataTable['output_type'] = 'display_data';\n",
              "          await google.colab.output.renderOutput(dataTable, element);\n",
              "          const docLink = document.createElement('div');\n",
              "          docLink.innerHTML = docLinkHtml;\n",
              "          element.appendChild(docLink);\n",
              "        }\n",
              "      </script>\n",
              "    </div>\n",
              "  </div>\n",
              "  "
            ],
            "text/plain": [
              "   essay_id  essay_set                                              essay  \\\n",
              "0     17834          7  Patience is when your waiting .I was patience ...   \n",
              "1     17836          7  I am not a patience person, like I can’t sit i...   \n",
              "2     17837          7  One day I was at basketball practice and I was...   \n",
              "3     17838          7  I going to write about a time when I went to t...   \n",
              "4     17839          7  It can be very hard for somebody to be patient...   \n",
              "\n",
              "   structure_score  grammar_score  total sentences  total grammar errors  \\\n",
              "0                5              8               11                     3   \n",
              "1                5              5                3                     3   \n",
              "2                6              6                2                     2   \n",
              "3                6              8               13                     4   \n",
              "4                5              6               12                     0   \n",
              "\n",
              "   grammar ratio  total grammar errors after spelling fix  total clauses  \\\n",
              "0       0.272727                                        3              9   \n",
              "1       1.000000                                        3             11   \n",
              "2       1.000000                                        2             12   \n",
              "3       0.307692                                        3             21   \n",
              "4       0.000000                                        0             17   \n",
              "\n",
              "   total clause grammar errors  \\\n",
              "0                            3   \n",
              "1                            7   \n",
              "2                            6   \n",
              "3                            5   \n",
              "4                            2   \n",
              "\n",
              "   total clause grammar errors after spelling fix  clause grammar_ratio  \\\n",
              "0                                               2              0.333333   \n",
              "1                                               6              0.636364   \n",
              "2                                               7              0.500000   \n",
              "3                                               4              0.238095   \n",
              "4                                               2              0.117647   \n",
              "\n",
              "   total word count  wrong word count  spelling ratio  words per sentence  \\\n",
              "0                82                 0        0.000000                  27   \n",
              "1                92                 7        0.076087                  18   \n",
              "2               148                 7        0.047297                  18   \n",
              "3               214                 8        0.037383                  15   \n",
              "4               149                 5        0.033557                  12   \n",
              "\n",
              "   words per clause  \n",
              "0                 9  \n",
              "1                 8  \n",
              "2                12  \n",
              "3                10  \n",
              "4                 8  "
            ]
          },
          "execution_count": 49,
          "metadata": {},
          "output_type": "execute_result"
        }
      ],
      "source": [
        "#Show data set\n",
        "data_set.head()"
      ]
    },
    {
      "cell_type": "code",
      "execution_count": null,
      "metadata": {
        "colab": {
          "background_save": true
        },
        "id": "0VrcbN2TQe1n",
        "outputId": "a9c6a062-55ce-4607-aea6-6fe3a2cb8110"
      },
      "outputs": [
        {
          "name": "stdout",
          "output_type": "stream",
          "text": [
            "<class 'pandas.core.frame.DataFrame'>\n",
            "RangeIndex: 1000 entries, 0 to 999\n",
            "Data columns (total 18 columns):\n",
            " #   Column                                          Non-Null Count  Dtype  \n",
            "---  ------                                          --------------  -----  \n",
            " 0   essay_id                                        1000 non-null   int64  \n",
            " 1   essay_set                                       1000 non-null   int64  \n",
            " 2   essay                                           1000 non-null   object \n",
            " 3   structure_score                                 1000 non-null   int64  \n",
            " 4   grammar_score                                   1000 non-null   int64  \n",
            " 5   total sentences                                 1000 non-null   int64  \n",
            " 6   total grammar errors                            1000 non-null   int64  \n",
            " 7   grammar ratio                                   1000 non-null   float64\n",
            " 8   total grammar errors after spelling fix         1000 non-null   int64  \n",
            " 9   total clauses                                   1000 non-null   int64  \n",
            " 10  total clause grammar errors                     1000 non-null   int64  \n",
            " 11  total clause grammar errors after spelling fix  1000 non-null   int64  \n",
            " 12  clause grammar_ratio                            1000 non-null   float64\n",
            " 13  total word count                                1000 non-null   int64  \n",
            " 14  wrong word count                                1000 non-null   int64  \n",
            " 15  spelling ratio                                  1000 non-null   float64\n",
            " 16  words per sentence                              1000 non-null   int64  \n",
            " 17  words per clause                                1000 non-null   int64  \n",
            "dtypes: float64(3), int64(14), object(1)\n",
            "memory usage: 140.8+ KB\n"
          ]
        }
      ],
      "source": [
        "data_set.info()"
      ]
    },
    {
      "cell_type": "code",
      "execution_count": null,
      "metadata": {
        "colab": {
          "background_save": true
        },
        "id": "7o0kb1P76BCv"
      },
      "outputs": [],
      "source": [
        "#save grammar feature data frame of train test set to work with later, in csv format\n",
        "#data_set.to_csv(data_set_path='/ASAP_AES/grammar_details_train test set_feature generation_v8.csv')"
      ]
    },
    {
      "cell_type": "markdown",
      "metadata": {
        "id": "g7Li-oUnmF9a"
      },
      "source": [
        "#### ***Training & Testing***"
      ]
    },
    {
      "cell_type": "markdown",
      "metadata": {
        "id": "d0qy0c-AAgm1"
      },
      "source": [
        "Grammar Score Prediction using Logistic Regression"
      ]
    },
    {
      "cell_type": "code",
      "execution_count": null,
      "metadata": {
        "colab": {
          "background_save": true
        },
        "id": "3IUKnmNQuEAK",
        "outputId": "7fa7281a-8d7b-433e-db13-526bec33b50e"
      },
      "outputs": [
        {
          "name": "stdout",
          "output_type": "stream",
          "text": [
            "[10  6  8  8  6  6  6  6  8  6  6  8  8 10 10  6  8  6  6  6  6  6  6  6\n",
            "  6  6  8 10  8 10  6  6 10  3 10  6  3  8  8  8  6  8  6  6  6  8  6  6\n",
            " 10 10  6  6 10  6  3  6 10  6  3  6  8 10  8  6  8  3 10  3  6 10 10  5\n",
            "  6  6  5  8  6  5  3  8 10  6 10  6  6  6  8 10  6  6  8  6 10 10 10 10\n",
            "  6 10  5 10  6  8  3  8  6  5  8  8  6 10  6  6  6 10 10  8  6  6  6  6\n",
            " 10 10  6  6  6  3  3  6  6  3  6  6  6  3 10 10 10  6 10  6 10  6  6  6\n",
            "  6  6  6  8 10  8  6  6  6  8  6  6  8  3  3  8  6 10  8  5 10  6  6  5\n",
            "  6 10  6  6 10  6  6  6  6 10  3  6  3 10  6 10  6  8  6  6  6 10  5  6\n",
            "  3  6  8 10  6 10  6  6  6  6  6 10  6 10  6  6  8  8  6  3  8 10  6  6\n",
            "  3  6  3  5  8  8  6  6 10  6  8  6  6  3  6  6  6 10 10  6  8 10  8  6\n",
            "  8  8  6  8  6  6  6  6 10 10 10 10  8  6  8  6  8  3  6  6 10  6 10  6\n",
            "  8 10  8  6  6  6  3  8 10 10  6  6  6  8  6  3 10  6  8  3 10  6  6  8\n",
            "  8  8  6  3  6 10  8  8 10 10 10 10  6 10  3  3  6  5  6  8  6  6 10  6\n",
            "  3  8  6  8  6  8  6 10  6  6  6 10  6  3  8  6 10  6  8  8  8  8  6  6\n",
            "  3  3 10  8  6  8  6  6 10 10  6 10  8  8  8  6 10  6  6  8  6  6  6  8\n",
            " 10 10  6  6  6 10  6  3  8 10  3  6  6  6 10 10 10 10  6  6 10  8  6  6\n",
            "  3  8  6  3  6  6  6  6  6  6  6  3 10  3  6  6  8  8  8  8  5  6  8  5\n",
            "  6 10  6  3  6  8  6  8  6  6  6  6  6  3  6  6 10  3  6  6  8  6 10  6\n",
            "  8  6  6  6 10  8  8  8  6  8  5  6  6  6  6 10  6  8  3  6  6 10  6  6\n",
            "  3  6  6 10  6  6 10  5  6 10  8  3 10  8  6  6  5  8  6 10  8 10  8  6\n",
            "  6  8  6  6  6  6  6  6  6  6  5 10 10  8 10  6  8  8  3 10  6  6  6  8\n",
            "  8  6 10  6  6  6  8 10  6  8  6 10 10  6 10 10 10  6  6  6 10 10  8  8\n",
            " 10  3  8 10  6  6  8  6  6  6  8  6 10  6  8 10  8  6  6  6  8  6 10  8\n",
            "  6  6  6  6  3  6  8 10  8  3  6 10  6  6  8  6  6  6  6  6  6  6  8  6\n",
            "  8  6 10  8  6  6  6  6  6  3  8  8  6 10  8 10  6  5  6 10  5  8  6  3\n",
            "  6  3  6  8  3  3  6  8 10  6  6  6  5  8  6  8  3  8 10  6  5  3  6  8\n",
            " 10  6  6  8 10 10 10  3  8  3  6  6  6  6 10 10  6  6  6  3  6 10  6  8\n",
            "  6  6  8  6  6  8  6  8  6  8  6  6  6  6  6  6 10  8  6  6  8  6  6  6\n",
            "  6  6  3  6  6  8  8  6 10  3  8 10  6  6 10 10  5  6  6 10  8 10  8  8\n",
            "  6  6  6  6]\n"
          ]
        },
        {
          "name": "stderr",
          "output_type": "stream",
          "text": [
            "/usr/local/lib/python3.8/dist-packages/sklearn/utils/validation.py:993: DataConversionWarning: A column-vector y was passed when a 1d array was expected. Please change the shape of y to (n_samples, ), for example using ravel().\n",
            "  y = column_or_1d(y, warn=True)\n",
            "/usr/local/lib/python3.8/dist-packages/sklearn/linear_model/_logistic.py:814: ConvergenceWarning: lbfgs failed to converge (status=1):\n",
            "STOP: TOTAL NO. of ITERATIONS REACHED LIMIT.\n",
            "\n",
            "Increase the number of iterations (max_iter) or scale the data as shown in:\n",
            "    https://scikit-learn.org/stable/modules/preprocessing.html\n",
            "Please also refer to the documentation for alternative solver options:\n",
            "    https://scikit-learn.org/stable/modules/linear_model.html#logistic-regression\n",
            "  n_iter_i = _check_optimize_result(\n"
          ]
        }
      ],
      "source": [
        "## Define X and Y variables\n",
        "X = data_set.iloc[:,[3,5,6,7,8,9,10,11,12]]\n",
        "Y = data_set[['grammar_score']]\n",
        "\n",
        "##Split into training and test set\n",
        "from sklearn.model_selection import train_test_split\n",
        "X_train, X_test, y_train, y_test = train_test_split(X, Y, test_size=0.30,random_state=1)\n",
        "\n",
        "#Assign value to global dataframe for final testing\n",
        "gs_test_x = X_test\n",
        "gs_test_y = y_test\n",
        "\n",
        "from sklearn.metrics import confusion_matrix, recall_score, precision_score, f1_score, roc_auc_score, accuracy_score, log_loss\n",
        "from sklearn.linear_model import LogisticRegression\n",
        "\n",
        "#Inititate Logistic Regression Model\n",
        "grammar_score_predict_logreg = LogisticRegression(random_state=42);\n",
        "\n",
        "#Train the model\n",
        "grammar_score_predict_logreg.fit(X_train, y_train)\n",
        "\n",
        "#Test the model\n",
        "y_predict = grammar_score_predict_logreg.predict(X_train)\n",
        "y_predict_prob = grammar_score_predict_logreg.predict_proba(X_train)\n",
        "confusion_matrix(y_train,y_predict)\n",
        "print(y_predict)"
      ]
    },
    {
      "cell_type": "code",
      "execution_count": null,
      "metadata": {
        "colab": {
          "background_save": true
        },
        "id": "QoiB1s3P6UeI",
        "outputId": "fb294c40-284f-4b9f-e35b-331864f43be9"
      },
      "outputs": [
        {
          "data": {
            "text/plain": [
              "structure_score                                   False\n",
              "total sentences                                   False\n",
              "total grammar errors                              False\n",
              "grammar ratio                                     False\n",
              "total grammar errors after spelling fix           False\n",
              "total clauses                                     False\n",
              "total clause grammar errors                       False\n",
              "total clause grammar errors after spelling fix    False\n",
              "clause grammar_ratio                              False\n",
              "dtype: bool"
            ]
          },
          "execution_count": 53,
          "metadata": {},
          "output_type": "execute_result"
        }
      ],
      "source": [
        "#To check if null values are present\n",
        "X.isnull().any()"
      ]
    },
    {
      "cell_type": "markdown",
      "metadata": {
        "id": "es1g_wYWmKh1"
      },
      "source": [
        "#### ***Evaluation Score***"
      ]
    },
    {
      "cell_type": "code",
      "execution_count": null,
      "metadata": {
        "colab": {
          "background_save": true
        },
        "id": "n2rUbDSRURkv",
        "outputId": "8fe4c8c8-c850-4d67-9c34-3f9428c1d727"
      },
      "outputs": [
        {
          "name": "stdout",
          "output_type": "stream",
          "text": [
            "300\n",
            "300\n",
            "0.6874227823078825\n"
          ]
        }
      ],
      "source": [
        "#QWK Score on unknown Test set\n",
        "p1 = grammar_score_predict_logreg.predict(X_test)\n",
        "print(len(p1))\n",
        "p2 = pd.DataFrame(y_test , columns = ['grammar_score']).squeeze().to_list()\n",
        "print(len(p2))\n",
        "print(cohen_kappa_score(p1,p2,weights='quadratic'))"
      ]
    },
    {
      "cell_type": "code",
      "execution_count": null,
      "metadata": {
        "colab": {
          "background_save": true
        },
        "id": "cHGm4-YKQVZ5",
        "outputId": "b5040613-01cc-4b22-c835-b6957970e769"
      },
      "outputs": [
        {
          "name": "stdout",
          "output_type": "stream",
          "text": [
            "1000\n",
            "1000\n",
            "0.7070324088907876\n"
          ]
        }
      ],
      "source": [
        "p1 = grammar_score_predict_logreg.predict(X)\n",
        "print(len(p1))\n",
        "p2 = pd.DataFrame(data_set , columns = ['grammar_score']).squeeze().to_list()\n",
        "print(len(p2))\n",
        "print(cohen_kappa_score(p1,p2,weights='quadratic'))"
      ]
    },
    {
      "cell_type": "markdown",
      "metadata": {
        "id": "3dbxydaEme_S"
      },
      "source": [
        "#### ***Save the Model***"
      ]
    },
    {
      "cell_type": "code",
      "execution_count": null,
      "metadata": {
        "colab": {
          "background_save": true
        },
        "id": "WmAyWbBA86H-",
        "outputId": "7befc4c4-4328-4eec-e4e7-e079a2fa74c6"
      },
      "outputs": [
        {
          "name": "stdout",
          "output_type": "stream",
          "text": [
            "Version Number :  _vF\n"
          ]
        }
      ],
      "source": [
        "print(\"Version Number : \",version)"
      ]
    },
    {
      "cell_type": "code",
      "execution_count": null,
      "metadata": {
        "colab": {
          "background_save": true
        },
        "id": "N9T9pgPu7Xy2",
        "outputId": "5e324762-c903-4b81-e838-bb652cbfc2bc"
      },
      "outputs": [
        {
          "data": {
            "application/vnd.google.colaboratory.intrinsic+json": {
              "type": "string"
            },
            "text/plain": [
              "'/content/drive/MyDrive/Colab Notebooks/AES/Saved Models/AES Models/Grammar_Score_Model/gsm_reg_model_vF.sav'"
            ]
          },
          "execution_count": 57,
          "metadata": {},
          "output_type": "execute_result"
        }
      ],
      "source": [
        "gsm_output_dir+gsm_reg_model_name+\".sav\""
      ]
    },
    {
      "cell_type": "code",
      "execution_count": null,
      "metadata": {
        "colab": {
          "background_save": true
        },
        "id": "pFpjTYrfecAX",
        "outputId": "faf78829-c5be-4873-afaf-7cfe6467c518"
      },
      "outputs": [
        {
          "name": "stdout",
          "output_type": "stream",
          "text": [
            "GRAMMAR LogReg Model save option not selected.\n"
          ]
        }
      ],
      "source": [
        "# grammar_logreg_save_option = 1\n",
        "if grammar_logreg_save_option == 1:\n",
        "  # Save a trained model\n",
        "  logRegModel_save_path = gsm_output_dir+gsm_reg_model_name+\".sav\"\n",
        "  pickle.dump(grammar_score_predict_logreg, open(logRegModel_save_path, 'wb')) \n",
        "  print(\"Saving model to %s\" % logRegModel_save_path)\n",
        "\n",
        "if grammar_logreg_save_option == 0:\n",
        "  print(\"GRAMMAR LogReg Model save option not selected.\")"
      ]
    },
    {
      "cell_type": "markdown",
      "metadata": {
        "id": "jeOG9VIudRe9"
      },
      "source": [
        "### ***Functions of Grammar Score Module***"
      ]
    },
    {
      "cell_type": "code",
      "execution_count": null,
      "metadata": {
        "colab": {
          "background_save": true
        },
        "id": "FNy3L8KBhTl6",
        "outputId": "77e12df5-022e-453f-ea5f-c6dddbf17a32"
      },
      "outputs": [
        {
          "name": "stderr",
          "output_type": "stream",
          "text": [
            "[nltk_data] Downloading package punkt to /root/nltk_data...\n",
            "[nltk_data]   Package punkt is already up-to-date!\n"
          ]
        }
      ],
      "source": [
        "#Import for Grammar\n",
        "from transformers import BertForSequenceClassification\n",
        "from transformers import BertTokenizer\n",
        "import torch\n",
        "import nltk\n",
        "nltk.download('punkt')\n",
        "\n",
        "#Import libraries\n",
        "import pandas as pd\n",
        "\n",
        "from sentence_transformers import SentenceTransformer\n",
        "from sklearn.model_selection import train_test_split"
      ]
    },
    {
      "cell_type": "markdown",
      "metadata": {
        "id": "-3udC9fTBZFN"
      },
      "source": [
        "Load Saved Regression Model"
      ]
    },
    {
      "cell_type": "code",
      "execution_count": null,
      "metadata": {
        "colab": {
          "background_save": true
        },
        "id": "6llb47e2CCKr",
        "outputId": "720d7606-3c06-4fc4-dca4-efbde222a407"
      },
      "outputs": [
        {
          "name": "stdout",
          "output_type": "stream",
          "text": [
            "Succesfully Loaded :  /content/drive/MyDrive/Colab Notebooks/AES/Saved Models/AES Models/Grammar_Score_Model/gsm_reg_model_vF.sav  !\n"
          ]
        }
      ],
      "source": [
        "#Load Saved Logistic Regression Model\n",
        "model = gsm_output_dir+gsm_reg_model_name+\".sav\"\n",
        "grammar_score_logreg_model = pickle.load(open(model, 'rb'))\n",
        "if grammar_score_logreg_model:\n",
        "  print(\"Succesfully Loaded : \",model,\" !\")\n",
        "else:\n",
        "  print(\"Model Load Failed!\")"
      ]
    },
    {
      "cell_type": "markdown",
      "metadata": {
        "id": "uVasi-uoWmG7"
      },
      "source": [
        "Important Funnctions for Grammar feature generation and scoring"
      ]
    },
    {
      "cell_type": "code",
      "execution_count": null,
      "metadata": {
        "colab": {
          "background_save": true
        },
        "id": "SNbFMFTlHNBR",
        "outputId": "9dfe8948-5c55-43a6-9b80-e87f0edbff6f"
      },
      "outputs": [
        {
          "name": "stdout",
          "output_type": "stream",
          "text": [
            "Saved Model Path : /content/drive/MyDrive/Colab Notebooks/AES/Saved Models/AES Models/Grammar_Score_Model/\n"
          ]
        }
      ],
      "source": [
        "#Initiate saved models\n",
        "print(\"Saved Model Path : \"+gsm_output_dir)\n",
        "tokenizer = BertTokenizer.from_pretrained(gsm_output_dir)\n",
        "model_loaded = BertForSequenceClassification.from_pretrained(gsm_output_dir)\n",
        "\n",
        "#Function to check individual sentence if grammatically correct or not using our GCM.\n",
        "def check_grammar(s,tokenizer = tokenizer , model_loaded = model_loaded):\n",
        "  \n",
        "  result = 0\n",
        "  sent = s\n",
        "  encoded_dict = tokenizer.encode_plus(\n",
        "                          sent,                      # Sentence to encode.\n",
        "                          add_special_tokens = True, # Add '[CLS]' and '[SEP]'\n",
        "                          max_length = 64,           # Pad & truncate all sentences.\n",
        "                          #pad_to_max_length = True,\n",
        "                          padding = 'max_length',\n",
        "                          return_attention_mask = True,   # Construct attn. masks.\n",
        "                          return_tensors = 'pt',     # Return pytorch tensors.\n",
        "                    )\n",
        "      \n",
        "      # Add the encoded sentence to the list.    \n",
        "  input_id = encoded_dict['input_ids']\n",
        "      \n",
        "      # And its attention mask (simply differentiates padding from non-padding).\n",
        "  attention_mask = encoded_dict['attention_mask']\n",
        "  input_id = torch.LongTensor(input_id)\n",
        "  attention_mask = torch.LongTensor(attention_mask)\n",
        "\n",
        "  device = torch.device(\"cuda\" if torch.cuda.is_available() else \"cpu\")\n",
        "  model_loaded = model_loaded.to(device)\n",
        "  input_id = input_id.to(device)\n",
        "  attention_mask = attention_mask.to(device)\n",
        "\n",
        "  with torch.no_grad():\n",
        "    # Forward pass, calculate logit predictions\n",
        "    outputs = model_loaded(input_id, token_type_ids=None, attention_mask=attention_mask)\n",
        "\n",
        "  logits = outputs[0]\n",
        "  index = logits.argmax()\n",
        "  if index == 1:\n",
        "    #Correct Grammar\n",
        "    result = 0 \n",
        "  else:\n",
        "    #Incorrect Grammar\n",
        "    result = 1 \n",
        "  return result"
      ]
    },
    {
      "cell_type": "code",
      "execution_count": null,
      "metadata": {
        "colab": {
          "background_save": true
        },
        "id": "tALnloLi26KP"
      },
      "outputs": [],
      "source": [
        "#Sentence Level Analysis\n",
        "#import re\n",
        "\n",
        "#Clean essay by removing '@'\n",
        "def clean_essay(essay):\n",
        "  result = re.sub(r' @',' ',essay)\n",
        "  return result\n",
        "\n",
        "#Function to return Total Sentence count using regular expression\n",
        "def sentence_count(para):\n",
        "  total_sentence = len(para_to_sent_using_re(para))\n",
        "  return total_sentence\n",
        "\n",
        "#Split essay into sentence using \".\"\n",
        "def basic_para_to_sent(essay):\n",
        "  return essay.split(\".\")\n",
        "\n",
        "#Function to split sentences using regular expression\n",
        "def para_to_sent_using_re(essay):\n",
        "  m = re.split(r'([\\s][.?!]+)|([.?!]+[\\s])', essay)\n",
        "  m = [str(i) for i in m if i!=None ]\n",
        "  p1 = m[0::2]\n",
        "  p2 = m[1::2]\n",
        "  if len(p1) != len(p2):\n",
        "    mins = min(len(p1) , len(p2))\n",
        "    maxs = max(len(p1) , len(p2))\n",
        "    diff = maxs-mins\n",
        "    if len(p1)>len(p2):\n",
        "      p2 = p2 + [\" \"*diff]\n",
        "    else:\n",
        "      p1 = p1 + [\" \"*diff]\n",
        "  m = [a+b for a,b in zip(p1,p2)]\n",
        "  return m\n",
        "\n",
        "#Function to return total grammatically wrong sentences from total sentences\n",
        "def grammar_details(para,p1 = 0):\n",
        "  sentence_list = para_to_sent_using_re(para)\n",
        "  grammar_error_count = 0\n",
        "  for s in sentence_list:\n",
        "    error_status = check_grammar(s)\n",
        "    if error_status == 1 and p1 == 1:\n",
        "      print(s)\n",
        "    grammar_error_count += error_status\n",
        "  return grammar_error_count"
      ]
    },
    {
      "cell_type": "markdown",
      "metadata": {
        "id": "oRajVagS9dYF"
      },
      "source": [
        "New Funtions"
      ]
    },
    {
      "cell_type": "code",
      "execution_count": null,
      "metadata": {
        "colab": {
          "background_save": true
        },
        "id": "4dXm4pSi9Kxv"
      },
      "outputs": [],
      "source": [
        "import spacy\n",
        "nlp = spacy.load('en_core_web_sm')\n",
        "\n",
        "#Remove special Symbols from essay\n",
        "def clean_essay(essay):\n",
        "  result = re.sub(r' @',' ',essay)\n",
        "  return result\n",
        "\n",
        "#Function to seperate sentences\n",
        "def essay_to_sentences(essay , sentence_list_flag = 1 , sentence_count_flag = 0):\n",
        "  essay = clean_essay(essay)\n",
        "  doc = nlp(essay)\n",
        "  result = []\n",
        "  for d in doc.sents:\n",
        "    result.append(str(d))\n",
        "  if sentence_list_flag == 1:\n",
        "    return result\n",
        "  if sentence_count_flag == 1:\n",
        "    return len(result)\n",
        "\n",
        "# find the root token of the sentence, which is usually the main verb. In instances where there is a dependent clause, it is the verb of the independent clause\n",
        "def find_root_of_sentence(doc):\n",
        "    root_token = None\n",
        "    for token in doc:\n",
        "        if (token.dep_ == \"ROOT\"):\n",
        "            root_token = token\n",
        "    return root_token\n",
        "\n",
        "#Function to find the other verbs in the sentence\n",
        "def find_other_verbs(doc, root_token):\n",
        "    other_verbs = []\n",
        "    for token in doc:\n",
        "        ancestors = list(token.ancestors)\n",
        "        if (token.pos_ == \"VERB\" and len(ancestors) == 1\\\n",
        "            and ancestors[0] == root_token):\n",
        "            other_verbs.append(token)\n",
        "    return other_verbs\n",
        "\n",
        "\n",
        "#Function to find the token spans for each verb\n",
        "def get_clause_token_span_for_verb(verb, doc, all_verbs):\n",
        "    first_token_index = len(doc)\n",
        "    last_token_index = 0\n",
        "    this_verb_children = list(verb.children)\n",
        "    for child in this_verb_children:\n",
        "        if (child not in all_verbs):\n",
        "            if (child.i < first_token_index):\n",
        "                first_token_index = child.i\n",
        "            if (child.i > last_token_index):\n",
        "                last_token_index = child.i\n",
        "    return(first_token_index, last_token_index)\n",
        "\n",
        "#Function to split individual sentences into clauses\n",
        "def sentence_to_clauses(sentence , clause_list_flag = 1 , clause_count_flag = 0):\n",
        "  doc = nlp(sentence)\n",
        "  for token in doc:\n",
        "      ancestors = [t.text for t in token.ancestors]\n",
        "      children = [t.text for t in token.children]\n",
        "      #print(token.text, \"\\t\", token.i, \"\\t\", token.pos_, \"\\t\", token.dep_, \"\\t\", ancestors, \"\\t\", children)\n",
        "  root_token = find_root_of_sentence(doc)\n",
        "  other_verbs = find_other_verbs(doc, root_token)\n",
        "\n",
        "  token_spans = []   \n",
        "  all_verbs = [root_token] + other_verbs\n",
        "  for other_verb in all_verbs:\n",
        "      (first_token_index, last_token_index) = \\\n",
        "      get_clause_token_span_for_verb(other_verb, \n",
        "                                      doc, all_verbs)\n",
        "      token_spans.append((first_token_index, \n",
        "                          last_token_index))\n",
        "      \n",
        "  sentence_clauses = []\n",
        "  for token_span in token_spans:\n",
        "      start = token_span[0]\n",
        "      end = token_span[1]\n",
        "      if (start < end):\n",
        "          clause = doc[start:end]\n",
        "          sentence_clauses.append(clause)\n",
        "  sentence_clauses = sorted(sentence_clauses, \n",
        "                            key=lambda tup: tup[0])\n",
        "\n",
        "  result = [clause.text for clause in sentence_clauses]\n",
        "  if clause_list_flag == 1:\n",
        "    return result\n",
        "  if clause_count_flag == 1:\n",
        "    return len(result)\n",
        "  \n",
        "#Function to get clauses list from essay\n",
        "def essay_to_clauses(essay, clause_list_flag = 1 , clause_count_flag = 0):\n",
        "  essay = clean_essay(essay)\n",
        "  result = []\n",
        "  sentence_list = essay_to_sentences(essay)\n",
        "  for sent in sentence_list:\n",
        "    result = result+sentence_to_clauses(sent)\n",
        "  if clause_list_flag == 1:\n",
        "    return result\n",
        "  if clause_count_flag == 1:\n",
        "    return len(result)\n",
        "\n",
        "#Function to seperate words\n",
        "def essay_to_words(essay, word_list_flag = 1 , word_count_flag=0):\n",
        "  essay = clean_essay(essay)\n",
        "  doc = nlp(essay)\n",
        "  result = []\n",
        "  for word in doc:\n",
        "    if str(word.text).isalpha():\n",
        "      result.append(str(word.text))\n",
        "  if word_list_flag == 1:\n",
        "    return result\n",
        "  if word_count_flag == 1:\n",
        "    return len(result)\n",
        "\n",
        "#Function to return total grammatically wrong sentences\n",
        "def grammar_details_sentences(para,p1 = 0):\n",
        "  sentence_list = essay_to_sentences(para,1,0)\n",
        "  grammar_error_count = 0\n",
        "  for s in sentence_list:\n",
        "    error_status = check_grammar(s)\n",
        "    if error_status == 1 and p1 == 1:\n",
        "      print(s)\n",
        "    grammar_error_count += error_status\n",
        "  return grammar_error_count\n",
        "\n",
        "#Function to return total grammatically wrong clauses\n",
        "def grammar_details_clauses( essay,p1 = 0 ):\n",
        "  clause_list = essay_to_clauses(essay)\n",
        "  grammar_error_count = 0\n",
        "  for s in clause_list:\n",
        "    error_status = check_grammar(s)\n",
        "    if error_status == 1 and p1 == 1:\n",
        "      print(s)\n",
        "    grammar_error_count += error_status\n",
        "  return grammar_error_count\n",
        "\n",
        "#Get wrong spelling word count\n",
        "from textblob import TextBlob\n",
        "\n",
        "#Function to get count of spelling mistakes\n",
        "def spelling_mistake_count(para):\n",
        "  results = 0\n",
        "  tok = essay_to_words(para,1,0)\n",
        "  for t in tok:\n",
        "    if t != TextBlob(t).correct():\n",
        "      results = results + 1\n",
        "  return results\n",
        "\n",
        "import jamspell\n",
        "jsp = jamspell.TSpellCorrector()\n",
        "assert jsp.LoadLangModel('/content/drive/MyDrive/Colab Notebooks/AES/Saved Models/Language Models/en.bin')\n",
        "\n",
        "#Attempting to Fix Spelling Mistake\n",
        "def fix_spelling_in_essay(essay, option = 1):\n",
        "  \n",
        "  #Method 3\n",
        "  corrected_para = \"\"\n",
        "  if option == 1:\n",
        "    s_list = essay_to_sentences(essay,1,0)\n",
        "  if option == 2:\n",
        "    s_list = para_to_sent_using_re(essay)\n",
        "  for s in s_list:\n",
        "    corrected_para = corrected_para + jsp.FixFragment(s)\n",
        "\n",
        "  return corrected_para\n",
        "\n",
        "#More feature generation\n",
        "def words_per_sentence(para):\n",
        "  return essay_to_words(para,0,1)/essay_to_sentences(para,0,1)\n",
        "\n",
        "def words_per_clause(para):\n",
        "  return essay_to_words(para,0,1)/essay_to_clauses(para,0,1)"
      ]
    },
    {
      "cell_type": "code",
      "execution_count": null,
      "metadata": {
        "colab": {
          "background_save": true
        },
        "id": "2JXdb5Rm-wY-"
      },
      "outputs": [],
      "source": [
        "#Funtion to generate features from essays\n",
        "def generate_grammar_score_features(essay,print_index = 0):\n",
        "\n",
        "  data_set = pd.DataFrame([{'essay':essay}])\n",
        "  \n",
        "  #Predict Structure Score\n",
        "  data_set['structure_score'] = data_set['essay'].apply(lambda x : int(demo_essay_structure_score(str(x))))\n",
        "  \n",
        "  #Generating sentence features\n",
        "\n",
        "  #Total Sentence count, per essay\n",
        "  data_set['total sentences'] = data_set['essay'].apply(lambda x : int(sentence_count(str(x))))\n",
        "\n",
        "  #Total grammatically wrong sentences, per essay\n",
        "  #data_set['Total Grammar errors'] = data_set['essay'].apply(lambda x : int(grammar_details(str(x))))\n",
        "  data_set['total grammar errors'] = data_set['essay'].apply(lambda x : int(grammar_details(str(x))))\n",
        "\n",
        "  #Ratio of grammatically wrong sentences to total sentences, per essay\n",
        "  data_set['grammar ratio'] = data_set['total grammar errors']/data_set['total sentences']\n",
        "\n",
        "  #Totall Grammatically Wrong Sentence after fixing spelling mistakes\n",
        "  data_set['total grammar errors after spelling fix'] = data_set['essay'].apply(lambda x : int(grammar_details(fix_spelling_in_essay(x,2))))\n",
        "\n",
        "  #Generating Clause features\n",
        "  \n",
        "  #Total Clause count, per essay\n",
        "  data_set['total clauses'] = data_set['essay'].apply(lambda x : int(essay_to_clauses(str(x),0,1)))\n",
        "\n",
        "  #Total grammatically wrong phrases, per essay\n",
        "  data_set['total clause grammar errors'] = data_set['essay'].apply(lambda x : int(grammar_details_clauses(str(x))))\n",
        "\n",
        "  #Totall Grammatically Wrong Clauses after fixing spelling mistakes\n",
        "  data_set['total clause grammar errors after spelling fix'] = data_set['essay'].apply(lambda x : int(grammar_details_clauses(fix_spelling_in_essay(x))))\n",
        "\n",
        "  #Ratio of grammatically wrong phrases to total phrases, per essay\n",
        "  data_set['clause grammar_ratio'] = data_set['total clause grammar errors']/data_set['total clauses']\n",
        "\n",
        "  #Generating Word features\n",
        "\n",
        "  #Total word count, per essay\n",
        "  data_set[\"total word count\"] = data_set['essay'].apply(lambda x : essay_to_words(x,0,1))\n",
        "\n",
        "  #Total wrongly spelled word count, per essay\n",
        "  data_set[\"wrong word count\"] = data_set['essay'].apply(lambda x : spelling_mistake_count(x))\n",
        "\n",
        "  #Ratio of wrongly spelled word to total word count , per essay\n",
        "  data_set['spelling ratio'] = data_set[\"wrong word count\"]/data_set[\"total word count\"]\n",
        "\n",
        "  #Ratio of words per sentence\n",
        "  data_set['words per sentence'] = data_set['essay'].apply(lambda x : int(words_per_sentence(str(x))))\n",
        "\n",
        "  #Ratio of words per clasue\n",
        "  data_set['words per clause'] = data_set['essay'].apply(lambda x : int(words_per_clause(str(x))))\n",
        "\n",
        "  if print_index == 1:\n",
        "    print(\"gs:\",data_set.index)\n",
        "  return data_set"
      ]
    },
    {
      "cell_type": "code",
      "execution_count": null,
      "metadata": {
        "colab": {
          "background_save": true
        },
        "id": "BA12MvoaN_PI",
        "outputId": "a0034d6d-beba-4608-f42e-dbdf6044f3aa"
      },
      "outputs": [
        {
          "name": "stdout",
          "output_type": "stream",
          "text": [
            "ESSAY :\n",
            "Patience is when your waiting .I was patience when in line waiting for lunch .I didn’t c ut any one to eat .I was standing and waiting for my turn .Patience ,some people don’t have it .Lots of people just cut or yell at you because they don’t have any patience. Sometimes people will push you out of their way .They only do that because they don’t have patience at all. Patience is what people need .People need patience because lots o f feelings get hurt .Everyone should have patience.\n"
          ]
        }
      ],
      "source": [
        "essay = \"\"\"Patience is when your waiting .I was patience when in line waiting for lunch .I didn’t c ut any one to eat .I was standing and waiting for my turn .Patience ,some people don’t have it .Lots of people just cut or yell at you because they don’t have any patience. Sometimes people will push you out of their way .They only do that because they don’t have patience at all. Patience is what people need .People need patience because lots o f feelings get hurt .Everyone should have patience.\"\"\"\n",
        "print(\"ESSAY :\\n\"+essay)"
      ]
    },
    {
      "cell_type": "code",
      "execution_count": null,
      "metadata": {
        "colab": {
          "background_save": true
        },
        "id": "IjpZiTxtQb5M",
        "outputId": "291e829f-7059-4bb5-fd07-fbaba79cb330"
      },
      "outputs": [
        {
          "name": "stdout",
          "output_type": "stream",
          "text": [
            "1/1 [==============================] - 0s 22ms/step\n",
            "<class 'pandas.core.frame.DataFrame'>\n",
            "RangeIndex: 1 entries, 0 to 0\n",
            "Data columns (total 15 columns):\n",
            " #   Column                                          Non-Null Count  Dtype  \n",
            "---  ------                                          --------------  -----  \n",
            " 0   essay                                           1 non-null      object \n",
            " 1   structure_score                                 1 non-null      int64  \n",
            " 2   total sentences                                 1 non-null      int64  \n",
            " 3   total grammar errors                            1 non-null      int64  \n",
            " 4   grammar ratio                                   1 non-null      float64\n",
            " 5   total grammar errors after spelling fix         1 non-null      int64  \n",
            " 6   total clauses                                   1 non-null      int64  \n",
            " 7   total clause grammar errors                     1 non-null      int64  \n",
            " 8   total clause grammar errors after spelling fix  1 non-null      int64  \n",
            " 9   clause grammar_ratio                            1 non-null      float64\n",
            " 10  total word count                                1 non-null      int64  \n",
            " 11  wrong word count                                1 non-null      int64  \n",
            " 12  spelling ratio                                  1 non-null      float64\n",
            " 13  words per sentence                              1 non-null      int64  \n",
            " 14  words per clause                                1 non-null      int64  \n",
            "dtypes: float64(3), int64(11), object(1)\n",
            "memory usage: 248.0+ bytes\n"
          ]
        }
      ],
      "source": [
        "generate_grammar_score_features(essay).info()"
      ]
    },
    {
      "cell_type": "code",
      "execution_count": null,
      "metadata": {
        "colab": {
          "background_save": true
        },
        "id": "IdlZ69udt8tU"
      },
      "outputs": [],
      "source": [
        "#Final Function to return grammar score for essay\n",
        "def essay_grammar_score(essay, print_index = 0):\n",
        "  record = generate_grammar_score_features(essay).iloc[:,[1,2,3,4,5,6,7,8,9]]\n",
        "  score = score_range(grammar_score_logreg_model.predict(record)[0])\n",
        "  if print_index == 1:\n",
        "    print(\"gs:\",data_set.index)\n",
        "  return score"
      ]
    },
    {
      "cell_type": "code",
      "execution_count": null,
      "metadata": {
        "colab": {
          "background_save": true
        },
        "id": "BTt4JfLzuTuK",
        "outputId": "2909dea2-d585-48f3-a9d1-28473131e913"
      },
      "outputs": [
        {
          "name": "stdout",
          "output_type": "stream",
          "text": [
            "GRAMMAR ANALYSIS\n",
            "\n",
            "1/1 [==============================] - 0s 18ms/step\n",
            "Grammar Score is : 8\n"
          ]
        }
      ],
      "source": [
        "essay = \"\"\"I going to write about a time when I went to the @ORGANIZATION1 fair, we had fun, we saw a ride we wanted to get on, so we got in line. Suddenly, we noticed that we were at the end of the line. So my mother said.\" @CAPS1 get on another ride then\". We already tried the other rides,\" my father said. So we stayed at the end of the line until it was our turn, and said that was the last ride, soon there were people behind us complaining, their younger children was getting mad, and parents was hollering. We just stood there, and kept being patient. That didn't desterb us. since we were raised to be patient, and wait our turn at things. I feel being patient is very important, because if you act up in line, you might make people think they're holding you up, but it's the line moving slow. Advice: when you are waiting at the end of the line, don't shout, scream, holler, or yell at anyone, it only creates trouble. Just don't think about all of the people ahead of you, talk to someone, just take your mind off of it for a while, then you'll notice, the line is moving quicker than you expected. P.S. We enjoyed the ride.\n",
        "\"\"\"\n",
        "print(\"GRAMMAR ANALYSIS\\n\")\n",
        "\n",
        "print(\"Grammar Score is : \"+ str(essay_grammar_score(clean_essay(essay))))"
      ]
    },
    {
      "cell_type": "code",
      "execution_count": null,
      "metadata": {
        "colab": {
          "background_save": true
        },
        "id": "BNP-mU7WsJ6o"
      },
      "outputs": [],
      "source": [
        "#print(grammar_score_logreg_model.predict(record.drop(['essay'],axis=1))[0])"
      ]
    },
    {
      "cell_type": "markdown",
      "metadata": {
        "id": "dKZVIMWRM3j6"
      },
      "source": [
        "# **Show Result**"
      ]
    },
    {
      "cell_type": "code",
      "execution_count": null,
      "metadata": {
        "colab": {
          "background_save": true
        },
        "id": "tKI0V--woaRR",
        "outputId": "1b5b2ded-77b4-4d04-b045-ad9a18c8f12c"
      },
      "outputs": [
        {
          "data": {
            "text/html": [
              "\n",
              "  <div id=\"df-c312359e-7759-49b4-b82e-af8bf7be9323\">\n",
              "    <div class=\"colab-df-container\">\n",
              "      <div>\n",
              "<style scoped>\n",
              "    .dataframe tbody tr th:only-of-type {\n",
              "        vertical-align: middle;\n",
              "    }\n",
              "\n",
              "    .dataframe tbody tr th {\n",
              "        vertical-align: top;\n",
              "    }\n",
              "\n",
              "    .dataframe thead th {\n",
              "        text-align: right;\n",
              "    }\n",
              "</style>\n",
              "<table border=\"1\" class=\"dataframe\">\n",
              "  <thead>\n",
              "    <tr style=\"text-align: right;\">\n",
              "      <th></th>\n",
              "      <th>essay_id</th>\n",
              "      <th>essay_set</th>\n",
              "      <th>essay</th>\n",
              "      <th>structure_score</th>\n",
              "      <th>grammar_score</th>\n",
              "    </tr>\n",
              "  </thead>\n",
              "  <tbody>\n",
              "    <tr>\n",
              "      <th>0</th>\n",
              "      <td>18942</td>\n",
              "      <td>7</td>\n",
              "      <td>One time when I had a lot of paitenits is when...</td>\n",
              "      <td>7</td>\n",
              "      <td>10</td>\n",
              "    </tr>\n",
              "    <tr>\n",
              "      <th>1</th>\n",
              "      <td>18943</td>\n",
              "      <td>7</td>\n",
              "      <td>It was cold fall afternoon. Meant my grandpa w...</td>\n",
              "      <td>10</td>\n",
              "      <td>10</td>\n",
              "    </tr>\n",
              "    <tr>\n",
              "      <th>2</th>\n",
              "      <td>18944</td>\n",
              "      <td>7</td>\n",
              "      <td>One time I was patient. I don’t want a birthda...</td>\n",
              "      <td>5</td>\n",
              "      <td>5</td>\n",
              "    </tr>\n",
              "    <tr>\n",
              "      <th>3</th>\n",
              "      <td>18945</td>\n",
              "      <td>7</td>\n",
              "      <td>“Patience is a virtue.” I hear that saying ove...</td>\n",
              "      <td>10</td>\n",
              "      <td>10</td>\n",
              "    </tr>\n",
              "    <tr>\n",
              "      <th>4</th>\n",
              "      <td>18946</td>\n",
              "      <td>7</td>\n",
              "      <td>I wondered who would win. I just hoped I would...</td>\n",
              "      <td>10</td>\n",
              "      <td>10</td>\n",
              "    </tr>\n",
              "    <tr>\n",
              "      <th>...</th>\n",
              "      <td>...</td>\n",
              "      <td>...</td>\n",
              "      <td>...</td>\n",
              "      <td>...</td>\n",
              "      <td>...</td>\n",
              "    </tr>\n",
              "    <tr>\n",
              "      <th>563</th>\n",
              "      <td>19558</td>\n",
              "      <td>7</td>\n",
              "      <td>One time I was getting a cool @CAPS1 game it w...</td>\n",
              "      <td>5</td>\n",
              "      <td>3</td>\n",
              "    </tr>\n",
              "    <tr>\n",
              "      <th>564</th>\n",
              "      <td>19559</td>\n",
              "      <td>7</td>\n",
              "      <td>A patent person in my life is my mom. Aicason ...</td>\n",
              "      <td>5</td>\n",
              "      <td>10</td>\n",
              "    </tr>\n",
              "    <tr>\n",
              "      <th>565</th>\n",
              "      <td>19561</td>\n",
              "      <td>7</td>\n",
              "      <td>A time when someone else I know was patient wa...</td>\n",
              "      <td>7</td>\n",
              "      <td>8</td>\n",
              "    </tr>\n",
              "    <tr>\n",
              "      <th>566</th>\n",
              "      <td>19562</td>\n",
              "      <td>7</td>\n",
              "      <td>I hate weddings. I love when people get marrie...</td>\n",
              "      <td>8</td>\n",
              "      <td>10</td>\n",
              "    </tr>\n",
              "    <tr>\n",
              "      <th>567</th>\n",
              "      <td>19563</td>\n",
              "      <td>7</td>\n",
              "      <td>A few weeks ago, we had a garage sale and a mo...</td>\n",
              "      <td>6</td>\n",
              "      <td>6</td>\n",
              "    </tr>\n",
              "  </tbody>\n",
              "</table>\n",
              "<p>568 rows × 5 columns</p>\n",
              "</div>\n",
              "      <button class=\"colab-df-convert\" onclick=\"convertToInteractive('df-c312359e-7759-49b4-b82e-af8bf7be9323')\"\n",
              "              title=\"Convert this dataframe to an interactive table.\"\n",
              "              style=\"display:none;\">\n",
              "        \n",
              "  <svg xmlns=\"http://www.w3.org/2000/svg\" height=\"24px\"viewBox=\"0 0 24 24\"\n",
              "       width=\"24px\">\n",
              "    <path d=\"M0 0h24v24H0V0z\" fill=\"none\"/>\n",
              "    <path d=\"M18.56 5.44l.94 2.06.94-2.06 2.06-.94-2.06-.94-.94-2.06-.94 2.06-2.06.94zm-11 1L8.5 8.5l.94-2.06 2.06-.94-2.06-.94L8.5 2.5l-.94 2.06-2.06.94zm10 10l.94 2.06.94-2.06 2.06-.94-2.06-.94-.94-2.06-.94 2.06-2.06.94z\"/><path d=\"M17.41 7.96l-1.37-1.37c-.4-.4-.92-.59-1.43-.59-.52 0-1.04.2-1.43.59L10.3 9.45l-7.72 7.72c-.78.78-.78 2.05 0 2.83L4 21.41c.39.39.9.59 1.41.59.51 0 1.02-.2 1.41-.59l7.78-7.78 2.81-2.81c.8-.78.8-2.07 0-2.86zM5.41 20L4 18.59l7.72-7.72 1.47 1.35L5.41 20z\"/>\n",
              "  </svg>\n",
              "      </button>\n",
              "      \n",
              "  <style>\n",
              "    .colab-df-container {\n",
              "      display:flex;\n",
              "      flex-wrap:wrap;\n",
              "      gap: 12px;\n",
              "    }\n",
              "\n",
              "    .colab-df-convert {\n",
              "      background-color: #E8F0FE;\n",
              "      border: none;\n",
              "      border-radius: 50%;\n",
              "      cursor: pointer;\n",
              "      display: none;\n",
              "      fill: #1967D2;\n",
              "      height: 32px;\n",
              "      padding: 0 0 0 0;\n",
              "      width: 32px;\n",
              "    }\n",
              "\n",
              "    .colab-df-convert:hover {\n",
              "      background-color: #E2EBFA;\n",
              "      box-shadow: 0px 1px 2px rgba(60, 64, 67, 0.3), 0px 1px 3px 1px rgba(60, 64, 67, 0.15);\n",
              "      fill: #174EA6;\n",
              "    }\n",
              "\n",
              "    [theme=dark] .colab-df-convert {\n",
              "      background-color: #3B4455;\n",
              "      fill: #D2E3FC;\n",
              "    }\n",
              "\n",
              "    [theme=dark] .colab-df-convert:hover {\n",
              "      background-color: #434B5C;\n",
              "      box-shadow: 0px 1px 3px 1px rgba(0, 0, 0, 0.15);\n",
              "      filter: drop-shadow(0px 1px 2px rgba(0, 0, 0, 0.3));\n",
              "      fill: #FFFFFF;\n",
              "    }\n",
              "  </style>\n",
              "\n",
              "      <script>\n",
              "        const buttonEl =\n",
              "          document.querySelector('#df-c312359e-7759-49b4-b82e-af8bf7be9323 button.colab-df-convert');\n",
              "        buttonEl.style.display =\n",
              "          google.colab.kernel.accessAllowed ? 'block' : 'none';\n",
              "\n",
              "        async function convertToInteractive(key) {\n",
              "          const element = document.querySelector('#df-c312359e-7759-49b4-b82e-af8bf7be9323');\n",
              "          const dataTable =\n",
              "            await google.colab.kernel.invokeFunction('convertToInteractive',\n",
              "                                                     [key], {});\n",
              "          if (!dataTable) return;\n",
              "\n",
              "          const docLinkHtml = 'Like what you see? Visit the ' +\n",
              "            '<a target=\"_blank\" href=https://colab.research.google.com/notebooks/data_table.ipynb>data table notebook</a>'\n",
              "            + ' to learn more about interactive tables.';\n",
              "          element.innerHTML = '';\n",
              "          dataTable['output_type'] = 'display_data';\n",
              "          await google.colab.output.renderOutput(dataTable, element);\n",
              "          const docLink = document.createElement('div');\n",
              "          docLink.innerHTML = docLinkHtml;\n",
              "          element.appendChild(docLink);\n",
              "        }\n",
              "      </script>\n",
              "    </div>\n",
              "  </div>\n",
              "  "
            ],
            "text/plain": [
              "     essay_id  essay_set                                              essay  \\\n",
              "0       18942          7  One time when I had a lot of paitenits is when...   \n",
              "1       18943          7  It was cold fall afternoon. Meant my grandpa w...   \n",
              "2       18944          7  One time I was patient. I don’t want a birthda...   \n",
              "3       18945          7  “Patience is a virtue.” I hear that saying ove...   \n",
              "4       18946          7  I wondered who would win. I just hoped I would...   \n",
              "..        ...        ...                                                ...   \n",
              "563     19558          7  One time I was getting a cool @CAPS1 game it w...   \n",
              "564     19559          7  A patent person in my life is my mom. Aicason ...   \n",
              "565     19561          7  A time when someone else I know was patient wa...   \n",
              "566     19562          7  I hate weddings. I love when people get marrie...   \n",
              "567     19563          7  A few weeks ago, we had a garage sale and a mo...   \n",
              "\n",
              "     structure_score  grammar_score  \n",
              "0                  7             10  \n",
              "1                 10             10  \n",
              "2                  5              5  \n",
              "3                 10             10  \n",
              "4                 10             10  \n",
              "..               ...            ...  \n",
              "563                5              3  \n",
              "564                5             10  \n",
              "565                7              8  \n",
              "566                8             10  \n",
              "567                6              6  \n",
              "\n",
              "[568 rows x 5 columns]"
            ]
          },
          "execution_count": 70,
          "metadata": {},
          "output_type": "execute_result"
        }
      ],
      "source": [
        "#For testing Purpose\n",
        "analysis_set = pd.read_csv(data_set_path+'/ASAP_AES/asap_aes_set_7_analysis_dataset.csv')\n",
        "analysis_set = analysis_set.head(568)\n",
        "analysis_set"
      ]
    },
    {
      "cell_type": "code",
      "execution_count": null,
      "metadata": {
        "colab": {
          "background_save": true
        },
        "id": "6Legf3iZN031"
      },
      "outputs": [],
      "source": [
        "# analysis_set = analysis_set.head(50)\n",
        "# analysis_set"
      ]
    },
    {
      "cell_type": "code",
      "execution_count": null,
      "metadata": {
        "id": "_HOFCtPPvNGq"
      },
      "outputs": [],
      "source": [
        "print_banner(\"WORKING ON ANALYSIS SET\")\n",
        "\n",
        "#Remove @ from essay's words.\n",
        "print(\"Cleaning Data...\")\n",
        "analysis_set['essay'] = analysis_set['essay'].apply(lambda x : clean_essay(str(x)))\n",
        "print_dashline()\n",
        "\n",
        "#Predict Structure Score for each essay\n",
        "print(\"Predicting Structure Score...\")\n",
        "analysis_set['predicted_structure_score'] = analysis_set['essay'].apply(lambda x : int(demo_essay_structure_score(str(x))))\n",
        "print_dashline()\n",
        "\n",
        "#Predict Grammar Score for each essay\n",
        "print(\"Predicting Grammar Score...\")\n",
        "analysis_set['predicted_grammar_score'] = analysis_set['essay'].apply(lambda x : int(essay_grammar_score(str(x))))\n",
        "print_dashline()"
      ]
    },
    {
      "cell_type": "code",
      "execution_count": null,
      "metadata": {
        "id": "lAb3QfMSynC6"
      },
      "outputs": [],
      "source": [
        "# analysis_set.info()"
      ]
    },
    {
      "cell_type": "code",
      "execution_count": null,
      "metadata": {
        "id": "MvZeDa-_uJJ8"
      },
      "outputs": [],
      "source": [
        "#Rearrange scores\n",
        "analysis_set = analysis_set.loc[:, [\"essay_id\",\"essay_set\",\"essay\",\"structure_score\",\"predicted_structure_score\",\"grammar_score\",\"predicted_grammar_score\"]]"
      ]
    },
    {
      "cell_type": "code",
      "execution_count": null,
      "metadata": {
        "id": "3EyNgEnKhq4d"
      },
      "outputs": [],
      "source": [
        "#Calculate Golden Total Score\n",
        "analysis_set[\"golden_total_score\"] = analysis_set[\"structure_score\"]+analysis_set[\"grammar_score\"]\n",
        "#print(analysis_set[\"golden_total_score\"].isnull().sum())\n",
        "\n",
        "#Calculate Prdeicted Total Score\n",
        "analysis_set[\"predicted_total_score\"] = analysis_set[\"predicted_structure_score\"]+analysis_set[\"predicted_grammar_score\"]\n",
        "\n",
        "#Calculate Score difference\n",
        "analysis_set[\"ss_diff\"] = abs(analysis_set[\"structure_score\"]-analysis_set[\"predicted_structure_score\"])\n",
        "analysis_set[\"gs_diff\"] = abs(analysis_set[\"grammar_score\"]-analysis_set[\"predicted_grammar_score\"])\n",
        "analysis_set[\"ts_diff\"] = abs(analysis_set[\"golden_total_score\"]-analysis_set[\"predicted_total_score\"])\n",
        "\n",
        "analysis_set"
      ]
    },
    {
      "cell_type": "markdown",
      "metadata": {
        "id": "KMl_QSNlUrPt"
      },
      "source": [
        "##Important Functions for Analysis"
      ]
    },
    {
      "cell_type": "code",
      "execution_count": null,
      "metadata": {
        "id": "6HGgn-i8TftT"
      },
      "outputs": [],
      "source": [
        "#Function to line plot\n",
        "def line_plot_figure(p1 , p2 , p1_name , p2_name ,linewidth=4):\n",
        "  t = p1_name+\" Vs \"+p2_name\n",
        "\n",
        "  sns.set(rc = {'figure.figsize':(50,8),'axes.facecolor':'white'})\n",
        "  ax = sns.lineplot(data=p1,color=\"orange\",linewidth = linewidth)\n",
        "  ax = sns.lineplot(data=p2,color=\"blue\",linewidth = linewidth)\n",
        "  #ax.set(xlim=(0,300),ylim=(0,20))\n",
        "\n",
        "  # plt.legend(title = t,labels=[p1_name , p2_name], title_fontsize='30')\n",
        "  #plt.rcParams['figure.figsize']=()\n",
        "  print(t)\n",
        "  plt.show()\n",
        "\n",
        "#Function to BarGraph Graph\n",
        "def bar_graph_figure(p1 , p1_name):\n",
        "  print(p1_name)\n",
        "  \n",
        "  sns.set(rc = {'figure.figsize':(10,7),'axes.facecolor':'white'})\n",
        "  ax = sns.histplot(p1 , legend=True , binwidth=1)\n",
        "  # ax = sns.countplot(p1 , legend=True ,dodge=False)\n",
        "  ax.set_xlim(0, 10)\n",
        "  \n",
        "  for p in ax.patches:\n",
        "    ax.annotate(str(p.get_height()), (p.get_x() * 1.005, p.get_height() * 1.005))\n",
        "  plt.rcParams['xtick.top'] = plt.rcParams['xtick.labeltop'] = True\n",
        "  plt.legend(title = p1_name)\n",
        "  plt.show()"
      ]
    },
    {
      "cell_type": "markdown",
      "metadata": {
        "id": "60EzXmTOgIvw"
      },
      "source": [
        "##Analysis"
      ]
    },
    {
      "cell_type": "markdown",
      "metadata": {
        "id": "IiW_zjfi4lxO"
      },
      "source": [
        "Select Analysis Set Visualisation Size"
      ]
    },
    {
      "cell_type": "code",
      "execution_count": null,
      "metadata": {
        "id": "RZvjbrZX5Vx0"
      },
      "outputs": [],
      "source": [
        "import pandas as pd\n",
        "#To quick load analysis_set data's result with predicted grammar and structure score\n",
        "# analysis_set.to_csv(data_set_path+'/ASAP_AES/asap_aes_scored_analysis_dataset'+version+'.csv')\n",
        "analysis_set = pd.read_csv(data_set_path+'/ASAP_AES/asap_aes_scored_analysis_dataset'+version+'.csv')"
      ]
    },
    {
      "cell_type": "code",
      "execution_count": null,
      "metadata": {
        "id": "25bR1tdv9-hO"
      },
      "outputs": [],
      "source": [
        "no_of_analysis_essay = 568\n",
        "analysis_set_part = analysis_set.head(no_of_analysis_essay)"
      ]
    },
    {
      "cell_type": "markdown",
      "metadata": {
        "id": "3m1ElTmuTWU3"
      },
      "source": [
        "###Structure Score Module"
      ]
    },
    {
      "cell_type": "markdown",
      "metadata": {
        "id": "W-2ZOUufUxUt"
      },
      "source": [
        "QWK Score for STRUCTURE SCORE MODULE"
      ]
    },
    {
      "cell_type": "code",
      "execution_count": null,
      "metadata": {
        "id": "D9vC2IbAg5e_"
      },
      "outputs": [],
      "source": [
        "#QWK Score for STRUCTURE SCORE MODULE\n",
        "\n",
        "p1 = pd.DataFrame(analysis_set_part , columns = [\"structure_score\"]).squeeze().to_list()\n",
        "#print(len(p1))\n",
        "p2 = pd.DataFrame(analysis_set_part , columns = [\"predicted_structure_score\"]).squeeze().to_list()\n",
        "#print(len(p2))\n",
        "print(\"QWK Score for STRUCTURE SCORE MODULE : \",cohen_kappa_score(p1,p2,weights='quadratic'))"
      ]
    },
    {
      "cell_type": "markdown",
      "metadata": {
        "id": "b-3lkExIU3zB"
      },
      "source": [
        "Structure_score Vs Predicted_structure_score grpah"
      ]
    },
    {
      "cell_type": "code",
      "execution_count": null,
      "metadata": {
        "id": "sLUGnVIiVcsX"
      },
      "outputs": [],
      "source": [
        "#structure_score Vs predicted_structure_score\n",
        "\n",
        "p1 = analysis_set_part[\"structure_score\"]\n",
        "p2 = analysis_set_part[\"predicted_structure_score\"]\n",
        "p1_name = \"structure_score\"\n",
        "p2_name = \"predicted_structure_score\"\n",
        "\n",
        "line_plot_figure(p1,p2,p1_name,p2_name)"
      ]
    },
    {
      "cell_type": "markdown",
      "metadata": {
        "id": "Obt3heXCU8xh"
      },
      "source": [
        "Total and Golden Score difference frequency for structure score"
      ]
    },
    {
      "cell_type": "code",
      "execution_count": null,
      "metadata": {
        "id": "U6Q8T1-JIozQ"
      },
      "outputs": [],
      "source": [
        "#Plot Total and Golden Score difference frequency for structure score\n",
        "\n",
        "bar_graph_figure(analysis_set_part.ss_diff,\"Structure score difference frequency\")"
      ]
    },
    {
      "cell_type": "markdown",
      "metadata": {
        "id": "zbYs4GblTcmK"
      },
      "source": [
        "###Grammar Score Module"
      ]
    },
    {
      "cell_type": "markdown",
      "metadata": {
        "id": "78jDNMkhVG7T"
      },
      "source": [
        "QWK Score for GRAMMAR SCORE MODULE"
      ]
    },
    {
      "cell_type": "code",
      "execution_count": null,
      "metadata": {
        "id": "reay78JChT8r"
      },
      "outputs": [],
      "source": [
        "#QWK Score for GRAMMAR SCORE MODULE\n",
        "\n",
        "p1 = pd.DataFrame(analysis_set_part , columns = [\"grammar_score\"]).squeeze().to_list()\n",
        "#print(len(p1))\n",
        "p2 = pd.DataFrame(analysis_set_part , columns = [\"predicted_grammar_score\"]).squeeze().to_list()\n",
        "#print(len(p2))\n",
        "print(\"QWK Score for GRAMMAR SCORE MODULE : \",cohen_kappa_score(p1,p2,weights='quadratic'))"
      ]
    },
    {
      "cell_type": "markdown",
      "metadata": {
        "id": "LGknDfBcVI_z"
      },
      "source": [
        "Grammar_score Vs Predicted_grammar_score graph"
      ]
    },
    {
      "cell_type": "code",
      "execution_count": null,
      "metadata": {
        "id": "6w0CY_BnWX0q"
      },
      "outputs": [],
      "source": [
        "#grammar_score Vs predicted_grammar_score\n",
        "\n",
        "p1 = analysis_set_part[\"grammar_score\"]\n",
        "p2 = analysis_set_part[\"predicted_grammar_score\"]\n",
        "p1_name = \"grammar_score\"\n",
        "p2_name = \"predicted_grammar_score\"\n",
        "\n",
        "line_plot_figure(p1,p2,p1_name,p2_name)"
      ]
    },
    {
      "cell_type": "markdown",
      "metadata": {
        "id": "HlZgSz5FVRF4"
      },
      "source": [
        "Total and Golden Score difference frequency for grammar score"
      ]
    },
    {
      "cell_type": "code",
      "execution_count": null,
      "metadata": {
        "id": "8J0JtVMgKIHx"
      },
      "outputs": [],
      "source": [
        "#Plot Total and Golden Score difference frequency for structure score\n",
        "\n",
        "bar_graph_figure(analysis_set_part.gs_diff , \"Grammar Score Difference Frequency\")"
      ]
    },
    {
      "cell_type": "markdown",
      "metadata": {
        "id": "jPDPE28ETfhS"
      },
      "source": [
        "###Complete AES"
      ]
    },
    {
      "cell_type": "markdown",
      "metadata": {
        "id": "MMWii7QEViSD"
      },
      "source": [
        "QWK Score for complete AES Model"
      ]
    },
    {
      "cell_type": "code",
      "execution_count": null,
      "metadata": {
        "id": "erVrEFSOiCuZ"
      },
      "outputs": [],
      "source": [
        "#QWK Score for COMPLETE AES Model\n",
        "p1 = pd.DataFrame(analysis_set_part , columns = [\"golden_total_score\"]).squeeze().to_list()\n",
        "p2 = pd.DataFrame(analysis_set_part , columns = [\"predicted_total_score\"]).squeeze().to_list()\n",
        "\n",
        "print(\"QWK Score of COMPLETE AES Model : \",cohen_kappa_score(p1,p2,weights='quadratic'))"
      ]
    },
    {
      "cell_type": "markdown",
      "metadata": {
        "id": "NdNMiu-YVmHN"
      },
      "source": [
        "Golden_total_score Vs Predicted_total_score graph"
      ]
    },
    {
      "cell_type": "code",
      "execution_count": null,
      "metadata": {
        "id": "6qkvGYEeTr6-"
      },
      "outputs": [],
      "source": [
        "#golden_total_score Vs predicted_total_score\n",
        "\n",
        "p1 = analysis_set_part[\"golden_total_score\"]\n",
        "p2 = analysis_set_part[\"predicted_total_score\"]\n",
        "p1_name = \"golden_total_score\"\n",
        "p2_name = \"predicted_total_score\"\n",
        "\n",
        "line_plot_figure(p1,p2,p1_name,p2_name)"
      ]
    },
    {
      "cell_type": "markdown",
      "metadata": {
        "id": "TTP_-yaXVXrv"
      },
      "source": [
        "Total and Golden Score difference frequency for Complete AES"
      ]
    },
    {
      "cell_type": "code",
      "execution_count": null,
      "metadata": {
        "id": "DLECF0JmYVfx"
      },
      "outputs": [],
      "source": [
        "#Total Score Difference Frequency Distribution\n",
        "\n",
        "bar_graph_figure(analysis_set_part.ts_diff,\"Total Score Difference Frequency Distribution\")"
      ]
    },
    {
      "cell_type": "markdown",
      "metadata": {
        "id": "k_urruU4-naW"
      },
      "source": [
        "###Individual Feature vs Score"
      ]
    },
    {
      "cell_type": "code",
      "execution_count": null,
      "metadata": {
        "id": "GHXXRb6yymZS"
      },
      "outputs": [],
      "source": [
        "generate_new_feature_df = 0"
      ]
    },
    {
      "cell_type": "code",
      "execution_count": null,
      "metadata": {
        "id": "5eCxIQV_WUQJ"
      },
      "outputs": [],
      "source": [
        "if generate_new_feature_df == 1 :\n",
        "  data_set = pd.read_csv(data_set_path+'/ASAP_AES/asap_aes_set_7_analysis_dataset.csv')\n",
        "  data_set = data_set.head(568)"
      ]
    },
    {
      "cell_type": "code",
      "execution_count": null,
      "metadata": {
        "id": "KV8d3aSub3AS"
      },
      "outputs": [],
      "source": [
        "if generate_new_feature_df == 1 :\n",
        "  #total essays to work with, due to RAM/Time constraint\n",
        "\n",
        "  #Generating sentence features=====================================================================================================================\n",
        "  print_banner(\"GENERATING  SENTENCE FEATURES\")\n",
        "\n",
        "  #Total Sentence count, per essay\n",
        "  print(\"Total Sentence count, per essay...\")\n",
        "  data_set['total sentences'] = data_set['essay'].apply(lambda x : int(sentence_count(str(x))))\n",
        "\n",
        "  #Total grammatically wrong sentences, per essay\n",
        "  print(\"Total grammatically wrong sentences, per essay...\")\n",
        "  data_set['total grammar errors'] = data_set['essay'].apply(lambda x : int(grammar_details(str(x))))\n",
        "\n",
        "  #Ratio of grammatically wrong sentences to total sentences, per essay\n",
        "  print(\"Ratio of grammatically wrong sentences to total sentences, per essay...\")\n",
        "  data_set['grammar ratio'] = data_set['total grammar errors']/data_set['total sentences']\n",
        "\n",
        "  #Totall Grammatically Wrong Sentence after fixing spelling mistakes\n",
        "  print(\"Totall Grammatically Wrong Sentence after fixing spelling mistakes, per essay...\")\n",
        "  data_set['total grammar errors after spelling fix'] = data_set['essay'].apply(lambda x : int(grammar_details(fix_spelling_in_essay(x,2))))"
      ]
    },
    {
      "cell_type": "code",
      "execution_count": null,
      "metadata": {
        "id": "c_qeitlNb-yE"
      },
      "outputs": [],
      "source": [
        "if generate_new_feature_df == 1 :\n",
        "  \n",
        "  #Generating Clause features=====================================================================================================================\n",
        "  print_banner(\"GENERATING CLAUSE FEATURES\")\n",
        "\n",
        "  #Total Clause count, per essay\n",
        "  print(\"Total Clause, per essay...\")\n",
        "  data_set['total clauses'] = data_set['essay'].apply(lambda x : int(essay_to_clauses(str(x),0,1)))\n",
        "\n",
        "  #Total grammatically wrong phrases, per essay\n",
        "  print(\"Total grammatically wrong clauses, per essay...\")\n",
        "  data_set['total clause grammar errors'] = data_set['essay'].apply(lambda x : int(grammar_details_clauses(str(x))))\n",
        "\n",
        "  #Totall Grammatically Wrong Clauses after fixing spelling mistakes\n",
        "  print(\"Totall Grammatically Wrong Clauses after fixing spelling mistakes, per essay...\")\n",
        "  data_set['total clause grammar errors after spelling fix'] = data_set['essay'].apply(lambda x : int(grammar_details_clauses(fix_spelling_in_essay(x))))\n",
        "  \n",
        "  #Ratio of grammatically wrong phrases to total phrases, per essay\n",
        "  print(\"Ratio of grammatically wrong clauses to total clauses, per essay...\")\n",
        "  data_set['clause grammar_ratio'] = data_set['total clause grammar errors']/data_set['total clauses']"
      ]
    },
    {
      "cell_type": "code",
      "execution_count": null,
      "metadata": {
        "id": "-tfdXq02cHLt"
      },
      "outputs": [],
      "source": [
        "if generate_new_feature_df == 1 :\n",
        "\n",
        "  #Generating Word features=====================================================================================================================\n",
        "  print_banner(\"GENERATING WORD FEATURES\")\n",
        "\n",
        "  #Total word count, per essay\n",
        "  print(\"Total word count, per essay...\")\n",
        "  data_set[\"total word count\"] = data_set['essay'].apply(lambda x : essay_to_words(x,0,1))\n",
        "\n",
        "  #Total wrongly spelled word count, per essay\n",
        "  print(\"Total wrongly spelled word count, per essay...\")\n",
        "  data_set[\"wrong word count\"] = data_set['essay'].apply(lambda x : spelling_mistake_count(x))\n",
        "\n",
        "  #Ratio of wrongly spelled word to total word count , per essay\n",
        "  print(\"Ratio of wrongly spelled word to total word count, per essay...\")\n",
        "  data_set['spelling ratio'] = data_set[\"wrong word count\"]/data_set[\"total word count\"]\n",
        "\n",
        "  #Generating Extra features=====================================================================================================================\n",
        "  print_banner(\"GENERATING EXTRA FEATURES\")\n",
        "\n",
        "  #Ratio of words per sentence\n",
        "  print(\"Ratio of words per sentence, per essay...\")\n",
        "  data_set['words per sentence'] = data_set['essay'].apply(lambda x : int(words_per_sentence(str(x))))\n",
        "\n",
        "  #Ratio of words per clasue\n",
        "  print(\"Ratio of words per clause, per essay...\")\n",
        "  data_set['words per clause'] = data_set['essay'].apply(lambda x : int(words_per_clause(str(x))))"
      ]
    },
    {
      "cell_type": "code",
      "execution_count": null,
      "metadata": {
        "id": "--X506QhcNaK"
      },
      "outputs": [],
      "source": [
        "if generate_new_feature_df == 1 :\n",
        "  #total essays to work with, due to RAM/Time constraint\n",
        "\n",
        "  #Generating Score=====================================================================================================================\n",
        "  print_banner(\"GENERATING SCORES\")\n",
        "\n",
        "  #Remove @ from essay's words.\n",
        "  print(\"Cleaning Data...\")\n",
        "  data_set['essay'] = data_set['essay'].apply(lambda x : clean_essay(str(x)))\n",
        "\n",
        "  #Predict Structure Score for each essay\n",
        "  print(\"Predicting Structure Score...\")\n",
        "  data_set['predicted_structure_score'] = data_set['essay'].apply(lambda x : int(demo_essay_structure_score(str(x))))\n",
        "\n",
        "  #Predict Grammar Score for each essay\n",
        "  print(\"Predicting Grammar Score...\")\n",
        "  data_set['predicted_grammar_score'] = data_set['essay'].apply(lambda x : int(essay_grammar_score(str(x))))\n",
        "\n",
        "  #Calculate Golden Total Score\n",
        "  print(\"Golden Total Score...\")\n",
        "  data_set[\"golden_total_score\"] = data_set[\"structure_score\"]+data_set[\"grammar_score\"]\n",
        "  #print(analysis_set[\"golden_total_score\"].isnull().sum())\n",
        "\n",
        "  #Calculate Prdeicted Total Score\n",
        "  print(\"Predicted Total Score...\")\n",
        "  data_set[\"predicted_total_score\"] = data_set[\"predicted_structure_score\"]+data_set[\"predicted_grammar_score\"]\n",
        "\n",
        "  data_set.to_csv(data_set_path+'/ASAP_AES/asap_aes_scored_analysis_dataset'+version+'_featureAnalysis.csv')"
      ]
    },
    {
      "cell_type": "code",
      "execution_count": null,
      "metadata": {
        "id": "28kDnC1BcS41"
      },
      "outputs": [],
      "source": [
        "if generate_new_feature_df == 1 :\n",
        "  data_set.to_csv(data_set_path+'/ASAP_AES/asap_aes_scored_analysis_dataset'+version+'_featureAnalysis.csv')"
      ]
    },
    {
      "cell_type": "code",
      "execution_count": null,
      "metadata": {
        "id": "ThxRUOUFa-FZ"
      },
      "outputs": [],
      "source": [
        "if generate_new_feature_df == 0 :\n",
        "  data_set = pd.read_csv(data_set_path+'/ASAP_AES/asap_aes_scored_analysis_dataset'+version+'_featureAnalysis.csv')"
      ]
    },
    {
      "cell_type": "code",
      "execution_count": null,
      "metadata": {
        "id": "hEnN5KhoI-2Y"
      },
      "outputs": [],
      "source": [
        "data_set.head(5)"
      ]
    },
    {
      "cell_type": "code",
      "execution_count": null,
      "metadata": {
        "id": "oSwUId75jXTW"
      },
      "outputs": [],
      "source": [
        "import math\n",
        "def feature_score_analysis(feature_name , data_set , score1=\"golden_total_score\" , score2=\"predicted_total_score\" , total_score = 10):\n",
        "  scores = [i for i in range(total_score+1)]\n",
        "  #print(\"Total Score label : \" + str(scores))\n",
        "  avg_golden = []\n",
        "  for score in scores:\n",
        "    df = data_set[data_set[score1]==score]\n",
        "    avg_golden.append(df[feature_name].mean())\n",
        "  avg_golden = [0 if math.isnan(x) else x for x in avg_golden]\n",
        "\n",
        "  #print(\"Average \"+feature_name+\" per golden score label: \" +str(avg_golden))\n",
        "  avg_predicted = []\n",
        "  for score in scores:\n",
        "    df = data_set[data_set[score2]==score]\n",
        "    avg_predicted.append(df[feature_name].mean())\n",
        "  avg_predicted = [0 if math.isnan(x) else x for x in avg_predicted]\n",
        "  #print(\"Average \"+feature_name+\" per predicted score label: \" +str(avg_predicted))\n",
        "  \n",
        "  line_plot_figure(avg_golden , avg_predicted , \"[ mean \"+feature_name+\" vs \"+score1+\" ]\",\"[ mean \"+feature_name+\" vs \"+score2+\" ]\")\n",
        "  #plt.rcParams['figure.figsize']=()\n",
        "  \n",
        "  plt.show()\n",
        "  "
      ]
    },
    {
      "cell_type": "markdown",
      "metadata": {
        "id": "M5xU1_LGvnyg"
      },
      "source": [
        "####Grammar Score vs Feature Analysis"
      ]
    },
    {
      "cell_type": "code",
      "execution_count": null,
      "metadata": {
        "id": "rRwTsDxrvffC"
      },
      "outputs": [],
      "source": [
        "# [ mean total sentences vs grammar_score ] Vs [ mean total sentences vs predicted_grammar_score ]\n",
        "\n",
        "feature_score_analysis(\"total sentences\",data_set,\"grammar_score\",\"predicted_grammar_score\")"
      ]
    },
    {
      "cell_type": "code",
      "execution_count": null,
      "metadata": {
        "id": "jDnoB6X2vvci"
      },
      "outputs": [],
      "source": [
        "# [ mean total grammar errors vs grammar_score ] Vs [ mean total grammar errors vs predicted_grammar_score ]\n",
        "\n",
        "feature_score_analysis(\"total grammar errors\",data_set,\"grammar_score\",\"predicted_grammar_score\")"
      ]
    },
    {
      "cell_type": "code",
      "execution_count": null,
      "metadata": {
        "id": "19W3kFFRv498"
      },
      "outputs": [],
      "source": [
        "# [ mean total clauses vs grammar_score ] Vs [ mean total clauses vs predicted_grammar_score ]\n",
        "\n",
        "feature_score_analysis('total clauses',data_set,\"grammar_score\",\"predicted_grammar_score\")"
      ]
    },
    {
      "cell_type": "code",
      "execution_count": null,
      "metadata": {
        "id": "XgaBw2HtwCmU"
      },
      "outputs": [],
      "source": [
        "# [ mean total clause grammar errors vs grammar_score ] Vs [ mean total clause grammar errors vs predicted_grammar_score ]\n",
        "\n",
        "feature_score_analysis('total clause grammar errors',data_set,\"grammar_score\",\"predicted_grammar_score\")"
      ]
    },
    {
      "cell_type": "code",
      "execution_count": null,
      "metadata": {
        "id": "7pQQONkEwO-o"
      },
      "outputs": [],
      "source": [
        "# [ mean words per sentence vs grammar_score ] Vs [ mean words per sentence vs predicted_grammar_score ]\n",
        "\n",
        "feature_score_analysis('words per sentence',data_set,\"grammar_score\",\"predicted_grammar_score\")"
      ]
    },
    {
      "cell_type": "code",
      "execution_count": null,
      "metadata": {
        "id": "6NhgYwE2wWjs"
      },
      "outputs": [],
      "source": [
        "# [ mean words per clause vs grammar_score ] Vs [ mean words per clause vs predicted_grammar_score ]\n",
        "\n",
        "feature_score_analysis('words per clause',data_set,\"grammar_score\",\"predicted_grammar_score\")"
      ]
    },
    {
      "cell_type": "markdown",
      "metadata": {
        "id": "jC5og4v9wdcD"
      },
      "source": [
        "####Total Score vs Feature Analysis"
      ]
    },
    {
      "cell_type": "code",
      "execution_count": null,
      "metadata": {
        "id": "XuoiobhQ94Ks"
      },
      "outputs": [],
      "source": [
        "# [ mean total sentences vs golden_total_score ] Vs [ mean total sentences vs predicted_total_score ]\n",
        "\n",
        "feature_score_analysis(\"total sentences\",data_set,total_score=20)"
      ]
    },
    {
      "cell_type": "code",
      "execution_count": null,
      "metadata": {
        "id": "8Dedy5mhfUZQ"
      },
      "outputs": [],
      "source": [
        "# [ mean total grammar errors vs golden_total_score ] Vs [ mean total grammar errors vs predicted_total_score ]\n",
        "\n",
        "feature_score_analysis(\"total grammar errors\",data_set,total_score=20)"
      ]
    },
    {
      "cell_type": "code",
      "execution_count": null,
      "metadata": {
        "id": "4AC2cd2PjZZ2"
      },
      "outputs": [],
      "source": [
        "# [ mean total clauses vs golden_total_score ] Vs [ mean total clauses vs predicted_total_score ]\n",
        "\n",
        "feature_score_analysis('total clauses',data_set,total_score=20)"
      ]
    },
    {
      "cell_type": "code",
      "execution_count": null,
      "metadata": {
        "id": "-aBfGVtnjbev"
      },
      "outputs": [],
      "source": [
        "# [ mean total clause grammar errors vs golden_total_score ] Vs [ mean total clause grammar errors vs predicted_total_score ]\n",
        "\n",
        "feature_score_analysis('total clause grammar errors',data_set,total_score=20)"
      ]
    },
    {
      "cell_type": "code",
      "execution_count": null,
      "metadata": {
        "id": "KruiUwHrjeP3"
      },
      "outputs": [],
      "source": [
        "# [ mean words per sentence vs golden_total_score ] Vs [ mean words per sentence vs predicted_total_score ]\n",
        "\n",
        "feature_score_analysis('words per sentence',data_set,total_score=20)"
      ]
    },
    {
      "cell_type": "code",
      "execution_count": null,
      "metadata": {
        "id": "99KmM5057XhS"
      },
      "outputs": [],
      "source": [
        "# [ mean words per clause vs golden_total_score ] Vs [ mean words per clause vs predicted_total_score ]\n",
        "feature_score_analysis('words per clause',data_set,total_score=20)"
      ]
    },
    {
      "cell_type": "markdown",
      "metadata": {
        "id": "JJydeq53ULal"
      },
      "source": [
        "###Check Individual Essay"
      ]
    },
    {
      "cell_type": "markdown",
      "metadata": {
        "id": "gEshYES911fC"
      },
      "source": [
        "####Grammatically Correct Sentence from Wikipedia."
      ]
    },
    {
      "cell_type": "code",
      "execution_count": null,
      "metadata": {
        "id": "kqRswACzuhK5"
      },
      "outputs": [],
      "source": [
        "essay = \"\"\"The Chicago Bulls are an American professional basketball team based in Chicago. \n",
        "The Bulls compete in the National Basketball Association (NBA) as a member of the league's Eastern Conference Central Division. \n",
        "The team was founded on January 16, 1966, and played its first game during the 1966–67 NBA season. \n",
        "The Bulls play their home games at the United Center, an arena on Chicago's West Side.\"\"\"\n",
        "print_banner(\"ESSAY :\\n\"+essay)"
      ]
    },
    {
      "cell_type": "code",
      "execution_count": null,
      "metadata": {
        "id": "wPdaTFr-0cDJ"
      },
      "outputs": [],
      "source": [
        "generate_grammar_score_features(essay)"
      ]
    },
    {
      "cell_type": "code",
      "execution_count": null,
      "metadata": {
        "id": "_x1kGEw10e3Y"
      },
      "outputs": [],
      "source": [
        "print_banner(\"ESSAY :\\n\"+essay)\n",
        "\n",
        "print(\"STRUCTURE ANALYSIS\\n\")\n",
        "print(\"Structure score for essay is : \"+str(demo_essay_structure_score(essay)))\n",
        "print_dashline()\n",
        "print(\"GRAMMAR ANALYSIS\\n\")\n",
        "print(\"Grammar Score for essay is : \",essay_grammar_score(essay))\n",
        "print_dashline()"
      ]
    },
    {
      "cell_type": "markdown",
      "metadata": {
        "id": "msGmDlOX2DS-"
      },
      "source": [
        "####Grammatically Incorrect Sentence from Wikipedia."
      ]
    },
    {
      "cell_type": "code",
      "execution_count": null,
      "metadata": {
        "id": "9MWTS9KZynOM"
      },
      "outputs": [],
      "source": [
        "essay = \"\"\"The Chicago Bulls American professional basketball team based in Chicago. \n",
        "The Bulls compete the National Basketball Association (NBA) as member of the league's Eastern Conference Central Division. \n",
        "The team found on January 16, 1966, and played its first game during the 1966–67 NBA season. \n",
        "The Bulls was play there home games on a United Center, a arena on Chicago's West Side.\"\"\"\n",
        "\n",
        "print_banner(\"ESSAY :\\n\"+essay)\n",
        "\n",
        "print(\"STRUCTURE ANALYSIS\\n\")\n",
        "print(\"Structure score for essay is : \"+str(demo_essay_structure_score(essay)))\n",
        "print_dashline()\n",
        "print(\"GRAMMAR ANALYSIS\\n\")\n",
        "print(\"Grammar Score for essay is : \",essay_grammar_score(essay))\n",
        "print_dashline()"
      ]
    },
    {
      "cell_type": "code",
      "execution_count": null,
      "metadata": {
        "id": "jSTLCAR30yj6"
      },
      "outputs": [],
      "source": [
        "generate_grammar_score_features(essay)"
      ]
    },
    {
      "cell_type": "code",
      "execution_count": null,
      "metadata": {
        "id": "kmW9Y8GF01a6"
      },
      "outputs": [],
      "source": [
        "print_banner(\"ESSAY :\\n\"+essay)\n",
        "\n",
        "print(\"STRUCTURE ANALYSIS\\n\")\n",
        "print(\"Structure score for essay is : \"+str(demo_essay_structure_score(essay)))\n",
        "print_dashline()\n",
        "print(\"GRAMMAR ANALYSIS\\n\")\n",
        "print(\"Grammar Score for essay is : \",essay_grammar_score(essay))\n",
        "print_dashline()"
      ]
    },
    {
      "cell_type": "markdown",
      "metadata": {
        "id": "eMFt4BacUH6h"
      },
      "source": [
        "Program End"
      ]
    },
    {
      "cell_type": "code",
      "execution_count": null,
      "metadata": {
        "id": "dJzc9i6D4SZn"
      },
      "outputs": [],
      "source": [
        "from datetime import datetime\n",
        "complete_program_start_time = datetime.now()\n",
        "\n",
        "print(\"Complete Program Running Time : \",complete_program_start_time-program_start_time)"
      ]
    },
    {
      "cell_type": "markdown",
      "metadata": {
        "id": "ngrwEkZr2GZO"
      },
      "source": [
        "#Trial"
      ]
    }
  ],
  "metadata": {
    "accelerator": "GPU",
    "colab": {
      "collapsed_sections": [
        "377AJV1Alzha"
      ],
      "toc_visible": true,
      "provenance": [],
      "mount_file_id": "1RthaozlBBeJAUFTCZau0ZYuzn2vqgm-o",
      "authorship_tag": "ABX9TyPKU8XlEvBFViL9/LOX2Rwy",
      "include_colab_link": true
    },
    "kernelspec": {
      "display_name": "Python 3",
      "name": "python3"
    },
    "language_info": {
      "name": "python"
    },
    "widgets": {
      "application/vnd.jupyter.widget-state+json": {
        "0235bf3b89b540f3a3fc2d75f99251eb": {
          "model_module": "@jupyter-widgets/controls",
          "model_module_version": "1.5.0",
          "model_name": "FloatProgressModel",
          "state": {
            "_dom_classes": [],
            "_model_module": "@jupyter-widgets/controls",
            "_model_module_version": "1.5.0",
            "_model_name": "FloatProgressModel",
            "_view_count": null,
            "_view_module": "@jupyter-widgets/controls",
            "_view_module_version": "1.5.0",
            "_view_name": "ProgressView",
            "bar_style": "success",
            "description": "",
            "description_tooltip": null,
            "layout": "IPY_MODEL_a44bfe3c43a7487487644e5a6f730bf6",
            "max": 28,
            "min": 0,
            "orientation": "horizontal",
            "style": "IPY_MODEL_8836afd870044153a3b43fbad73a05c2",
            "value": 28
          }
        },
        "07c43222f7354499aa631ead5faea198": {
          "model_module": "@jupyter-widgets/controls",
          "model_module_version": "1.5.0",
          "model_name": "HBoxModel",
          "state": {
            "_dom_classes": [],
            "_model_module": "@jupyter-widgets/controls",
            "_model_module_version": "1.5.0",
            "_model_name": "HBoxModel",
            "_view_count": null,
            "_view_module": "@jupyter-widgets/controls",
            "_view_module_version": "1.5.0",
            "_view_name": "HBoxView",
            "box_style": "",
            "children": [
              "IPY_MODEL_8679e3862d494296ab6a4b74742b9733",
              "IPY_MODEL_0235bf3b89b540f3a3fc2d75f99251eb",
              "IPY_MODEL_cc8d70ee183a4d27993601a36aaea1a7"
            ],
            "layout": "IPY_MODEL_5aafd546470645359e7203c4b6888837"
          }
        },
        "0fdd0ca08300467dacef1e8514886be2": {
          "model_module": "@jupyter-widgets/controls",
          "model_module_version": "1.5.0",
          "model_name": "FloatProgressModel",
          "state": {
            "_dom_classes": [],
            "_model_module": "@jupyter-widgets/controls",
            "_model_module_version": "1.5.0",
            "_model_name": "FloatProgressModel",
            "_view_count": null,
            "_view_module": "@jupyter-widgets/controls",
            "_view_module_version": "1.5.0",
            "_view_name": "ProgressView",
            "bar_style": "success",
            "description": "",
            "description_tooltip": null,
            "layout": "IPY_MODEL_77d86638d51d4448b2e234460f9c34f3",
            "max": 570,
            "min": 0,
            "orientation": "horizontal",
            "style": "IPY_MODEL_7be56a7027e5460ab470038d88dfcd57",
            "value": 570
          }
        },
        "0fe04946b65d43da83eccda28c08f276": {
          "model_module": "@jupyter-widgets/base",
          "model_module_version": "1.2.0",
          "model_name": "LayoutModel",
          "state": {
            "_model_module": "@jupyter-widgets/base",
            "_model_module_version": "1.2.0",
            "_model_name": "LayoutModel",
            "_view_count": null,
            "_view_module": "@jupyter-widgets/base",
            "_view_module_version": "1.2.0",
            "_view_name": "LayoutView",
            "align_content": null,
            "align_items": null,
            "align_self": null,
            "border": null,
            "bottom": null,
            "display": null,
            "flex": null,
            "flex_flow": null,
            "grid_area": null,
            "grid_auto_columns": null,
            "grid_auto_flow": null,
            "grid_auto_rows": null,
            "grid_column": null,
            "grid_gap": null,
            "grid_row": null,
            "grid_template_areas": null,
            "grid_template_columns": null,
            "grid_template_rows": null,
            "height": null,
            "justify_content": null,
            "justify_items": null,
            "left": null,
            "margin": null,
            "max_height": null,
            "max_width": null,
            "min_height": null,
            "min_width": null,
            "object_fit": null,
            "object_position": null,
            "order": null,
            "overflow": null,
            "overflow_x": null,
            "overflow_y": null,
            "padding": null,
            "right": null,
            "top": null,
            "visibility": null,
            "width": null
          }
        },
        "0ffb270f003f4d04b57809e94956dd4b": {
          "model_module": "@jupyter-widgets/controls",
          "model_module_version": "1.5.0",
          "model_name": "HBoxModel",
          "state": {
            "_dom_classes": [],
            "_model_module": "@jupyter-widgets/controls",
            "_model_module_version": "1.5.0",
            "_model_name": "HBoxModel",
            "_view_count": null,
            "_view_module": "@jupyter-widgets/controls",
            "_view_module_version": "1.5.0",
            "_view_name": "HBoxView",
            "box_style": "",
            "children": [
              "IPY_MODEL_154f8f3da6704500a518c471eec765e8",
              "IPY_MODEL_0fdd0ca08300467dacef1e8514886be2",
              "IPY_MODEL_6a12cf94760e4bba94234c951833ece8"
            ],
            "layout": "IPY_MODEL_8e9b5f3f3d6549a6870f48880d0411e1"
          }
        },
        "1318e4ec93cc4116946cd1d591fade25": {
          "model_module": "@jupyter-widgets/controls",
          "model_module_version": "1.5.0",
          "model_name": "ProgressStyleModel",
          "state": {
            "_model_module": "@jupyter-widgets/controls",
            "_model_module_version": "1.5.0",
            "_model_name": "ProgressStyleModel",
            "_view_count": null,
            "_view_module": "@jupyter-widgets/base",
            "_view_module_version": "1.2.0",
            "_view_name": "StyleView",
            "bar_color": null,
            "description_width": ""
          }
        },
        "154f8f3da6704500a518c471eec765e8": {
          "model_module": "@jupyter-widgets/controls",
          "model_module_version": "1.5.0",
          "model_name": "HTMLModel",
          "state": {
            "_dom_classes": [],
            "_model_module": "@jupyter-widgets/controls",
            "_model_module_version": "1.5.0",
            "_model_name": "HTMLModel",
            "_view_count": null,
            "_view_module": "@jupyter-widgets/controls",
            "_view_module_version": "1.5.0",
            "_view_name": "HTMLView",
            "description": "",
            "description_tooltip": null,
            "layout": "IPY_MODEL_65762bd6b6c5459dbabe3039e6fc3434",
            "placeholder": "​",
            "style": "IPY_MODEL_9f12c886a5704781bb2fc144781ffc77",
            "value": "Downloading: 100%"
          }
        },
        "1ac48b5cc5ba4240bf264e2c7d7dab83": {
          "model_module": "@jupyter-widgets/controls",
          "model_module_version": "1.5.0",
          "model_name": "HBoxModel",
          "state": {
            "_dom_classes": [],
            "_model_module": "@jupyter-widgets/controls",
            "_model_module_version": "1.5.0",
            "_model_name": "HBoxModel",
            "_view_count": null,
            "_view_module": "@jupyter-widgets/controls",
            "_view_module_version": "1.5.0",
            "_view_name": "HBoxView",
            "box_style": "",
            "children": [
              "IPY_MODEL_e6f967173d3041029274988cc7b0f594",
              "IPY_MODEL_dcca6b83c82a4b7a9d89168e4ea04ce2",
              "IPY_MODEL_1c935e51aad24ca9a364a9b90c8a11b8"
            ],
            "layout": "IPY_MODEL_b29b5c5020d54244bd81661e0d2f23cc"
          }
        },
        "1b8dc40d6d3c4ad1bc8e485615460d68": {
          "model_module": "@jupyter-widgets/base",
          "model_module_version": "1.2.0",
          "model_name": "LayoutModel",
          "state": {
            "_model_module": "@jupyter-widgets/base",
            "_model_module_version": "1.2.0",
            "_model_name": "LayoutModel",
            "_view_count": null,
            "_view_module": "@jupyter-widgets/base",
            "_view_module_version": "1.2.0",
            "_view_name": "LayoutView",
            "align_content": null,
            "align_items": null,
            "align_self": null,
            "border": null,
            "bottom": null,
            "display": null,
            "flex": null,
            "flex_flow": null,
            "grid_area": null,
            "grid_auto_columns": null,
            "grid_auto_flow": null,
            "grid_auto_rows": null,
            "grid_column": null,
            "grid_gap": null,
            "grid_row": null,
            "grid_template_areas": null,
            "grid_template_columns": null,
            "grid_template_rows": null,
            "height": null,
            "justify_content": null,
            "justify_items": null,
            "left": null,
            "margin": null,
            "max_height": null,
            "max_width": null,
            "min_height": null,
            "min_width": null,
            "object_fit": null,
            "object_position": null,
            "order": null,
            "overflow": null,
            "overflow_x": null,
            "overflow_y": null,
            "padding": null,
            "right": null,
            "top": null,
            "visibility": null,
            "width": null
          }
        },
        "1c935e51aad24ca9a364a9b90c8a11b8": {
          "model_module": "@jupyter-widgets/controls",
          "model_module_version": "1.5.0",
          "model_name": "HTMLModel",
          "state": {
            "_dom_classes": [],
            "_model_module": "@jupyter-widgets/controls",
            "_model_module_version": "1.5.0",
            "_model_name": "HTMLModel",
            "_view_count": null,
            "_view_module": "@jupyter-widgets/controls",
            "_view_module_version": "1.5.0",
            "_view_name": "HTMLView",
            "description": "",
            "description_tooltip": null,
            "layout": "IPY_MODEL_8616d87119804539a9f33dbb48190d9e",
            "placeholder": "​",
            "style": "IPY_MODEL_742415abb9de46cfb14e26944cc04278",
            "value": " 440M/440M [00:06&lt;00:00, 76.3MB/s]"
          }
        },
        "21784535fa814f02ad79ae6670e6186f": {
          "model_module": "@jupyter-widgets/controls",
          "model_module_version": "1.5.0",
          "model_name": "DescriptionStyleModel",
          "state": {
            "_model_module": "@jupyter-widgets/controls",
            "_model_module_version": "1.5.0",
            "_model_name": "DescriptionStyleModel",
            "_view_count": null,
            "_view_module": "@jupyter-widgets/base",
            "_view_module_version": "1.2.0",
            "_view_name": "StyleView",
            "description_width": ""
          }
        },
        "339b3e1233294d49a546684157ebdfa4": {
          "model_module": "@jupyter-widgets/base",
          "model_module_version": "1.2.0",
          "model_name": "LayoutModel",
          "state": {
            "_model_module": "@jupyter-widgets/base",
            "_model_module_version": "1.2.0",
            "_model_name": "LayoutModel",
            "_view_count": null,
            "_view_module": "@jupyter-widgets/base",
            "_view_module_version": "1.2.0",
            "_view_name": "LayoutView",
            "align_content": null,
            "align_items": null,
            "align_self": null,
            "border": null,
            "bottom": null,
            "display": null,
            "flex": null,
            "flex_flow": null,
            "grid_area": null,
            "grid_auto_columns": null,
            "grid_auto_flow": null,
            "grid_auto_rows": null,
            "grid_column": null,
            "grid_gap": null,
            "grid_row": null,
            "grid_template_areas": null,
            "grid_template_columns": null,
            "grid_template_rows": null,
            "height": null,
            "justify_content": null,
            "justify_items": null,
            "left": null,
            "margin": null,
            "max_height": null,
            "max_width": null,
            "min_height": null,
            "min_width": null,
            "object_fit": null,
            "object_position": null,
            "order": null,
            "overflow": null,
            "overflow_x": null,
            "overflow_y": null,
            "padding": null,
            "right": null,
            "top": null,
            "visibility": null,
            "width": null
          }
        },
        "3f4f8b76c3d94f3f945a21cd9cdbb957": {
          "model_module": "@jupyter-widgets/controls",
          "model_module_version": "1.5.0",
          "model_name": "FloatProgressModel",
          "state": {
            "_dom_classes": [],
            "_model_module": "@jupyter-widgets/controls",
            "_model_module_version": "1.5.0",
            "_model_name": "FloatProgressModel",
            "_view_count": null,
            "_view_module": "@jupyter-widgets/controls",
            "_view_module_version": "1.5.0",
            "_view_name": "ProgressView",
            "bar_style": "success",
            "description": "",
            "description_tooltip": null,
            "layout": "IPY_MODEL_ac033ba5e2a4476e801de552fe75b041",
            "max": 231508,
            "min": 0,
            "orientation": "horizontal",
            "style": "IPY_MODEL_1318e4ec93cc4116946cd1d591fade25",
            "value": 231508
          }
        },
        "5aafd546470645359e7203c4b6888837": {
          "model_module": "@jupyter-widgets/base",
          "model_module_version": "1.2.0",
          "model_name": "LayoutModel",
          "state": {
            "_model_module": "@jupyter-widgets/base",
            "_model_module_version": "1.2.0",
            "_model_name": "LayoutModel",
            "_view_count": null,
            "_view_module": "@jupyter-widgets/base",
            "_view_module_version": "1.2.0",
            "_view_name": "LayoutView",
            "align_content": null,
            "align_items": null,
            "align_self": null,
            "border": null,
            "bottom": null,
            "display": null,
            "flex": null,
            "flex_flow": null,
            "grid_area": null,
            "grid_auto_columns": null,
            "grid_auto_flow": null,
            "grid_auto_rows": null,
            "grid_column": null,
            "grid_gap": null,
            "grid_row": null,
            "grid_template_areas": null,
            "grid_template_columns": null,
            "grid_template_rows": null,
            "height": null,
            "justify_content": null,
            "justify_items": null,
            "left": null,
            "margin": null,
            "max_height": null,
            "max_width": null,
            "min_height": null,
            "min_width": null,
            "object_fit": null,
            "object_position": null,
            "order": null,
            "overflow": null,
            "overflow_x": null,
            "overflow_y": null,
            "padding": null,
            "right": null,
            "top": null,
            "visibility": null,
            "width": null
          }
        },
        "5ed080bb48584550ac12503d44c31f21": {
          "model_module": "@jupyter-widgets/base",
          "model_module_version": "1.2.0",
          "model_name": "LayoutModel",
          "state": {
            "_model_module": "@jupyter-widgets/base",
            "_model_module_version": "1.2.0",
            "_model_name": "LayoutModel",
            "_view_count": null,
            "_view_module": "@jupyter-widgets/base",
            "_view_module_version": "1.2.0",
            "_view_name": "LayoutView",
            "align_content": null,
            "align_items": null,
            "align_self": null,
            "border": null,
            "bottom": null,
            "display": null,
            "flex": null,
            "flex_flow": null,
            "grid_area": null,
            "grid_auto_columns": null,
            "grid_auto_flow": null,
            "grid_auto_rows": null,
            "grid_column": null,
            "grid_gap": null,
            "grid_row": null,
            "grid_template_areas": null,
            "grid_template_columns": null,
            "grid_template_rows": null,
            "height": null,
            "justify_content": null,
            "justify_items": null,
            "left": null,
            "margin": null,
            "max_height": null,
            "max_width": null,
            "min_height": null,
            "min_width": null,
            "object_fit": null,
            "object_position": null,
            "order": null,
            "overflow": null,
            "overflow_x": null,
            "overflow_y": null,
            "padding": null,
            "right": null,
            "top": null,
            "visibility": null,
            "width": null
          }
        },
        "65762bd6b6c5459dbabe3039e6fc3434": {
          "model_module": "@jupyter-widgets/base",
          "model_module_version": "1.2.0",
          "model_name": "LayoutModel",
          "state": {
            "_model_module": "@jupyter-widgets/base",
            "_model_module_version": "1.2.0",
            "_model_name": "LayoutModel",
            "_view_count": null,
            "_view_module": "@jupyter-widgets/base",
            "_view_module_version": "1.2.0",
            "_view_name": "LayoutView",
            "align_content": null,
            "align_items": null,
            "align_self": null,
            "border": null,
            "bottom": null,
            "display": null,
            "flex": null,
            "flex_flow": null,
            "grid_area": null,
            "grid_auto_columns": null,
            "grid_auto_flow": null,
            "grid_auto_rows": null,
            "grid_column": null,
            "grid_gap": null,
            "grid_row": null,
            "grid_template_areas": null,
            "grid_template_columns": null,
            "grid_template_rows": null,
            "height": null,
            "justify_content": null,
            "justify_items": null,
            "left": null,
            "margin": null,
            "max_height": null,
            "max_width": null,
            "min_height": null,
            "min_width": null,
            "object_fit": null,
            "object_position": null,
            "order": null,
            "overflow": null,
            "overflow_x": null,
            "overflow_y": null,
            "padding": null,
            "right": null,
            "top": null,
            "visibility": null,
            "width": null
          }
        },
        "675221c66df14159be0ca3e1048737b7": {
          "model_module": "@jupyter-widgets/base",
          "model_module_version": "1.2.0",
          "model_name": "LayoutModel",
          "state": {
            "_model_module": "@jupyter-widgets/base",
            "_model_module_version": "1.2.0",
            "_model_name": "LayoutModel",
            "_view_count": null,
            "_view_module": "@jupyter-widgets/base",
            "_view_module_version": "1.2.0",
            "_view_name": "LayoutView",
            "align_content": null,
            "align_items": null,
            "align_self": null,
            "border": null,
            "bottom": null,
            "display": null,
            "flex": null,
            "flex_flow": null,
            "grid_area": null,
            "grid_auto_columns": null,
            "grid_auto_flow": null,
            "grid_auto_rows": null,
            "grid_column": null,
            "grid_gap": null,
            "grid_row": null,
            "grid_template_areas": null,
            "grid_template_columns": null,
            "grid_template_rows": null,
            "height": null,
            "justify_content": null,
            "justify_items": null,
            "left": null,
            "margin": null,
            "max_height": null,
            "max_width": null,
            "min_height": null,
            "min_width": null,
            "object_fit": null,
            "object_position": null,
            "order": null,
            "overflow": null,
            "overflow_x": null,
            "overflow_y": null,
            "padding": null,
            "right": null,
            "top": null,
            "visibility": null,
            "width": null
          }
        },
        "6a12cf94760e4bba94234c951833ece8": {
          "model_module": "@jupyter-widgets/controls",
          "model_module_version": "1.5.0",
          "model_name": "HTMLModel",
          "state": {
            "_dom_classes": [],
            "_model_module": "@jupyter-widgets/controls",
            "_model_module_version": "1.5.0",
            "_model_name": "HTMLModel",
            "_view_count": null,
            "_view_module": "@jupyter-widgets/controls",
            "_view_module_version": "1.5.0",
            "_view_name": "HTMLView",
            "description": "",
            "description_tooltip": null,
            "layout": "IPY_MODEL_1b8dc40d6d3c4ad1bc8e485615460d68",
            "placeholder": "​",
            "style": "IPY_MODEL_df323f54a5f54394a412f577f6d57ea7",
            "value": " 570/570 [00:00&lt;00:00, 19.8kB/s]"
          }
        },
        "742415abb9de46cfb14e26944cc04278": {
          "model_module": "@jupyter-widgets/controls",
          "model_module_version": "1.5.0",
          "model_name": "DescriptionStyleModel",
          "state": {
            "_model_module": "@jupyter-widgets/controls",
            "_model_module_version": "1.5.0",
            "_model_name": "DescriptionStyleModel",
            "_view_count": null,
            "_view_module": "@jupyter-widgets/base",
            "_view_module_version": "1.2.0",
            "_view_name": "StyleView",
            "description_width": ""
          }
        },
        "77d86638d51d4448b2e234460f9c34f3": {
          "model_module": "@jupyter-widgets/base",
          "model_module_version": "1.2.0",
          "model_name": "LayoutModel",
          "state": {
            "_model_module": "@jupyter-widgets/base",
            "_model_module_version": "1.2.0",
            "_model_name": "LayoutModel",
            "_view_count": null,
            "_view_module": "@jupyter-widgets/base",
            "_view_module_version": "1.2.0",
            "_view_name": "LayoutView",
            "align_content": null,
            "align_items": null,
            "align_self": null,
            "border": null,
            "bottom": null,
            "display": null,
            "flex": null,
            "flex_flow": null,
            "grid_area": null,
            "grid_auto_columns": null,
            "grid_auto_flow": null,
            "grid_auto_rows": null,
            "grid_column": null,
            "grid_gap": null,
            "grid_row": null,
            "grid_template_areas": null,
            "grid_template_columns": null,
            "grid_template_rows": null,
            "height": null,
            "justify_content": null,
            "justify_items": null,
            "left": null,
            "margin": null,
            "max_height": null,
            "max_width": null,
            "min_height": null,
            "min_width": null,
            "object_fit": null,
            "object_position": null,
            "order": null,
            "overflow": null,
            "overflow_x": null,
            "overflow_y": null,
            "padding": null,
            "right": null,
            "top": null,
            "visibility": null,
            "width": null
          }
        },
        "7be56a7027e5460ab470038d88dfcd57": {
          "model_module": "@jupyter-widgets/controls",
          "model_module_version": "1.5.0",
          "model_name": "ProgressStyleModel",
          "state": {
            "_model_module": "@jupyter-widgets/controls",
            "_model_module_version": "1.5.0",
            "_model_name": "ProgressStyleModel",
            "_view_count": null,
            "_view_module": "@jupyter-widgets/base",
            "_view_module_version": "1.2.0",
            "_view_name": "StyleView",
            "bar_color": null,
            "description_width": ""
          }
        },
        "8616d87119804539a9f33dbb48190d9e": {
          "model_module": "@jupyter-widgets/base",
          "model_module_version": "1.2.0",
          "model_name": "LayoutModel",
          "state": {
            "_model_module": "@jupyter-widgets/base",
            "_model_module_version": "1.2.0",
            "_model_name": "LayoutModel",
            "_view_count": null,
            "_view_module": "@jupyter-widgets/base",
            "_view_module_version": "1.2.0",
            "_view_name": "LayoutView",
            "align_content": null,
            "align_items": null,
            "align_self": null,
            "border": null,
            "bottom": null,
            "display": null,
            "flex": null,
            "flex_flow": null,
            "grid_area": null,
            "grid_auto_columns": null,
            "grid_auto_flow": null,
            "grid_auto_rows": null,
            "grid_column": null,
            "grid_gap": null,
            "grid_row": null,
            "grid_template_areas": null,
            "grid_template_columns": null,
            "grid_template_rows": null,
            "height": null,
            "justify_content": null,
            "justify_items": null,
            "left": null,
            "margin": null,
            "max_height": null,
            "max_width": null,
            "min_height": null,
            "min_width": null,
            "object_fit": null,
            "object_position": null,
            "order": null,
            "overflow": null,
            "overflow_x": null,
            "overflow_y": null,
            "padding": null,
            "right": null,
            "top": null,
            "visibility": null,
            "width": null
          }
        },
        "8679e3862d494296ab6a4b74742b9733": {
          "model_module": "@jupyter-widgets/controls",
          "model_module_version": "1.5.0",
          "model_name": "HTMLModel",
          "state": {
            "_dom_classes": [],
            "_model_module": "@jupyter-widgets/controls",
            "_model_module_version": "1.5.0",
            "_model_name": "HTMLModel",
            "_view_count": null,
            "_view_module": "@jupyter-widgets/controls",
            "_view_module_version": "1.5.0",
            "_view_name": "HTMLView",
            "description": "",
            "description_tooltip": null,
            "layout": "IPY_MODEL_ba75b007b7754ecea21186ae76f9b334",
            "placeholder": "​",
            "style": "IPY_MODEL_d0d44a39cf864861ad004cd504aa4990",
            "value": "Downloading: 100%"
          }
        },
        "8836afd870044153a3b43fbad73a05c2": {
          "model_module": "@jupyter-widgets/controls",
          "model_module_version": "1.5.0",
          "model_name": "ProgressStyleModel",
          "state": {
            "_model_module": "@jupyter-widgets/controls",
            "_model_module_version": "1.5.0",
            "_model_name": "ProgressStyleModel",
            "_view_count": null,
            "_view_module": "@jupyter-widgets/base",
            "_view_module_version": "1.2.0",
            "_view_name": "StyleView",
            "bar_color": null,
            "description_width": ""
          }
        },
        "8acafca34ee84b7da066db22ed4f82a2": {
          "model_module": "@jupyter-widgets/controls",
          "model_module_version": "1.5.0",
          "model_name": "DescriptionStyleModel",
          "state": {
            "_model_module": "@jupyter-widgets/controls",
            "_model_module_version": "1.5.0",
            "_model_name": "DescriptionStyleModel",
            "_view_count": null,
            "_view_module": "@jupyter-widgets/base",
            "_view_module_version": "1.2.0",
            "_view_name": "StyleView",
            "description_width": ""
          }
        },
        "8e9b5f3f3d6549a6870f48880d0411e1": {
          "model_module": "@jupyter-widgets/base",
          "model_module_version": "1.2.0",
          "model_name": "LayoutModel",
          "state": {
            "_model_module": "@jupyter-widgets/base",
            "_model_module_version": "1.2.0",
            "_model_name": "LayoutModel",
            "_view_count": null,
            "_view_module": "@jupyter-widgets/base",
            "_view_module_version": "1.2.0",
            "_view_name": "LayoutView",
            "align_content": null,
            "align_items": null,
            "align_self": null,
            "border": null,
            "bottom": null,
            "display": null,
            "flex": null,
            "flex_flow": null,
            "grid_area": null,
            "grid_auto_columns": null,
            "grid_auto_flow": null,
            "grid_auto_rows": null,
            "grid_column": null,
            "grid_gap": null,
            "grid_row": null,
            "grid_template_areas": null,
            "grid_template_columns": null,
            "grid_template_rows": null,
            "height": null,
            "justify_content": null,
            "justify_items": null,
            "left": null,
            "margin": null,
            "max_height": null,
            "max_width": null,
            "min_height": null,
            "min_width": null,
            "object_fit": null,
            "object_position": null,
            "order": null,
            "overflow": null,
            "overflow_x": null,
            "overflow_y": null,
            "padding": null,
            "right": null,
            "top": null,
            "visibility": null,
            "width": null
          }
        },
        "9f12c886a5704781bb2fc144781ffc77": {
          "model_module": "@jupyter-widgets/controls",
          "model_module_version": "1.5.0",
          "model_name": "DescriptionStyleModel",
          "state": {
            "_model_module": "@jupyter-widgets/controls",
            "_model_module_version": "1.5.0",
            "_model_name": "DescriptionStyleModel",
            "_view_count": null,
            "_view_module": "@jupyter-widgets/base",
            "_view_module_version": "1.2.0",
            "_view_name": "StyleView",
            "description_width": ""
          }
        },
        "9f9d7e0013fb46f68dc501237de46346": {
          "model_module": "@jupyter-widgets/controls",
          "model_module_version": "1.5.0",
          "model_name": "DescriptionStyleModel",
          "state": {
            "_model_module": "@jupyter-widgets/controls",
            "_model_module_version": "1.5.0",
            "_model_name": "DescriptionStyleModel",
            "_view_count": null,
            "_view_module": "@jupyter-widgets/base",
            "_view_module_version": "1.2.0",
            "_view_name": "StyleView",
            "description_width": ""
          }
        },
        "a44bfe3c43a7487487644e5a6f730bf6": {
          "model_module": "@jupyter-widgets/base",
          "model_module_version": "1.2.0",
          "model_name": "LayoutModel",
          "state": {
            "_model_module": "@jupyter-widgets/base",
            "_model_module_version": "1.2.0",
            "_model_name": "LayoutModel",
            "_view_count": null,
            "_view_module": "@jupyter-widgets/base",
            "_view_module_version": "1.2.0",
            "_view_name": "LayoutView",
            "align_content": null,
            "align_items": null,
            "align_self": null,
            "border": null,
            "bottom": null,
            "display": null,
            "flex": null,
            "flex_flow": null,
            "grid_area": null,
            "grid_auto_columns": null,
            "grid_auto_flow": null,
            "grid_auto_rows": null,
            "grid_column": null,
            "grid_gap": null,
            "grid_row": null,
            "grid_template_areas": null,
            "grid_template_columns": null,
            "grid_template_rows": null,
            "height": null,
            "justify_content": null,
            "justify_items": null,
            "left": null,
            "margin": null,
            "max_height": null,
            "max_width": null,
            "min_height": null,
            "min_width": null,
            "object_fit": null,
            "object_position": null,
            "order": null,
            "overflow": null,
            "overflow_x": null,
            "overflow_y": null,
            "padding": null,
            "right": null,
            "top": null,
            "visibility": null,
            "width": null
          }
        },
        "ac033ba5e2a4476e801de552fe75b041": {
          "model_module": "@jupyter-widgets/base",
          "model_module_version": "1.2.0",
          "model_name": "LayoutModel",
          "state": {
            "_model_module": "@jupyter-widgets/base",
            "_model_module_version": "1.2.0",
            "_model_name": "LayoutModel",
            "_view_count": null,
            "_view_module": "@jupyter-widgets/base",
            "_view_module_version": "1.2.0",
            "_view_name": "LayoutView",
            "align_content": null,
            "align_items": null,
            "align_self": null,
            "border": null,
            "bottom": null,
            "display": null,
            "flex": null,
            "flex_flow": null,
            "grid_area": null,
            "grid_auto_columns": null,
            "grid_auto_flow": null,
            "grid_auto_rows": null,
            "grid_column": null,
            "grid_gap": null,
            "grid_row": null,
            "grid_template_areas": null,
            "grid_template_columns": null,
            "grid_template_rows": null,
            "height": null,
            "justify_content": null,
            "justify_items": null,
            "left": null,
            "margin": null,
            "max_height": null,
            "max_width": null,
            "min_height": null,
            "min_width": null,
            "object_fit": null,
            "object_position": null,
            "order": null,
            "overflow": null,
            "overflow_x": null,
            "overflow_y": null,
            "padding": null,
            "right": null,
            "top": null,
            "visibility": null,
            "width": null
          }
        },
        "ad9c958f006545039a6c01f23ee7c3a5": {
          "model_module": "@jupyter-widgets/controls",
          "model_module_version": "1.5.0",
          "model_name": "ProgressStyleModel",
          "state": {
            "_model_module": "@jupyter-widgets/controls",
            "_model_module_version": "1.5.0",
            "_model_name": "ProgressStyleModel",
            "_view_count": null,
            "_view_module": "@jupyter-widgets/base",
            "_view_module_version": "1.2.0",
            "_view_name": "StyleView",
            "bar_color": null,
            "description_width": ""
          }
        },
        "aef070f30c8642c99c76493b68243594": {
          "model_module": "@jupyter-widgets/controls",
          "model_module_version": "1.5.0",
          "model_name": "HTMLModel",
          "state": {
            "_dom_classes": [],
            "_model_module": "@jupyter-widgets/controls",
            "_model_module_version": "1.5.0",
            "_model_name": "HTMLModel",
            "_view_count": null,
            "_view_module": "@jupyter-widgets/controls",
            "_view_module_version": "1.5.0",
            "_view_name": "HTMLView",
            "description": "",
            "description_tooltip": null,
            "layout": "IPY_MODEL_339b3e1233294d49a546684157ebdfa4",
            "placeholder": "​",
            "style": "IPY_MODEL_21784535fa814f02ad79ae6670e6186f",
            "value": "Downloading: 100%"
          }
        },
        "af07d00bda0a451e916c5d62abfff113": {
          "model_module": "@jupyter-widgets/base",
          "model_module_version": "1.2.0",
          "model_name": "LayoutModel",
          "state": {
            "_model_module": "@jupyter-widgets/base",
            "_model_module_version": "1.2.0",
            "_model_name": "LayoutModel",
            "_view_count": null,
            "_view_module": "@jupyter-widgets/base",
            "_view_module_version": "1.2.0",
            "_view_name": "LayoutView",
            "align_content": null,
            "align_items": null,
            "align_self": null,
            "border": null,
            "bottom": null,
            "display": null,
            "flex": null,
            "flex_flow": null,
            "grid_area": null,
            "grid_auto_columns": null,
            "grid_auto_flow": null,
            "grid_auto_rows": null,
            "grid_column": null,
            "grid_gap": null,
            "grid_row": null,
            "grid_template_areas": null,
            "grid_template_columns": null,
            "grid_template_rows": null,
            "height": null,
            "justify_content": null,
            "justify_items": null,
            "left": null,
            "margin": null,
            "max_height": null,
            "max_width": null,
            "min_height": null,
            "min_width": null,
            "object_fit": null,
            "object_position": null,
            "order": null,
            "overflow": null,
            "overflow_x": null,
            "overflow_y": null,
            "padding": null,
            "right": null,
            "top": null,
            "visibility": null,
            "width": null
          }
        },
        "b29b5c5020d54244bd81661e0d2f23cc": {
          "model_module": "@jupyter-widgets/base",
          "model_module_version": "1.2.0",
          "model_name": "LayoutModel",
          "state": {
            "_model_module": "@jupyter-widgets/base",
            "_model_module_version": "1.2.0",
            "_model_name": "LayoutModel",
            "_view_count": null,
            "_view_module": "@jupyter-widgets/base",
            "_view_module_version": "1.2.0",
            "_view_name": "LayoutView",
            "align_content": null,
            "align_items": null,
            "align_self": null,
            "border": null,
            "bottom": null,
            "display": null,
            "flex": null,
            "flex_flow": null,
            "grid_area": null,
            "grid_auto_columns": null,
            "grid_auto_flow": null,
            "grid_auto_rows": null,
            "grid_column": null,
            "grid_gap": null,
            "grid_row": null,
            "grid_template_areas": null,
            "grid_template_columns": null,
            "grid_template_rows": null,
            "height": null,
            "justify_content": null,
            "justify_items": null,
            "left": null,
            "margin": null,
            "max_height": null,
            "max_width": null,
            "min_height": null,
            "min_width": null,
            "object_fit": null,
            "object_position": null,
            "order": null,
            "overflow": null,
            "overflow_x": null,
            "overflow_y": null,
            "padding": null,
            "right": null,
            "top": null,
            "visibility": null,
            "width": null
          }
        },
        "ba75b007b7754ecea21186ae76f9b334": {
          "model_module": "@jupyter-widgets/base",
          "model_module_version": "1.2.0",
          "model_name": "LayoutModel",
          "state": {
            "_model_module": "@jupyter-widgets/base",
            "_model_module_version": "1.2.0",
            "_model_name": "LayoutModel",
            "_view_count": null,
            "_view_module": "@jupyter-widgets/base",
            "_view_module_version": "1.2.0",
            "_view_name": "LayoutView",
            "align_content": null,
            "align_items": null,
            "align_self": null,
            "border": null,
            "bottom": null,
            "display": null,
            "flex": null,
            "flex_flow": null,
            "grid_area": null,
            "grid_auto_columns": null,
            "grid_auto_flow": null,
            "grid_auto_rows": null,
            "grid_column": null,
            "grid_gap": null,
            "grid_row": null,
            "grid_template_areas": null,
            "grid_template_columns": null,
            "grid_template_rows": null,
            "height": null,
            "justify_content": null,
            "justify_items": null,
            "left": null,
            "margin": null,
            "max_height": null,
            "max_width": null,
            "min_height": null,
            "min_width": null,
            "object_fit": null,
            "object_position": null,
            "order": null,
            "overflow": null,
            "overflow_x": null,
            "overflow_y": null,
            "padding": null,
            "right": null,
            "top": null,
            "visibility": null,
            "width": null
          }
        },
        "bb26d054ce9e4b94bbd5f69ace5882f8": {
          "model_module": "@jupyter-widgets/controls",
          "model_module_version": "1.5.0",
          "model_name": "HBoxModel",
          "state": {
            "_dom_classes": [],
            "_model_module": "@jupyter-widgets/controls",
            "_model_module_version": "1.5.0",
            "_model_name": "HBoxModel",
            "_view_count": null,
            "_view_module": "@jupyter-widgets/controls",
            "_view_module_version": "1.5.0",
            "_view_name": "HBoxView",
            "box_style": "",
            "children": [
              "IPY_MODEL_aef070f30c8642c99c76493b68243594",
              "IPY_MODEL_3f4f8b76c3d94f3f945a21cd9cdbb957",
              "IPY_MODEL_cb0c16a6e9224f519ab0db80c37c7a4a"
            ],
            "layout": "IPY_MODEL_f191a89de7d3462fb81d678b3f1064b6"
          }
        },
        "cb0c16a6e9224f519ab0db80c37c7a4a": {
          "model_module": "@jupyter-widgets/controls",
          "model_module_version": "1.5.0",
          "model_name": "HTMLModel",
          "state": {
            "_dom_classes": [],
            "_model_module": "@jupyter-widgets/controls",
            "_model_module_version": "1.5.0",
            "_model_name": "HTMLModel",
            "_view_count": null,
            "_view_module": "@jupyter-widgets/controls",
            "_view_module_version": "1.5.0",
            "_view_name": "HTMLView",
            "description": "",
            "description_tooltip": null,
            "layout": "IPY_MODEL_0fe04946b65d43da83eccda28c08f276",
            "placeholder": "​",
            "style": "IPY_MODEL_d9babe9d648e41a38384388514ab79e1",
            "value": " 232k/232k [00:00&lt;00:00, 2.00MB/s]"
          }
        },
        "cc8d70ee183a4d27993601a36aaea1a7": {
          "model_module": "@jupyter-widgets/controls",
          "model_module_version": "1.5.0",
          "model_name": "HTMLModel",
          "state": {
            "_dom_classes": [],
            "_model_module": "@jupyter-widgets/controls",
            "_model_module_version": "1.5.0",
            "_model_name": "HTMLModel",
            "_view_count": null,
            "_view_module": "@jupyter-widgets/controls",
            "_view_module_version": "1.5.0",
            "_view_name": "HTMLView",
            "description": "",
            "description_tooltip": null,
            "layout": "IPY_MODEL_5ed080bb48584550ac12503d44c31f21",
            "placeholder": "​",
            "style": "IPY_MODEL_8acafca34ee84b7da066db22ed4f82a2",
            "value": " 28.0/28.0 [00:00&lt;00:00, 935B/s]"
          }
        },
        "d0d44a39cf864861ad004cd504aa4990": {
          "model_module": "@jupyter-widgets/controls",
          "model_module_version": "1.5.0",
          "model_name": "DescriptionStyleModel",
          "state": {
            "_model_module": "@jupyter-widgets/controls",
            "_model_module_version": "1.5.0",
            "_model_name": "DescriptionStyleModel",
            "_view_count": null,
            "_view_module": "@jupyter-widgets/base",
            "_view_module_version": "1.2.0",
            "_view_name": "StyleView",
            "description_width": ""
          }
        },
        "d9babe9d648e41a38384388514ab79e1": {
          "model_module": "@jupyter-widgets/controls",
          "model_module_version": "1.5.0",
          "model_name": "DescriptionStyleModel",
          "state": {
            "_model_module": "@jupyter-widgets/controls",
            "_model_module_version": "1.5.0",
            "_model_name": "DescriptionStyleModel",
            "_view_count": null,
            "_view_module": "@jupyter-widgets/base",
            "_view_module_version": "1.2.0",
            "_view_name": "StyleView",
            "description_width": ""
          }
        },
        "dcca6b83c82a4b7a9d89168e4ea04ce2": {
          "model_module": "@jupyter-widgets/controls",
          "model_module_version": "1.5.0",
          "model_name": "FloatProgressModel",
          "state": {
            "_dom_classes": [],
            "_model_module": "@jupyter-widgets/controls",
            "_model_module_version": "1.5.0",
            "_model_name": "FloatProgressModel",
            "_view_count": null,
            "_view_module": "@jupyter-widgets/controls",
            "_view_module_version": "1.5.0",
            "_view_name": "ProgressView",
            "bar_style": "success",
            "description": "",
            "description_tooltip": null,
            "layout": "IPY_MODEL_675221c66df14159be0ca3e1048737b7",
            "max": 440473133,
            "min": 0,
            "orientation": "horizontal",
            "style": "IPY_MODEL_ad9c958f006545039a6c01f23ee7c3a5",
            "value": 440473133
          }
        },
        "df323f54a5f54394a412f577f6d57ea7": {
          "model_module": "@jupyter-widgets/controls",
          "model_module_version": "1.5.0",
          "model_name": "DescriptionStyleModel",
          "state": {
            "_model_module": "@jupyter-widgets/controls",
            "_model_module_version": "1.5.0",
            "_model_name": "DescriptionStyleModel",
            "_view_count": null,
            "_view_module": "@jupyter-widgets/base",
            "_view_module_version": "1.2.0",
            "_view_name": "StyleView",
            "description_width": ""
          }
        },
        "e6f967173d3041029274988cc7b0f594": {
          "model_module": "@jupyter-widgets/controls",
          "model_module_version": "1.5.0",
          "model_name": "HTMLModel",
          "state": {
            "_dom_classes": [],
            "_model_module": "@jupyter-widgets/controls",
            "_model_module_version": "1.5.0",
            "_model_name": "HTMLModel",
            "_view_count": null,
            "_view_module": "@jupyter-widgets/controls",
            "_view_module_version": "1.5.0",
            "_view_name": "HTMLView",
            "description": "",
            "description_tooltip": null,
            "layout": "IPY_MODEL_af07d00bda0a451e916c5d62abfff113",
            "placeholder": "​",
            "style": "IPY_MODEL_9f9d7e0013fb46f68dc501237de46346",
            "value": "Downloading: 100%"
          }
        },
        "f191a89de7d3462fb81d678b3f1064b6": {
          "model_module": "@jupyter-widgets/base",
          "model_module_version": "1.2.0",
          "model_name": "LayoutModel",
          "state": {
            "_model_module": "@jupyter-widgets/base",
            "_model_module_version": "1.2.0",
            "_model_name": "LayoutModel",
            "_view_count": null,
            "_view_module": "@jupyter-widgets/base",
            "_view_module_version": "1.2.0",
            "_view_name": "LayoutView",
            "align_content": null,
            "align_items": null,
            "align_self": null,
            "border": null,
            "bottom": null,
            "display": null,
            "flex": null,
            "flex_flow": null,
            "grid_area": null,
            "grid_auto_columns": null,
            "grid_auto_flow": null,
            "grid_auto_rows": null,
            "grid_column": null,
            "grid_gap": null,
            "grid_row": null,
            "grid_template_areas": null,
            "grid_template_columns": null,
            "grid_template_rows": null,
            "height": null,
            "justify_content": null,
            "justify_items": null,
            "left": null,
            "margin": null,
            "max_height": null,
            "max_width": null,
            "min_height": null,
            "min_width": null,
            "object_fit": null,
            "object_position": null,
            "order": null,
            "overflow": null,
            "overflow_x": null,
            "overflow_y": null,
            "padding": null,
            "right": null,
            "top": null,
            "visibility": null,
            "width": null
          }
        }
      }
    }
  },
  "nbformat": 4,
  "nbformat_minor": 0
}